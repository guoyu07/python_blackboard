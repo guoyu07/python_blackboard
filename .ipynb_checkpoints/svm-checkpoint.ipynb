{
 "cells": [
  {
   "cell_type": "markdown",
   "metadata": {},
   "source": [
    "# 支持向量机\n",
    "\n",
    "## 最大间距\n",
    "SVM最关键的点在于找到数据中最大间距（margin）的方法。\n",
    "\n",
    "## 向量点乘\n",
    "$X^T_i \\cdot X_j$为两个向量的点积，是向量 $X_j$ 到另一个向量 $X_i$ 的投影，点积的值为投影长度。这个值还表示两个向量指向相同方向的程度，换句话说就是向量的相似度，如下表所示：\n",
    "\n",
    "$X^T_i\\cdot X_j \\quad$ | $X^T_i$ 与 $X_j$相似度\n",
    "----|----\n",
    "等于0|相互垂直\n",
    "大于0|指向方向相同\n",
    "小于0|指向方向相反\n",
    "\n",
    "## 支持向量\n",
    "数据中能支持将数据最大分离的这部分数据，叫做支持向量。  \n",
    "\n",
    "## 投影\n",
    "无法使用线性方式比较数据时，可以采用投影到高维空间进行比较。\n",
    "\n",
    "## 核方法\n",
    "使用线性变换将数据投影到高维空间，然后在高维空间进行平移操作，将数据分离。将数据通过函数变换，转换为其他**相似性**度量的方法，称为核方法（Kernel trick），这个函数称为核函数。多项式核函数的一般形式：  \n",
    "<center>$\\large K(X, Y)=(X^TY + C)^p$  &nbsp;&nbsp;&nbsp;&nbsp; *C 为常量*</center>  \n",
    "核方法需要满足Mercer条件:\n"
   ]
  },
  {
   "cell_type": "code",
   "execution_count": null,
   "metadata": {
    "collapsed": true
   },
   "outputs": [],
   "source": []
  }
 ],
 "metadata": {
  "kernelspec": {
   "display_name": "Python 2",
   "language": "python",
   "name": "python2"
  },
  "language_info": {
   "codemirror_mode": {
    "name": "ipython",
    "version": 2
   },
   "file_extension": ".py",
   "mimetype": "text/x-python",
   "name": "python",
   "nbconvert_exporter": "python",
   "pygments_lexer": "ipython2",
   "version": "2.7.13"
  }
 },
 "nbformat": 4,
 "nbformat_minor": 2
}
