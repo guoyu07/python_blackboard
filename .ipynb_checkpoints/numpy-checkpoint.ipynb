{
 "cells": [
  {
   "cell_type": "code",
   "execution_count": 1,
   "metadata": {
    "collapsed": true,
    "run_control": {
     "frozen": false,
     "read_only": false
    }
   },
   "outputs": [],
   "source": [
    "import numpy as np"
   ]
  },
  {
   "cell_type": "markdown",
   "metadata": {
    "run_control": {
     "frozen": false,
     "read_only": false
    }
   },
   "source": [
    "# numpy.random.rand\n",
    "numpy.random.rand 返回指定维度、元素在[0,1)区间随机的数组  \n",
    ". 如果不指定形状，则返回一个浮点数"
   ]
  },
  {
   "cell_type": "code",
   "execution_count": 15,
   "metadata": {
    "collapsed": false,
    "run_control": {
     "frozen": false,
     "read_only": false
    }
   },
   "outputs": [
    {
     "name": "stdout",
     "output_type": "stream",
     "text": [
      "[[ 0.31402238  0.99636792  0.23935676]\n",
      " [ 0.56081952  0.78428358  0.49387835]\n",
      " [ 0.00644813  0.88178774  0.51079476]\n",
      " [ 0.17338848  0.64150994  0.67155235]]\n",
      "0.654303698053\n"
     ]
    }
   ],
   "source": [
    "print np.random.rand(4, 3)\n",
    "print np.random.rand()"
   ]
  },
  {
   "cell_type": "markdown",
   "metadata": {
    "run_control": {
     "frozen": false,
     "read_only": false
    }
   },
   "source": [
    "# numpy.random.randint\n",
    "numpy.random.randint 返回指定范围的整数  \n",
    ". 不指定形状时返回一个整数，指定形状时返回指定形状的数组"
   ]
  },
  {
   "cell_type": "code",
   "execution_count": 14,
   "metadata": {
    "collapsed": false,
    "run_control": {
     "frozen": false,
     "read_only": false
    }
   },
   "outputs": [
    {
     "name": "stdout",
     "output_type": "stream",
     "text": [
      "[[8 8 6 3]\n",
      " [5 1 5 2]\n",
      " [1 6 7 2]]\n",
      "5\n"
     ]
    }
   ],
   "source": [
    "print np.random.randint(0, 10, (3,4))\n",
    "print np.random.randint(0, 10)"
   ]
  },
  {
   "cell_type": "markdown",
   "metadata": {
    "run_control": {
     "frozen": false,
     "read_only": false
    }
   },
   "source": [
    "# numpy.random.randn\n",
    "numpy.random.randn 返回指定形状、标准正态分布的数组  \n",
    ". 如果不指定形状，则返回一个浮点数"
   ]
  },
  {
   "cell_type": "code",
   "execution_count": 13,
   "metadata": {
    "collapsed": false,
    "run_control": {
     "frozen": false,
     "read_only": false
    }
   },
   "outputs": [
    {
     "name": "stdout",
     "output_type": "stream",
     "text": [
      "[[-0.4601255  -0.82543936]\n",
      " [-0.93633169  0.33110578]\n",
      " [-2.3773104   0.76073958]\n",
      " [-0.20979464  0.31643713]]\n",
      "0.0987688411604\n"
     ]
    }
   ],
   "source": [
    "print np.random.randn(4, 2)\n",
    "print np.random.randn()"
   ]
  },
  {
   "cell_type": "code",
   "execution_count": null,
   "metadata": {
    "collapsed": false,
    "run_control": {
     "frozen": false,
     "read_only": false
    }
   },
   "outputs": [],
   "source": []
  },
  {
   "cell_type": "code",
   "execution_count": null,
   "metadata": {
    "collapsed": true,
    "run_control": {
     "frozen": false,
     "read_only": false
    }
   },
   "outputs": [],
   "source": []
  }
 ],
 "metadata": {
  "kernelspec": {
   "display_name": "Python 2",
   "language": "python",
   "name": "python2"
  },
  "language_info": {
   "codemirror_mode": {
    "name": "ipython",
    "version": 2
   },
   "file_extension": ".py",
   "mimetype": "text/x-python",
   "name": "python",
   "nbconvert_exporter": "python",
   "pygments_lexer": "ipython2",
   "version": "2.7.13"
  },
  "toc": {
   "colors": {
    "hover_highlight": "#DAA520",
    "running_highlight": "#FF0000",
    "selected_highlight": "#FFD700"
   },
   "moveMenuLeft": true,
   "nav_menu": {
    "height": "68px",
    "width": "252px"
   },
   "navigate_menu": true,
   "number_sections": true,
   "sideBar": true,
   "threshold": 4,
   "toc_cell": false,
   "toc_section_display": "block",
   "toc_window_display": false
  }
 },
 "nbformat": 4,
 "nbformat_minor": 2
}
