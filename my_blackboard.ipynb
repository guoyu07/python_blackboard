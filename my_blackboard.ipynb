{
 "cells": [
  {
   "cell_type": "code",
   "execution_count": 45,
   "metadata": {
    "collapsed": true,
    "deletable": true,
    "editable": true,
    "run_control": {
     "marked": false
    }
   },
   "outputs": [],
   "source": [
    "from IPython.display import display\n",
    "import pandas as pd\n",
    "import numpy as np\n",
    "import matplotlib.pyplot as plt\n",
    "from datetime import datetime\n",
    "import math"
   ]
  },
  {
   "cell_type": "code",
   "execution_count": null,
   "metadata": {
    "collapsed": false,
    "deletable": true,
    "editable": true,
    "run_control": {
     "marked": false
    }
   },
   "outputs": [],
   "source": [
    "a=('145', \"123\")\n",
    "b=[1,2]\n",
    "c={\"a\":1, \"b\":2}\n",
    "print a[0], b[0], c.get('a'), c['a']\n",
    "display(a)"
   ]
  },
  {
   "cell_type": "code",
   "execution_count": null,
   "metadata": {
    "collapsed": false,
    "deletable": true,
    "editable": true,
    "run_control": {
     "marked": false
    }
   },
   "outputs": [],
   "source": [
    "env"
   ]
  },
  {
   "cell_type": "code",
   "execution_count": null,
   "metadata": {
    "collapsed": false,
    "deletable": true,
    "editable": true,
    "run_control": {
     "marked": false
    }
   },
   "outputs": [],
   "source": [
    "pwd"
   ]
  },
  {
   "cell_type": "code",
   "execution_count": null,
   "metadata": {
    "collapsed": false,
    "deletable": true,
    "editable": true,
    "run_control": {
     "marked": false
    }
   },
   "outputs": [],
   "source": [
    "hist"
   ]
  },
  {
   "cell_type": "code",
   "execution_count": null,
   "metadata": {
    "collapsed": true,
    "deletable": true,
    "editable": true,
    "run_control": {
     "marked": false
    }
   },
   "outputs": [],
   "source": [
    "%magic"
   ]
  },
  {
   "cell_type": "code",
   "execution_count": null,
   "metadata": {
    "collapsed": false,
    "deletable": true,
    "editable": true,
    "run_control": {
     "marked": false
    }
   },
   "outputs": [],
   "source": [
    "[i for i in range(10)]"
   ]
  },
  {
   "cell_type": "code",
   "execution_count": null,
   "metadata": {
    "collapsed": false,
    "deletable": true,
    "editable": true,
    "run_control": {
     "marked": false
    }
   },
   "outputs": [],
   "source": [
    "[i*i for i in range(10)]"
   ]
  },
  {
   "cell_type": "code",
   "execution_count": null,
   "metadata": {
    "collapsed": false,
    "deletable": true,
    "editable": true,
    "run_control": {
     "marked": false
    }
   },
   "outputs": [],
   "source": [
    "a=(i*10 for i in range(10))"
   ]
  },
  {
   "cell_type": "code",
   "execution_count": null,
   "metadata": {
    "collapsed": false,
    "deletable": true,
    "editable": true,
    "run_control": {
     "marked": false
    }
   },
   "outputs": [],
   "source": [
    "display(a)"
   ]
  },
  {
   "cell_type": "code",
   "execution_count": null,
   "metadata": {
    "collapsed": false,
    "deletable": true,
    "editable": true,
    "run_control": {
     "marked": false
    }
   },
   "outputs": [],
   "source": [
    "for m in a :\n",
    "    print m"
   ]
  },
  {
   "cell_type": "code",
   "execution_count": null,
   "metadata": {
    "collapsed": false,
    "deletable": true,
    "editable": true,
    "run_control": {
     "marked": false
    }
   },
   "outputs": [],
   "source": [
    "print i,m"
   ]
  },
  {
   "cell_type": "code",
   "execution_count": null,
   "metadata": {
    "collapsed": false,
    "deletable": true,
    "editable": true,
    "run_control": {
     "marked": false
    }
   },
   "outputs": [],
   "source": [
    "print ['hi'] * 4, ('hi',) * 4"
   ]
  },
  {
   "cell_type": "code",
   "execution_count": null,
   "metadata": {
    "collapsed": false,
    "deletable": true,
    "editable": true,
    "run_control": {
     "marked": false
    }
   },
   "outputs": [],
   "source": [
    "list((\"abcd\", \"efg\"))"
   ]
  },
  {
   "cell_type": "code",
   "execution_count": null,
   "metadata": {
    "collapsed": false,
    "deletable": true,
    "editable": true,
    "run_control": {
     "marked": false
    }
   },
   "outputs": [],
   "source": [
    "tuples = list(zip(*[\n",
    "    ['bar1', 'bar2', 'baz1', 'baz2','foo1', 'foo2', 'qux1', 'qux2'],\n",
    "    ['10', '20', '30', '40','50', '60', '70', '80']\n",
    "]))\n",
    "print tuples\n",
    "\n",
    "index = pd.MultiIndex.from_tuples(tuples, names=['first', 'second'])\n",
    "print(index)\n",
    "#display(index)\n",
    "\n",
    "df = pd.DataFrame(np.random.randn(8, 2), index=index, columns=['A', 'B'])\n",
    "print df\n",
    "display(df)\n",
    "\n",
    "df2 = df[:4]\n",
    "print df2\n",
    "display(df2)"
   ]
  },
  {
   "cell_type": "code",
   "execution_count": null,
   "metadata": {
    "collapsed": false,
    "deletable": true,
    "editable": true,
    "run_control": {
     "marked": false
    }
   },
   "outputs": [],
   "source": [
    "stacked = df2.stack()\n",
    "print stacked\n",
    "display(stacked)\n",
    "\n",
    "stacked.unstack()"
   ]
  },
  {
   "cell_type": "code",
   "execution_count": null,
   "metadata": {
    "collapsed": false,
    "deletable": true,
    "editable": true,
    "run_control": {
     "marked": false
    }
   },
   "outputs": [],
   "source": [
    "stacked.unstack(0)"
   ]
  },
  {
   "cell_type": "code",
   "execution_count": null,
   "metadata": {
    "collapsed": false,
    "deletable": true,
    "editable": true,
    "run_control": {
     "marked": false
    }
   },
   "outputs": [],
   "source": [
    "print zip(\n",
    "    ['bar', 'bar', 'baz', 'baz','foo', 'foo', 'qux', 'qux'],\n",
    "    ['one', 'two', 'one', 'two','one', 'two', 'one', 'two']\n",
    ")"
   ]
  },
  {
   "cell_type": "code",
   "execution_count": null,
   "metadata": {
    "collapsed": false,
    "deletable": true,
    "editable": true,
    "run_control": {
     "marked": false
    }
   },
   "outputs": [],
   "source": [
    "stacked.unstack(1)"
   ]
  },
  {
   "cell_type": "code",
   "execution_count": null,
   "metadata": {
    "collapsed": false,
    "deletable": true,
    "editable": true,
    "run_control": {
     "marked": false
    }
   },
   "outputs": [],
   "source": [
    "df = pd.DataFrame({'A' : ['one', 'one', 'two', 'three'] * 3,\n",
    "   ......:                    'B' : ['A1', 'B1', 'C1', 'D1', 'E1', 'F1','G1','H1','I1','J1','K1','L1'],\n",
    "   ......:                    'C' : ['foo', 'foo', 'foo', 'bar', 'bar', 'bar'] * 2,\n",
    "   ......:                    'D' : np.random.randn(12),\n",
    "   ......:                    'E' : np.random.randn(12)})\n",
    "print df\n",
    "display(df)"
   ]
  },
  {
   "cell_type": "code",
   "execution_count": null,
   "metadata": {
    "collapsed": false,
    "deletable": true,
    "editable": true,
    "run_control": {
     "marked": false
    }
   },
   "outputs": [],
   "source": [
    "pd.pivot_table(df, values='D', index=['A', 'B'], columns=['C'])"
   ]
  },
  {
   "cell_type": "code",
   "execution_count": null,
   "metadata": {
    "collapsed": false,
    "deletable": true,
    "editable": true,
    "run_control": {
     "marked": false
    }
   },
   "outputs": [],
   "source": [
    "rng = pd.date_range('1/1/2012', periods=100, freq='S')\n",
    "print(len(rng))\n",
    "ts = pd.Series(np.random.randint(0, 500, len(rng)), index=rng)\n",
    "ts.resample('5Min').sum()"
   ]
  },
  {
   "cell_type": "code",
   "execution_count": null,
   "metadata": {
    "collapsed": false,
    "deletable": true,
    "editable": true,
    "run_control": {
     "marked": false
    }
   },
   "outputs": [],
   "source": [
    "from pylab import *\n",
    "%matplotlib inline\n",
    "plot(arange(100))"
   ]
  },
  {
   "cell_type": "code",
   "execution_count": null,
   "metadata": {
    "collapsed": false,
    "deletable": true,
    "editable": true,
    "run_control": {
     "marked": false
    }
   },
   "outputs": [],
   "source": [
    "obj2 = pd.Series([1,2,3,4,5,5,4, nan],index=['a','b','c','d','e','f','g', 'h'])\n",
    "obj2 * 10\n",
    "obj2[obj2 < 5]\n",
    "print obj2\n",
    "obj2.unique()\n",
    "obj2.value_counts()\n",
    "obj2.isin([5])\n",
    "obj2.dropna()\n",
    "print obj2[obj2.isnull()]"
   ]
  },
  {
   "cell_type": "code",
   "execution_count": null,
   "metadata": {
    "collapsed": false,
    "deletable": true,
    "editable": true,
    "run_control": {
     "marked": false
    }
   },
   "outputs": [],
   "source": [
    "data = {\n",
    "    'name' : ['Carl', 'Petter', 'Lucy', 'Job'],\n",
    "    'age': [30, 40, 20, 35],\n",
    "    'gender': ['m', 'm', 'f', 'm']\n",
    "}\n",
    "dt = pd.DataFrame(data, columns=['name', 'age', 'gender', 'weight', 'money', 'debt', 'reward'])\n",
    "dt['weight'] = 10\n",
    "display(dt)\n",
    "dt.sum(axis=1)\n",
    "dt.cumsum()\n",
    "display(dt['age'].value_counts())\n",
    "dt.isin([20])\n",
    "display(dt.dropna(how='all', axis=1))\n",
    "display(dt.fillna(100))\n",
    "display(dt.fillna({'money': 100, 'debt':0}))"
   ]
  },
  {
   "cell_type": "code",
   "execution_count": null,
   "metadata": {
    "collapsed": false,
    "deletable": true,
    "editable": true,
    "run_control": {
     "marked": false
    }
   },
   "outputs": [],
   "source": [
    "dt2 = pd.DataFrame(data, index=[[1,2,3,4],list(dt['name'])], columns=[['basic']*3 + ['finance']*3, list(dt.columns[1:])])\n",
    "dt2.index.names = ['no', 'name']\n",
    "dt2.columns.names = ['a', 'b']\n",
    "display(dt2)\n",
    "dt2['basic', 'age'] = data['age']\n",
    "dt2['basic', 'gender'] = data['gender']\n",
    "dt2['finance', 'money'] = [100] * len(dt2)\n",
    "dt2['finance', 'debt'] = [10] * len(dt2)\n",
    "dt2['finance', 'reward'] = [0] * len(dt2)\n",
    "display(dt2)\n",
    "dt2.loc[:,'finance']['money'].sum()"
   ]
  },
  {
   "cell_type": "code",
   "execution_count": null,
   "metadata": {
    "collapsed": false,
    "deletable": true,
    "editable": true,
    "run_control": {
     "marked": false
    }
   },
   "outputs": [],
   "source": [
    "display(dt2.columns)\n",
    "display(dt2.index)"
   ]
  },
  {
   "cell_type": "code",
   "execution_count": null,
   "metadata": {
    "collapsed": false,
    "deletable": true,
    "editable": true,
    "run_control": {
     "marked": false
    }
   },
   "outputs": [],
   "source": [
    "display(dt2)\n",
    "display(dt2.reset_index())\n",
    "display(dt2.reset_index(drop=True))"
   ]
  },
  {
   "cell_type": "code",
   "execution_count": null,
   "metadata": {
    "collapsed": false,
    "deletable": true,
    "editable": true,
    "run_control": {
     "marked": false
    }
   },
   "outputs": [],
   "source": [
    "%pdb"
   ]
  },
  {
   "cell_type": "code",
   "execution_count": null,
   "metadata": {
    "collapsed": true,
    "deletable": true,
    "editable": true,
    "run_control": {
     "marked": false
    }
   },
   "outputs": [],
   "source": [
    "from datetime import datetime"
   ]
  },
  {
   "cell_type": "code",
   "execution_count": null,
   "metadata": {
    "collapsed": false,
    "deletable": true,
    "editable": true,
    "run_control": {
     "marked": false
    }
   },
   "outputs": [],
   "source": [
    "assert 1==1, \"haha\"\n",
    "print \"yes\""
   ]
  },
  {
   "cell_type": "code",
   "execution_count": null,
   "metadata": {
    "collapsed": false,
    "deletable": true,
    "editable": true,
    "run_control": {
     "marked": false
    }
   },
   "outputs": [],
   "source": [
    "import string\n",
    "string.find(\"abc\", \"q\")"
   ]
  },
  {
   "cell_type": "code",
   "execution_count": null,
   "metadata": {
    "collapsed": false,
    "deletable": true,
    "editable": true,
    "run_control": {
     "marked": false
    }
   },
   "outputs": [],
   "source": [
    "class HelloClass:\n",
    "    a=0\n",
    "    b=1\n",
    "from DebugTools import *\n",
    "showUserDefinedProperty(HelloClass())"
   ]
  },
  {
   "cell_type": "code",
   "execution_count": null,
   "metadata": {
    "collapsed": false,
    "deletable": true,
    "editable": true,
    "run_control": {
     "marked": false
    }
   },
   "outputs": [],
   "source": [
    "a = np.full((28,28), 255,dtype=np.uint8)\n",
    "b = np.full((28,28), 10,dtype=np.uint8)\n",
    "a-b"
   ]
  },
  {
   "cell_type": "code",
   "execution_count": null,
   "metadata": {
    "collapsed": false,
    "deletable": true,
    "editable": true,
    "run_control": {
     "marked": false
    }
   },
   "outputs": [],
   "source": [
    "a = np.array([[2,3,5]])\n",
    "b = np.array([[4,6, 10]])\n",
    "c = a - b\n",
    "c_t = np.transpose(c)\n",
    "c_mul_c_t = c * c_t\n",
    "sqrt = np.sqrt(c_mul_c_t)\n",
    "print(c)\n",
    "print(c_t)\n",
    "print(c_mul_c_t)\n",
    "print(sqrt)\n",
    "print(np.power(c_mul_c_t, 0.5))"
   ]
  },
  {
   "cell_type": "code",
   "execution_count": null,
   "metadata": {
    "collapsed": false,
    "deletable": true,
    "editable": true,
    "run_control": {
     "marked": false
    },
    "scrolled": true
   },
   "outputs": [],
   "source": [
    "import math\n",
    "x1,y1,x2,y2 = 2,4,7,15\n",
    "d = np.array([x1,y1])\n",
    "e = np.array([x2,y2])\n",
    "f = d - e\n",
    "g = np.transpose(f)\n",
    "h = f * g\n",
    "i = np.sqrt(h)\n",
    "print f\n",
    "print g\n",
    "print h\n",
    "print i\n",
    "print np.dot(f,g)\n",
    "print \"-----------\"\n",
    "sum_pow = math.pow(x1-x2, 2) + math.pow(y1 - y2, 2)\n",
    "print sum_pow\n",
    "print math.sqrt(sum_pow)\n",
    "print \"-----------\"\n",
    "print np.linalg.norm(i,0)\n",
    "print np.linalg.norm(i,1)\n",
    "print np.linalg.norm(i,2)\n",
    "print np.linalg.norm(i,3)\n",
    "print math.pow(math.pow(5, 3) + math.pow(11,3), 1/3.0)"
   ]
  },
  {
   "cell_type": "code",
   "execution_count": null,
   "metadata": {
    "collapsed": false,
    "deletable": true,
    "editable": true,
    "run_control": {
     "marked": false
    }
   },
   "outputs": [],
   "source": [
    "x = np.array([[[1],[2],[3]], [[4],[5],[6]]])\n",
    "print x\n",
    "print \"-------------\"\n",
    "print x[:, np.newaxis]\n",
    "print x.shape\n",
    "print x[:, np.newaxis].shape"
   ]
  },
  {
   "cell_type": "code",
   "execution_count": null,
   "metadata": {
    "collapsed": false,
    "deletable": true,
    "editable": true,
    "run_control": {
     "marked": false
    }
   },
   "outputs": [],
   "source": [
    "a=np.mat('4 3; 2 1')\n",
    "b=np.mat([[1,2],[3,4]])\n",
    "print(a)\n",
    "# [[4 3]\n",
    "#  [2 1]]\n",
    "print(b)\n",
    "# [[1 2]\n",
    "#  [3 4]]\n",
    "print(a*b)\n",
    "# [[13 20]\n",
    "#  [ 5  8]]\n",
    "print a * 10"
   ]
  },
  {
   "cell_type": "code",
   "execution_count": null,
   "metadata": {
    "collapsed": false,
    "deletable": true,
    "editable": true,
    "run_control": {
     "marked": false
    }
   },
   "outputs": [],
   "source": [
    "a=np.array([[4,3],[2,1]])\n",
    "b=np.array([[1,2],[3,4]])\n",
    "print a\n",
    "print b\n",
    "print a*b\n",
    "print np.dot(a,b)"
   ]
  },
  {
   "cell_type": "code",
   "execution_count": null,
   "metadata": {
    "collapsed": false,
    "deletable": true,
    "editable": true,
    "run_control": {
     "marked": false
    }
   },
   "outputs": [],
   "source": [
    "a = np.arange(1,17).reshape(2,4,2)\n",
    "b = np.arange(12,24).reshape(2,3,2)\n",
    "print a\n",
    "print '---------------'\n",
    "print b\n",
    "print '---------------'\n",
    "print np.inner(a,b)\n",
    "print '---------------'\n"
   ]
  },
  {
   "cell_type": "code",
   "execution_count": null,
   "metadata": {
    "collapsed": false,
    "deletable": true,
    "editable": true,
    "run_control": {
     "marked": false
    }
   },
   "outputs": [],
   "source": [
    "m = np.array(\n",
    " [[ 1,  2],\n",
    "  [ 3,  4],\n",
    "  [ 5,  6],\n",
    "  [ 7,  8]])\n",
    "n = np.array(\n",
    " [[12, 13],\n",
    "  [14, 15],\n",
    "  [16, 17]]\n",
    ")\n",
    "print m*n"
   ]
  },
  {
   "cell_type": "code",
   "execution_count": null,
   "metadata": {
    "collapsed": false,
    "deletable": true,
    "editable": true,
    "run_control": {
     "marked": false
    }
   },
   "outputs": [],
   "source": [
    "p = np.mat([\n",
    "    [4,5,8],\n",
    "    [7,9,13],\n",
    "    [10, 20, 6]])\n",
    "print np.linalg.det(p)\n",
    "w,v= np.linalg.eig(p)\n",
    "print w\n",
    "print v"
   ]
  },
  {
   "cell_type": "code",
   "execution_count": null,
   "metadata": {
    "collapsed": false,
    "deletable": true,
    "editable": true,
    "run_control": {
     "marked": false
    }
   },
   "outputs": [],
   "source": [
    "a = np.arange(9).reshape(3,3)\n",
    "b = 2 * a\n",
    "print a\n",
    "print b"
   ]
  },
  {
   "cell_type": "code",
   "execution_count": null,
   "metadata": {
    "collapsed": false,
    "deletable": true,
    "editable": true,
    "run_control": {
     "marked": false
    }
   },
   "outputs": [],
   "source": [
    "np.concatenate([a,b], axis=0)"
   ]
  },
  {
   "cell_type": "code",
   "execution_count": null,
   "metadata": {
    "collapsed": false,
    "deletable": true,
    "editable": true,
    "run_control": {
     "marked": false
    }
   },
   "outputs": [],
   "source": [
    "np.hstack([a,b])"
   ]
  },
  {
   "cell_type": "code",
   "execution_count": null,
   "metadata": {
    "collapsed": false,
    "deletable": true,
    "editable": true,
    "run_control": {
     "marked": false
    }
   },
   "outputs": [],
   "source": [
    "np.vstack([a,b])"
   ]
  },
  {
   "cell_type": "code",
   "execution_count": null,
   "metadata": {
    "collapsed": false,
    "deletable": true,
    "editable": true,
    "run_control": {
     "marked": false
    }
   },
   "outputs": [],
   "source": [
    "np.dstack([a,b])"
   ]
  },
  {
   "cell_type": "code",
   "execution_count": null,
   "metadata": {
    "collapsed": false,
    "deletable": true,
    "editable": true,
    "run_control": {
     "marked": false
    }
   },
   "outputs": [],
   "source": [
    "np.row_stack([a,b])"
   ]
  },
  {
   "cell_type": "code",
   "execution_count": null,
   "metadata": {
    "collapsed": false,
    "deletable": true,
    "editable": true,
    "run_control": {
     "marked": false
    }
   },
   "outputs": [],
   "source": [
    "np.column_stack([a,b])"
   ]
  },
  {
   "cell_type": "code",
   "execution_count": null,
   "metadata": {
    "collapsed": false,
    "deletable": true,
    "editable": true,
    "run_control": {
     "marked": false
    }
   },
   "outputs": [],
   "source": [
    "s = np.array([1,2,3,4])\n",
    "t = s[:3]\n",
    "print s\n",
    "print t\n",
    "s.shape = (2,2)\n",
    "print \"-=-==-=\"\n",
    "print s\n",
    "print t"
   ]
  },
  {
   "cell_type": "code",
   "execution_count": null,
   "metadata": {
    "collapsed": false,
    "deletable": true,
    "editable": true,
    "run_control": {
     "marked": false
    }
   },
   "outputs": [],
   "source": [
    "print a\n",
    "print np.sum(a)\n",
    "print np.sum(a, axis=0)\n",
    "print np.sum(a, axis=1)"
   ]
  },
  {
   "cell_type": "code",
   "execution_count": null,
   "metadata": {
    "collapsed": false,
    "deletable": true,
    "editable": true,
    "run_control": {
     "marked": false
    }
   },
   "outputs": [],
   "source": [
    "np.exp(a)"
   ]
  },
  {
   "cell_type": "code",
   "execution_count": null,
   "metadata": {
    "collapsed": false,
    "deletable": true,
    "editable": true,
    "run_control": {
     "marked": false
    }
   },
   "outputs": [],
   "source": [
    "np.exp2(a)"
   ]
  },
  {
   "cell_type": "code",
   "execution_count": null,
   "metadata": {
    "collapsed": false,
    "deletable": true,
    "editable": true,
    "run_control": {
     "marked": false
    }
   },
   "outputs": [],
   "source": [
    "print math.pow(math.e, 2)\n",
    "print math.log(math.pow(math.e, 2))\n",
    "print np.exp([2])"
   ]
  },
  {
   "cell_type": "code",
   "execution_count": null,
   "metadata": {
    "collapsed": false,
    "deletable": true,
    "editable": true,
    "run_control": {
     "marked": false
    }
   },
   "outputs": [],
   "source": [
    "%matplotlib inline\n",
    "f1 = plt.figure(1)\n",
    "plt.xlabel(\"x\")\n",
    "plt.ylabel(\"y\")\n",
    "x = np.linspace(0, 3, 100)\n",
    "for i in xrange(5):\n",
    "    plt.plot(x, np.exp(i*x/3))\n",
    "plt.show()"
   ]
  },
  {
   "cell_type": "code",
   "execution_count": null,
   "metadata": {
    "collapsed": false,
    "deletable": true,
    "editable": true,
    "run_control": {
     "marked": false
    }
   },
   "outputs": [],
   "source": [
    "plt.plot([0,1],[0,1])\n",
    "plt.xlabel(\"x value\")\n",
    "plt.ylabel(\"y value\")"
   ]
  },
  {
   "cell_type": "code",
   "execution_count": null,
   "metadata": {
    "collapsed": false,
    "deletable": true,
    "editable": true,
    "run_control": {
     "marked": false
    }
   },
   "outputs": [],
   "source": [
    "from matplotlib.figure import Figure\n",
    "from matplotlib.backends.backend_agg import FigureCanvasAgg as FigureCanvas\n",
    "import PIL.Image as Image\n",
    "\n",
    "fig = Figure()\n",
    "canvas = FigureCanvas(fig)\n",
    "ax = fig.add_axes([0.1, 0.1, 0.8, 0.8])\n",
    "line,  = ax.plot([0,1], [0,1])\n",
    "ax.set_title(\"a straight line (OO)\")\n",
    "ax.set_xlabel(\"x value\")\n",
    "ax.set_ylabel(\"y value\")\n",
    "canvas.print_figure(\"demo.png\")\n",
    "display(Image.open(\"demo.png\"))"
   ]
  },
  {
   "cell_type": "code",
   "execution_count": null,
   "metadata": {
    "collapsed": false,
    "run_control": {
     "marked": false
    }
   },
   "outputs": [],
   "source": [
    "import matplotlib\n",
    "print(matplotlib.get_backend())"
   ]
  },
  {
   "cell_type": "code",
   "execution_count": null,
   "metadata": {
    "collapsed": false,
    "run_control": {
     "marked": false
    }
   },
   "outputs": [],
   "source": [
    "print a\n",
    "np.multiply(a, 1.0 / 2)"
   ]
  },
  {
   "cell_type": "code",
   "execution_count": null,
   "metadata": {
    "collapsed": false,
    "run_control": {
     "marked": false
    }
   },
   "outputs": [],
   "source": [
    "a.ravel()"
   ]
  },
  {
   "cell_type": "code",
   "execution_count": null,
   "metadata": {
    "collapsed": false,
    "run_control": {
     "marked": false
    }
   },
   "outputs": [],
   "source": [
    "a.flatten()"
   ]
  },
  {
   "cell_type": "code",
   "execution_count": null,
   "metadata": {
    "collapsed": false,
    "run_control": {
     "marked": false
    }
   },
   "outputs": [],
   "source": [
    "a = np.array([[4, 3, 5], [9, 10, 1]])\n",
    "print a\n",
    "print np.argmax(a)\n",
    "print np.argmax(a, axis=0)\n",
    "print np.argmax(a, axis=1)\n",
    "print np.amax(a)\n",
    "print np.amax(a, axis=0)\n",
    "print np.amax(a, axis=1)"
   ]
  },
  {
   "cell_type": "code",
   "execution_count": null,
   "metadata": {
    "collapsed": false,
    "run_control": {
     "marked": false
    }
   },
   "outputs": [],
   "source": [
    "perm = np.arange(10)\n",
    "print perm\n",
    "np.random.shuffle(perm)\n",
    "print perm"
   ]
  },
  {
   "cell_type": "code",
   "execution_count": null,
   "metadata": {
    "collapsed": false,
    "run_control": {
     "marked": false
    }
   },
   "outputs": [],
   "source": [
    "a = [1, 3, 4, 2, 7, 9, 8]\n",
    "length = len(a)\n",
    "for i in range(0, length):\n",
    "    for j in range(i + 1, length):\n",
    "        if(a[i] > a[j]):\n",
    "            temp = a[i]\n",
    "            a[i] = a[j]\n",
    "            a[j] = temp\n",
    "        j += 1\n",
    "    i += 1\n",
    "print a"
   ]
  },
  {
   "cell_type": "code",
   "execution_count": null,
   "metadata": {
    "collapsed": false
   },
   "outputs": [],
   "source": [
    "def f():\n",
    "    for i in range(1,10, 2):        \n",
    "        yield 'x' + str(i)\n",
    "        print 'haha ' + str(i)\n",
    "\n",
    "sequence = f() \n",
    "\n",
    "print type(sequence)\n",
    "print \"------------\"\n",
    "# for j in sequence:\n",
    "#     pass\n",
    "    "
   ]
  },
  {
   "cell_type": "code",
   "execution_count": null,
   "metadata": {
    "collapsed": false
   },
   "outputs": [],
   "source": [
    "import random\n",
    "def no_limit():\n",
    "    while True:\n",
    "        yield random.randint(1, 100000)\n",
    "\n",
    "#seq 是一个无限序列\n",
    "seq = no_limit()\n",
    "print seq.next()\n",
    "print seq.next()\n",
    "print seq.next()"
   ]
  },
  {
   "cell_type": "code",
   "execution_count": null,
   "metadata": {
    "collapsed": false
   },
   "outputs": [],
   "source": [
    "a = [1,2,3]\n",
    "#a = [None]\n",
    "#print a\n",
    "#print len(a)\n",
    "#print a[0]"
   ]
  },
  {
   "cell_type": "code",
   "execution_count": null,
   "metadata": {
    "collapsed": false
   },
   "outputs": [],
   "source": [
    "a[None:]"
   ]
  },
  {
   "cell_type": "code",
   "execution_count": null,
   "metadata": {
    "collapsed": false
   },
   "outputs": [],
   "source": [
    "np.array([1,2]) + 1"
   ]
  },
  {
   "cell_type": "code",
   "execution_count": null,
   "metadata": {
    "collapsed": false
   },
   "outputs": [],
   "source": [
    "layer = np.array([[3, -1, 3],[2, 4, -5]])\n",
    "weight = np.array([[1], [2], [-1]])\n",
    "\n",
    "print np.dot(layer, weight)"
   ]
  },
  {
   "cell_type": "code",
   "execution_count": null,
   "metadata": {
    "collapsed": false
   },
   "outputs": [],
   "source": [
    "inputs = np.array([[1,0,0], [0,1,0], [1,1,1], [0,0,0]])\n",
    "weight = np.array([[1],[1],[-2]])\n",
    "for inputMatrix in inputs:\n",
    "    print np.dot(inputMatrix, weight)"
   ]
  },
  {
   "cell_type": "code",
   "execution_count": null,
   "metadata": {
    "collapsed": false
   },
   "outputs": [],
   "source": [
    "hl = [\n",
    "        [[1,1], [1,1]],\n",
    "        [[-2], [1]]\n",
    "     ]\n",
    "\n",
    "def threshold(t):\n",
    "    return lambda (x): 0 if x < t else 1\n",
    "\n",
    "def np_threshold(threshold_func, array):\n",
    "    np_array = np.array(array)\n",
    "    #print \"np_threshold >>\", np_array, np_array.flatten()\n",
    "    out = np.array(map(threshold_func, np_array.flatten()))    \n",
    "    #print \"np_threshold >>\", out \n",
    "    return out.reshape(np_array.shape)\n",
    "\n",
    "ol = [threshold(2), threshold(1)]\n",
    "\n",
    "def iterateNetwork(il, hl, ol):\n",
    "    feed = il\n",
    "    for n in xrange(0, len(hl)): \n",
    "        print feed.shape, np.array(hl[n]).shape\n",
    "        product = np.dot(feed, hl[n])\n",
    "        out = np_threshold(ol[n], product)        \n",
    "        print feed, \"*\", hl[n], \"=\", product, \"->\", out , \"|\",product.shape, out.shape\n",
    "        feed = out\n",
    "    return feed\n",
    "\n",
    "iterateNetwork(np.array([[1,0]]), hl, ol)"
   ]
  },
  {
   "cell_type": "code",
   "execution_count": null,
   "metadata": {
    "collapsed": false
   },
   "outputs": [],
   "source": [
    "def threshold(t):\n",
    "    return lambda (x): 0 if x < t else 1\n",
    "t2 = threshold(2)\n",
    "print t2(1)\n",
    "print t2(2)\n",
    "print t2(3)\n",
    "print map(t2, np.array([1,2,3]))\n",
    "a = np.array([[1, 1]])\n",
    "print a, a.flatten()\n",
    "b = np.array(map(t2, a.flatten()))\n",
    "print b\n",
    "b.reshape(a.shape)"
   ]
  },
  {
   "cell_type": "code",
   "execution_count": null,
   "metadata": {
    "collapsed": false
   },
   "outputs": [],
   "source": [
    "def math_func(x):\n",
    "    print np.tanh(x)\n",
    "    print np.tan(x)\n",
    "    print np.exp(x)\n",
    "    print np.sin(x)\n",
    "    print np.cos(x)\n",
    "\n",
    "a1 = [ 1.00860579,  0.02017199, -0.29095596, -0.01500762, -0.01699426, 0.16566066, -0.40681385,  0.6298376 ,  0.27141311,  0.12900216]\n",
    "math_func(a1)"
   ]
  },
  {
   "cell_type": "code",
   "execution_count": null,
   "metadata": {
    "collapsed": false
   },
   "outputs": [],
   "source": [
    "def sigmoid(x):\n",
    "    return np.power(1 + np.power(np.e, x), -1)\n",
    "\n",
    "sigmoid(1)"
   ]
  },
  {
   "cell_type": "code",
   "execution_count": null,
   "metadata": {
    "collapsed": false
   },
   "outputs": [],
   "source": [
    "def calc_diff(a):\n",
    "    length=len(a)\n",
    "    m=a.mean()\n",
    "    diff_sum = 0\n",
    "    diff_square_sum = 0\n",
    "    for n in a:\n",
    "        diff = abs(n - m)\n",
    "        diff_square = diff ** 2\n",
    "        diff_sum += diff\n",
    "        diff_square_sum += diff_square\n",
    "        print diff,diff_sum, diff_square,diff_square_sum\n",
    "    return (m,diff_sum/length,diff_square_sum/length,np.sqrt(diff_square_sum/length))\n",
    "    \n",
    "a=np.array([33219, 36254, 38801, 46335, 46840, 47596, 55130, 56863, 78070, 88830])    \n",
    "b=np.array([38946,43420,49191,50430,50557,52580,53595,54135,60181,62076])\n",
    "c=np.array([18,20,21,18,23,15,17,22,21])\n",
    "calc_diff(c)"
   ]
  },
  {
   "cell_type": "code",
   "execution_count": null,
   "metadata": {
    "collapsed": false
   },
   "outputs": [],
   "source": [
    "import numpy as np\n",
    "\n",
    "'''\n",
    "The following code is to help you play with Numpy, which is a library \n",
    "that provides functions that are especially useful when you have to\n",
    "work with large arrays and matrices of numeric data, like doing \n",
    "matrix matrix multiplications. Also, Numpy is battle tested and \n",
    "optimized so that it runs fast, much faster than if you were working\n",
    "with Python lists directly.\n",
    "'''\n",
    "\n",
    "'''\n",
    "The array object class is the foundation of Numpy, and Numpy arrays are like\n",
    "lists in Python, except that every thing inside an array must be of the\n",
    "same type, like int or float.\n",
    "'''\n",
    "# Change False to True to see Numpy arrays in action\n",
    "if True:\n",
    "    array = np.array([1, 4, 5, 8], float)\n",
    "    print array\n",
    "    print \"\"\n",
    "    array = np.array([[1, 2, 3], [4, 5, 6]], float)  # a 2D array/Matrix\n",
    "    print array\n",
    "\n",
    "'''\n",
    "You can index, slice, and manipulate a Numpy array much like you would with a\n",
    "a Python list.\n",
    "'''\n",
    "# Change False to True to see array indexing and slicing in action\n",
    "if True:\n",
    "    print \"---\"\n",
    "    array = np.array([1, 4, 5, 8], float)\n",
    "    print array\n",
    "    print \"---\"\n",
    "    print array[1]\n",
    "    print \"\"\n",
    "    print array[:2]\n",
    "    print \"\"\n",
    "    array[1] = 5.0\n",
    "    print array[1]\n",
    "\n",
    "# Change False to True to see Matrix indexing and slicing in action\n",
    "if True:\n",
    "    two_D_array = np.array([[1, 2, 3], [4, 5, 6]], float)\n",
    "    print two_D_array\n",
    "    print \"\"\n",
    "    print two_D_array[1][1]\n",
    "    print \"\"\n",
    "    print two_D_array[1, :]\n",
    "    print \"\"\n",
    "    print two_D_array[:, 2]\n",
    "\n",
    "'''\n",
    "Here are some arithmetic operations that you can do with Numpy arrays\n",
    "'''\n",
    "# Change False to True to see Array arithmetics in action\n",
    "if True:\n",
    "    array_1 = np.array([1, 2, 3], float)\n",
    "    array_2 = np.array([5, 2, 6], float)\n",
    "    print array_1 + array_2\n",
    "    print \"\"\n",
    "    print array_1 - array_2\n",
    "    print \"\"\n",
    "    print array_1 * array_2\n",
    "\n",
    "# Change False to True to see Matrix arithmetics in action\n",
    "if True:\n",
    "    array_1 = np.array([[1, 2], [3, 4]], float)\n",
    "    array_2 = np.array([[5, 6], [7, 8]], float)\n",
    "    print array_1 + array_2\n",
    "    print \"\"\n",
    "    print array_1 - array_2\n",
    "    print \"\"\n",
    "    print array_1 * array_2\n",
    "\n",
    "'''\n",
    "In addition to the standard arthimetic operations, Numpy also has a range of\n",
    "other mathematical operations that you can apply to Numpy arrays, such as\n",
    "mean and dot product.\n",
    "\n",
    "Both of these functions will be useful in later programming quizzes.\n",
    "'''\n",
    "if True:\n",
    "    array_1 = np.array([1, 2, 3], float)\n",
    "    array_2 = np.array([[6], [7], [8]], float)\n",
    "    print np.mean(array_1)\n",
    "    print np.mean(array_2)\n",
    "    print \"\"\n",
    "    print np.dot(array_1, array_2)\n"
   ]
  },
  {
   "cell_type": "code",
   "execution_count": null,
   "metadata": {
    "collapsed": false
   },
   "outputs": [],
   "source": [
    "(pow(2,41) - 1 - time.time()*1000)/(365*24*3600*1000)"
   ]
  },
  {
   "cell_type": "code",
   "execution_count": null,
   "metadata": {
    "collapsed": false
   },
   "outputs": [],
   "source": [
    "pow(2,12)-1"
   ]
  },
  {
   "cell_type": "code",
   "execution_count": null,
   "metadata": {
    "collapsed": false
   },
   "outputs": [],
   "source": [
    "def entropy(p):\n",
    "    return -1 * p * math.log(p, 2)\n",
    "\n",
    "#1- 3.0/4*(entropy(2.0/3) + entropy(1.0/3))\n",
    "entropy(1.0) "
   ]
  },
  {
   "cell_type": "code",
   "execution_count": null,
   "metadata": {
    "collapsed": false
   },
   "outputs": [],
   "source": [
    "1-0.9184*3/4"
   ]
  },
  {
   "cell_type": "code",
   "execution_count": null,
   "metadata": {
    "collapsed": true
   },
   "outputs": [],
   "source": [
    "flatten = lambda x: [y for l in x for y in flatten(l)] if type(x) is tuple or type(x) is list else [x]"
   ]
  },
  {
   "cell_type": "code",
   "execution_count": 29,
   "metadata": {
    "collapsed": false
   },
   "outputs": [
    {
     "data": {
      "text/plain": [
       "[12, 4, 13, 20, 5, 10]"
      ]
     },
     "execution_count": 29,
     "metadata": {},
     "output_type": "execute_result"
    }
   ],
   "source": [
    "d=[(1,6),(2,4),(3,7),(6,8),(7,1),(8,4)]\n",
    "y = [7, 8, 16, 44, 50, 68]\n",
    "q=(4,2)\n",
    "\n",
    "def getEuclideanDistance(a,b):\n",
    "    return ((a[0] - b[0]) ** 2 + (a[1] - b[1]) ** 2)**1/2\n",
    "distances = [getEuclideanDistance(q, i) for i in d]\n",
    "distances"
   ]
  },
  {
   "cell_type": "code",
   "execution_count": 30,
   "metadata": {
    "collapsed": false
   },
   "outputs": [
    {
     "data": {
      "text/plain": [
       "(8.0, 42.0)"
      ]
     },
     "execution_count": 30,
     "metadata": {},
     "output_type": "execute_result"
    }
   ],
   "source": [
    "np.average([8]),np.average([8, 50, 68])"
   ]
  },
  {
   "cell_type": "code",
   "execution_count": 31,
   "metadata": {
    "collapsed": false
   },
   "outputs": [
    {
     "data": {
      "text/plain": [
       "[7, 4, 6, 8, 4, 6]"
      ]
     },
     "execution_count": 31,
     "metadata": {},
     "output_type": "execute_result"
    }
   ],
   "source": [
    "def getManhattanDistance(a, b):\n",
    "    return abs(a[0] - b[0]) + abs(a[1] - b[1])\n",
    "distances = [getManhattanDistance(q, i) for i in d]\n",
    "distances"
   ]
  },
  {
   "cell_type": "code",
   "execution_count": 36,
   "metadata": {
    "collapsed": false
   },
   "outputs": [
    {
     "data": {
      "text/plain": [
       "(29.0, 29.800000000000001)"
      ]
     },
     "execution_count": 36,
     "metadata": {},
     "output_type": "execute_result"
    }
   ],
   "source": [
    "np.average([8, 50]),np.average([8,16,50,68,7])"
   ]
  },
  {
   "cell_type": "code",
   "execution_count": 43,
   "metadata": {
    "collapsed": false
   },
   "outputs": [
    {
     "data": {
      "text/plain": [
       "19.931568569324174"
      ]
     },
     "execution_count": 43,
     "metadata": {},
     "output_type": "execute_result"
    }
   ],
   "source": [
    "math.log(1000000, 2)"
   ]
  },
  {
   "cell_type": "code",
   "execution_count": 44,
   "metadata": {
    "collapsed": false
   },
   "outputs": [
    {
     "data": {
      "text/plain": [
       "1048576"
      ]
     },
     "execution_count": 44,
     "metadata": {},
     "output_type": "execute_result"
    }
   ],
   "source": [
    "2**20"
   ]
  },
  {
   "cell_type": "code",
   "execution_count": 58,
   "metadata": {
    "collapsed": false
   },
   "outputs": [
    {
     "name": "stdout",
     "output_type": "stream",
     "text": [
      "17242.47\n",
      "8457.27\n"
     ]
    }
   ],
   "source": [
    "payments=np.array([8,86,9,9,9,21.18,29.13,84,8.3,129.48,4420,46.82,10000,33.70,7.70,5.35,204.41,49.00,10.00,2.5,675.04,-675.04,1.3,92.90,0.5,117.40,2.50,1.95,4.54,7.00,44.5,12.5,1.16,200,10,30,14.63,60,17,2.5,270.88,14.7,8,80,300,2.5,5.5,18,138.24,583.7,3.5,12.5,12])\n",
    "payments.sort()\n",
    "all_pay=payments.sum()\n",
    "print all_pay\n",
    "print all_pay - 8505.6 - 213.43 - 66.17"
   ]
  },
  {
   "cell_type": "markdown",
   "metadata": {},
   "source": []
  },
  {
   "cell_type": "code",
   "execution_count": 52,
   "metadata": {
    "collapsed": false
   },
   "outputs": [
    {
     "data": {
      "text/plain": [
       "2.0"
      ]
     },
     "execution_count": 52,
     "metadata": {},
     "output_type": "execute_result"
    }
   ],
   "source": [
    "math.log(100, 10)"
   ]
  },
  {
   "cell_type": "code",
   "execution_count": 62,
   "metadata": {
    "collapsed": false
   },
   "outputs": [
    {
     "data": {
      "text/plain": [
       "0.5517241379310345"
      ]
     },
     "execution_count": 62,
     "metadata": {},
     "output_type": "execute_result"
    }
   ],
   "source": [
    "0.8/(0.8+0.65)"
   ]
  },
  {
   "cell_type": "code",
   "execution_count": 61,
   "metadata": {
    "collapsed": false
   },
   "outputs": [
    {
     "data": {
      "text/plain": [
       "0.3846153846153846"
      ]
     },
     "execution_count": 61,
     "metadata": {},
     "output_type": "execute_result"
    }
   ],
   "source": [
    "0.25/0.65"
   ]
  },
  {
   "cell_type": "code",
   "execution_count": 63,
   "metadata": {
    "collapsed": false
   },
   "outputs": [
    {
     "data": {
      "text/plain": [
       "(0.1625, 0.017499999999999998, 0.072, 0.049)"
      ]
     },
     "execution_count": 63,
     "metadata": {},
     "output_type": "execute_result"
    }
   ],
   "source": [
    "0.65*0.25,0.35*0.05,0.3*0.24,0.7*0.07"
   ]
  },
  {
   "cell_type": "code",
   "execution_count": 67,
   "metadata": {
    "collapsed": false
   },
   "outputs": [
    {
     "data": {
      "text/plain": [
       "(0.14285714285714288, 0.8)"
      ]
     },
     "execution_count": 67,
     "metadata": {},
     "output_type": "execute_result"
    }
   ],
   "source": [
    "0.05/0.35,0.24/0.3"
   ]
  },
  {
   "cell_type": "code",
   "execution_count": 68,
   "metadata": {
    "collapsed": false
   },
   "outputs": [
    {
     "data": {
      "text/plain": [
       "0.15000000000000002"
      ]
     },
     "execution_count": 68,
     "metadata": {},
     "output_type": "execute_result"
    }
   ],
   "source": [
    "0.5*0.4*0.75"
   ]
  },
  {
   "cell_type": "code",
   "execution_count": 69,
   "metadata": {
    "collapsed": false
   },
   "outputs": [
    {
     "data": {
      "text/plain": [
       "0.2608695652173913"
      ]
     },
     "execution_count": 69,
     "metadata": {},
     "output_type": "execute_result"
    }
   ],
   "source": [
    "6/23.0"
   ]
  },
  {
   "cell_type": "code",
   "execution_count": 91,
   "metadata": {
    "collapsed": false
   },
   "outputs": [
    {
     "name": "stdout",
     "output_type": "stream",
     "text": [
      " 0.1 0.933032991537 1.04137974399 1.10517091808\n",
      "0.2 0.870550563296 1.0844717712 1.22140275816\n",
      "0.3 0.812252396356 1.12934693546 1.34985880758\n",
      "0.4 0.757858283255 1.17607902252 1.49182469764\n",
      "0.5 0.707106781187 1.22474487139 1.6487212707\n",
      "0.6 0.659753955386 1.27542450063 1.82211880039\n",
      "0.7 0.615572206672 1.32820123994 2.01375270747\n",
      "0.8 0.574349177499 1.38316186722 2.22554092849\n",
      "0.9 0.535886731268 1.44039675119 2.45960311116\n",
      "1.0 0.5 1.5 2.71828182846\n",
      "1.1 0.466516495768 1.56206961599 3.00416602395\n",
      "1.2 0.435275281648 1.6267076568 3.32011692274\n",
      "1.3 0.406126198178 1.69402040319 3.66929666762\n",
      "1.4 0.378929141628 1.76411853379 4.05519996684\n",
      "1.5 0.353553390593 1.83711730709 4.48168907034\n",
      "1.6 0.329876977693 1.91313675094 4.9530324244\n",
      "1.7 0.307786103336 1.99230185992 5.47394739173\n",
      "1.8 0.287174588749 2.07474280083 6.04964746441\n",
      "1.9 0.267943365634 2.16059512678 6.68589444228\n",
      "2.0 0.25 2.25 7.38905609893\n"
     ]
    }
   ],
   "source": [
    "a = 0.0\n",
    "for i in range(20):\n",
    "    a+=0.1\n",
    "    print a,pow(0.5,a),pow(1.5,a),math.exp(a)"
   ]
  },
  {
   "cell_type": "markdown",
   "metadata": {},
   "source": [
    "$\\begin{align}\n",
    "&(1) \\quad \\large y_i \\neq G_m(x_i) => I(y_i \\neq G_m(x_i)) = 1 => w_i = w_i \\cdot exp(\\alpha _m \\cdot I(y_i \\neq G_m(x_i))) = w_i \\cdot exp(\\alpha _m)\\\\\n",
    "&(2) \\quad \\large 预测难度越大=>err_m越大 => \\alpha 越小 => w_i \\cdot exp(\\alpha _m) 越小=>\\color{red}{预测难度越大，样本权重越小}\n",
    "\\end{align}$"
   ]
  },
  {
   "cell_type": "markdown",
   "metadata": {
    "collapsed": true
   },
   "source": []
  },
  {
   "cell_type": "code",
   "execution_count": null,
   "metadata": {
    "collapsed": true
   },
   "outputs": [],
   "source": []
  }
 ],
 "metadata": {
  "kernelspec": {
   "display_name": "Python 2",
   "language": "python",
   "name": "python2"
  },
  "language_info": {
   "codemirror_mode": {
    "name": "ipython",
    "version": 2
   },
   "file_extension": ".py",
   "mimetype": "text/x-python",
   "name": "python",
   "nbconvert_exporter": "python",
   "pygments_lexer": "ipython2",
   "version": "2.7.13"
  },
  "toc": {
   "colors": {
    "hover_highlight": "#DAA520",
    "running_highlight": "#FF0000",
    "selected_highlight": "#FFD700"
   },
   "moveMenuLeft": true,
   "nav_menu": {
    "height": "12px",
    "width": "252px"
   },
   "navigate_menu": true,
   "number_sections": true,
   "sideBar": true,
   "threshold": 4,
   "toc_cell": false,
   "toc_section_display": "block",
   "toc_window_display": false
  }
 },
 "nbformat": 4,
 "nbformat_minor": 2
}
