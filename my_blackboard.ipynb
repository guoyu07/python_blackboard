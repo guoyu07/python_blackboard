{
 "cells": [
  {
   "cell_type": "code",
   "execution_count": 1,
   "metadata": {
    "collapsed": true,
    "run_control": {
     "marked": false
    }
   },
   "outputs": [],
   "source": [
    "from IPython.display import display\n",
    "import pandas as pd\n",
    "import numpy as np\n",
    "import matplotlib.pyplot as plt\n",
    "from datetime import datetime\n",
    "import math"
   ]
  },
  {
   "cell_type": "code",
   "execution_count": null,
   "metadata": {
    "collapsed": true,
    "run_control": {
     "marked": false
    }
   },
   "outputs": [],
   "source": [
    "a=('145', \"123\")\n",
    "b=[1,2]\n",
    "c={\"a\":1, \"b\":2}\n",
    "print a[0], b[0], c.get('a'), c['a']\n",
    "display(a)"
   ]
  },
  {
   "cell_type": "code",
   "execution_count": null,
   "metadata": {
    "collapsed": true,
    "run_control": {
     "marked": false
    }
   },
   "outputs": [],
   "source": [
    "env"
   ]
  },
  {
   "cell_type": "code",
   "execution_count": null,
   "metadata": {
    "collapsed": true,
    "run_control": {
     "marked": false
    }
   },
   "outputs": [],
   "source": [
    "pwd"
   ]
  },
  {
   "cell_type": "code",
   "execution_count": null,
   "metadata": {
    "collapsed": true,
    "run_control": {
     "marked": false
    }
   },
   "outputs": [],
   "source": [
    "hist"
   ]
  },
  {
   "cell_type": "code",
   "execution_count": null,
   "metadata": {
    "collapsed": true,
    "run_control": {
     "marked": false
    }
   },
   "outputs": [],
   "source": [
    "%magic"
   ]
  },
  {
   "cell_type": "code",
   "execution_count": null,
   "metadata": {
    "collapsed": true,
    "run_control": {
     "marked": false
    }
   },
   "outputs": [],
   "source": [
    "[i for i in range(10)]"
   ]
  },
  {
   "cell_type": "code",
   "execution_count": null,
   "metadata": {
    "collapsed": true,
    "run_control": {
     "marked": false
    }
   },
   "outputs": [],
   "source": [
    "[i*i for i in range(10)]"
   ]
  },
  {
   "cell_type": "code",
   "execution_count": null,
   "metadata": {
    "collapsed": true,
    "run_control": {
     "marked": false
    }
   },
   "outputs": [],
   "source": [
    "a=(i*10 for i in range(10))"
   ]
  },
  {
   "cell_type": "code",
   "execution_count": null,
   "metadata": {
    "collapsed": true,
    "run_control": {
     "marked": false
    }
   },
   "outputs": [],
   "source": [
    "display(a)"
   ]
  },
  {
   "cell_type": "code",
   "execution_count": null,
   "metadata": {
    "collapsed": true,
    "run_control": {
     "marked": false
    }
   },
   "outputs": [],
   "source": [
    "for m in a :\n",
    "    print m"
   ]
  },
  {
   "cell_type": "code",
   "execution_count": null,
   "metadata": {
    "collapsed": true,
    "run_control": {
     "marked": false
    }
   },
   "outputs": [],
   "source": [
    "print i,m"
   ]
  },
  {
   "cell_type": "code",
   "execution_count": null,
   "metadata": {
    "collapsed": true,
    "run_control": {
     "marked": false
    }
   },
   "outputs": [],
   "source": [
    "print ['hi'] * 4, ('hi',) * 4"
   ]
  },
  {
   "cell_type": "code",
   "execution_count": null,
   "metadata": {
    "collapsed": true,
    "run_control": {
     "marked": false
    }
   },
   "outputs": [],
   "source": [
    "list((\"abcd\", \"efg\"))"
   ]
  },
  {
   "cell_type": "code",
   "execution_count": null,
   "metadata": {
    "collapsed": true,
    "run_control": {
     "marked": false
    }
   },
   "outputs": [],
   "source": [
    "tuples = list(zip(*[\n",
    "    ['bar1', 'bar2', 'baz1', 'baz2','foo1', 'foo2', 'qux1', 'qux2'],\n",
    "    ['10', '20', '30', '40','50', '60', '70', '80']\n",
    "]))\n",
    "print tuples\n",
    "\n",
    "index = pd.MultiIndex.from_tuples(tuples, names=['first', 'second'])\n",
    "print(index)\n",
    "#display(index)\n",
    "\n",
    "df = pd.DataFrame(np.random.randn(8, 2), index=index, columns=['A', 'B'])\n",
    "print df\n",
    "display(df)\n",
    "\n",
    "df2 = df[:4]\n",
    "print df2\n",
    "display(df2)"
   ]
  },
  {
   "cell_type": "code",
   "execution_count": null,
   "metadata": {
    "collapsed": true,
    "run_control": {
     "marked": false
    }
   },
   "outputs": [],
   "source": [
    "stacked = df2.stack()\n",
    "print stacked\n",
    "display(stacked)\n",
    "\n",
    "stacked.unstack()"
   ]
  },
  {
   "cell_type": "code",
   "execution_count": null,
   "metadata": {
    "collapsed": true,
    "run_control": {
     "marked": false
    }
   },
   "outputs": [],
   "source": [
    "stacked.unstack(0)"
   ]
  },
  {
   "cell_type": "code",
   "execution_count": null,
   "metadata": {
    "collapsed": true,
    "run_control": {
     "marked": false
    }
   },
   "outputs": [],
   "source": [
    "print zip(\n",
    "    ['bar', 'bar', 'baz', 'baz','foo', 'foo', 'qux', 'qux'],\n",
    "    ['one', 'two', 'one', 'two','one', 'two', 'one', 'two']\n",
    ")"
   ]
  },
  {
   "cell_type": "code",
   "execution_count": null,
   "metadata": {
    "collapsed": true,
    "run_control": {
     "marked": false
    }
   },
   "outputs": [],
   "source": [
    "stacked.unstack(1)"
   ]
  },
  {
   "cell_type": "code",
   "execution_count": null,
   "metadata": {
    "collapsed": true,
    "run_control": {
     "marked": false
    }
   },
   "outputs": [],
   "source": [
    "df = pd.DataFrame({'A' : ['one', 'one', 'two', 'three'] * 3,\n",
    "   ......:                    'B' : ['A1', 'B1', 'C1', 'D1', 'E1', 'F1','G1','H1','I1','J1','K1','L1'],\n",
    "   ......:                    'C' : ['foo', 'foo', 'foo', 'bar', 'bar', 'bar'] * 2,\n",
    "   ......:                    'D' : np.random.randn(12),\n",
    "   ......:                    'E' : np.random.randn(12)})\n",
    "print df\n",
    "display(df)"
   ]
  },
  {
   "cell_type": "code",
   "execution_count": null,
   "metadata": {
    "collapsed": true,
    "run_control": {
     "marked": false
    }
   },
   "outputs": [],
   "source": [
    "pd.pivot_table(df, values='D', index=['A', 'B'], columns=['C'])"
   ]
  },
  {
   "cell_type": "code",
   "execution_count": null,
   "metadata": {
    "collapsed": true,
    "run_control": {
     "marked": false
    }
   },
   "outputs": [],
   "source": [
    "rng = pd.date_range('1/1/2012', periods=100, freq='S')\n",
    "print(len(rng))\n",
    "ts = pd.Series(np.random.randint(0, 500, len(rng)), index=rng)\n",
    "ts.resample('5Min').sum()"
   ]
  },
  {
   "cell_type": "code",
   "execution_count": null,
   "metadata": {
    "collapsed": true,
    "run_control": {
     "marked": false
    }
   },
   "outputs": [],
   "source": [
    "from pylab import *\n",
    "%matplotlib inline\n",
    "plot(arange(100))"
   ]
  },
  {
   "cell_type": "code",
   "execution_count": null,
   "metadata": {
    "collapsed": true,
    "run_control": {
     "marked": false
    }
   },
   "outputs": [],
   "source": [
    "obj2 = pd.Series([1,2,3,4,5,5,4, nan],index=['a','b','c','d','e','f','g', 'h'])\n",
    "obj2 * 10\n",
    "obj2[obj2 < 5]\n",
    "print obj2\n",
    "obj2.unique()\n",
    "obj2.value_counts()\n",
    "obj2.isin([5])\n",
    "obj2.dropna()\n",
    "print obj2[obj2.isnull()]"
   ]
  },
  {
   "cell_type": "code",
   "execution_count": null,
   "metadata": {
    "collapsed": true,
    "run_control": {
     "marked": false
    }
   },
   "outputs": [],
   "source": [
    "data = {\n",
    "    'name' : ['Carl', 'Petter', 'Lucy', 'Job'],\n",
    "    'age': [30, 40, 20, 35],\n",
    "    'gender': ['m', 'm', 'f', 'm']\n",
    "}\n",
    "dt = pd.DataFrame(data, columns=['name', 'age', 'gender', 'weight', 'money', 'debt', 'reward'])\n",
    "dt['weight'] = 10\n",
    "display(dt)\n",
    "dt.sum(axis=1)\n",
    "dt.cumsum()\n",
    "display(dt['age'].value_counts())\n",
    "dt.isin([20])\n",
    "display(dt.dropna(how='all', axis=1))\n",
    "display(dt.fillna(100))\n",
    "display(dt.fillna({'money': 100, 'debt':0}))"
   ]
  },
  {
   "cell_type": "code",
   "execution_count": null,
   "metadata": {
    "collapsed": true,
    "run_control": {
     "marked": false
    }
   },
   "outputs": [],
   "source": [
    "dt2 = pd.DataFrame(data, index=[[1,2,3,4],list(dt['name'])], columns=[['basic']*3 + ['finance']*3, list(dt.columns[1:])])\n",
    "dt2.index.names = ['no', 'name']\n",
    "dt2.columns.names = ['a', 'b']\n",
    "display(dt2)\n",
    "dt2['basic', 'age'] = data['age']\n",
    "dt2['basic', 'gender'] = data['gender']\n",
    "dt2['finance', 'money'] = [100] * len(dt2)\n",
    "dt2['finance', 'debt'] = [10] * len(dt2)\n",
    "dt2['finance', 'reward'] = [0] * len(dt2)\n",
    "display(dt2)\n",
    "dt2.loc[:,'finance']['money'].sum()"
   ]
  },
  {
   "cell_type": "code",
   "execution_count": null,
   "metadata": {
    "collapsed": true,
    "run_control": {
     "marked": false
    }
   },
   "outputs": [],
   "source": [
    "display(dt2.columns)\n",
    "display(dt2.index)"
   ]
  },
  {
   "cell_type": "code",
   "execution_count": null,
   "metadata": {
    "collapsed": true,
    "run_control": {
     "marked": false
    }
   },
   "outputs": [],
   "source": [
    "display(dt2)\n",
    "display(dt2.reset_index())\n",
    "display(dt2.reset_index(drop=True))"
   ]
  },
  {
   "cell_type": "code",
   "execution_count": null,
   "metadata": {
    "collapsed": true,
    "run_control": {
     "marked": false
    }
   },
   "outputs": [],
   "source": [
    "%pdb"
   ]
  },
  {
   "cell_type": "code",
   "execution_count": null,
   "metadata": {
    "collapsed": true,
    "run_control": {
     "marked": false
    }
   },
   "outputs": [],
   "source": [
    "from datetime import datetime"
   ]
  },
  {
   "cell_type": "code",
   "execution_count": null,
   "metadata": {
    "collapsed": true,
    "run_control": {
     "marked": false
    }
   },
   "outputs": [],
   "source": [
    "assert 1==1, \"haha\"\n",
    "print \"yes\""
   ]
  },
  {
   "cell_type": "code",
   "execution_count": null,
   "metadata": {
    "collapsed": true,
    "run_control": {
     "marked": false
    }
   },
   "outputs": [],
   "source": [
    "import string\n",
    "string.find(\"abc\", \"q\")"
   ]
  },
  {
   "cell_type": "code",
   "execution_count": null,
   "metadata": {
    "collapsed": true,
    "run_control": {
     "marked": false
    }
   },
   "outputs": [],
   "source": [
    "class HelloClass:\n",
    "    a=0\n",
    "    b=1\n",
    "from DebugTools import *\n",
    "showUserDefinedProperty(HelloClass())"
   ]
  },
  {
   "cell_type": "code",
   "execution_count": null,
   "metadata": {
    "collapsed": true,
    "run_control": {
     "marked": false
    }
   },
   "outputs": [],
   "source": [
    "a = np.full((28,28), 255,dtype=np.uint8)\n",
    "b = np.full((28,28), 10,dtype=np.uint8)\n",
    "a-b"
   ]
  },
  {
   "cell_type": "code",
   "execution_count": null,
   "metadata": {
    "collapsed": true,
    "run_control": {
     "marked": false
    }
   },
   "outputs": [],
   "source": [
    "a = np.array([[2,3,5]])\n",
    "b = np.array([[4,6, 10]])\n",
    "c = a - b\n",
    "c_t = np.transpose(c)\n",
    "c_mul_c_t = c * c_t\n",
    "sqrt = np.sqrt(c_mul_c_t)\n",
    "print(c)\n",
    "print(c_t)\n",
    "print(c_mul_c_t)\n",
    "print(sqrt)\n",
    "print(np.power(c_mul_c_t, 0.5))"
   ]
  },
  {
   "cell_type": "code",
   "execution_count": null,
   "metadata": {
    "collapsed": true,
    "run_control": {
     "marked": false
    },
    "scrolled": true
   },
   "outputs": [],
   "source": [
    "import math\n",
    "x1,y1,x2,y2 = 2,4,7,15\n",
    "d = np.array([x1,y1])\n",
    "e = np.array([x2,y2])\n",
    "f = d - e\n",
    "g = np.transpose(f)\n",
    "h = f * g\n",
    "i = np.sqrt(h)\n",
    "print f\n",
    "print g\n",
    "print h\n",
    "print i\n",
    "print np.dot(f,g)\n",
    "print \"-----------\"\n",
    "sum_pow = math.pow(x1-x2, 2) + math.pow(y1 - y2, 2)\n",
    "print sum_pow\n",
    "print math.sqrt(sum_pow)\n",
    "print \"-----------\"\n",
    "print np.linalg.norm(i,0)\n",
    "print np.linalg.norm(i,1)\n",
    "print np.linalg.norm(i,2)\n",
    "print np.linalg.norm(i,3)\n",
    "print math.pow(math.pow(5, 3) + math.pow(11,3), 1/3.0)"
   ]
  },
  {
   "cell_type": "code",
   "execution_count": null,
   "metadata": {
    "collapsed": true,
    "run_control": {
     "marked": false
    }
   },
   "outputs": [],
   "source": [
    "x = np.array([[[1],[2],[3]], [[4],[5],[6]]])\n",
    "print x\n",
    "print \"-------------\"\n",
    "print x[:, np.newaxis]\n",
    "print x.shape\n",
    "print x[:, np.newaxis].shape"
   ]
  },
  {
   "cell_type": "code",
   "execution_count": null,
   "metadata": {
    "collapsed": true,
    "run_control": {
     "marked": false
    }
   },
   "outputs": [],
   "source": [
    "a=np.mat('4 3; 2 1')\n",
    "b=np.mat([[1,2],[3,4]])\n",
    "print(a)\n",
    "# [[4 3]\n",
    "#  [2 1]]\n",
    "print(b)\n",
    "# [[1 2]\n",
    "#  [3 4]]\n",
    "print(a*b)\n",
    "# [[13 20]\n",
    "#  [ 5  8]]\n",
    "print a * 10"
   ]
  },
  {
   "cell_type": "code",
   "execution_count": null,
   "metadata": {
    "collapsed": true,
    "run_control": {
     "marked": false
    }
   },
   "outputs": [],
   "source": [
    "a=np.array([[4,3],[2,1]])\n",
    "b=np.array([[1,2],[3,4]])\n",
    "print a\n",
    "print b\n",
    "print a*b\n",
    "print np.dot(a,b)"
   ]
  },
  {
   "cell_type": "code",
   "execution_count": null,
   "metadata": {
    "collapsed": true,
    "run_control": {
     "marked": false
    }
   },
   "outputs": [],
   "source": [
    "a = np.arange(1,17).reshape(2,4,2)\n",
    "b = np.arange(12,24).reshape(2,3,2)\n",
    "print a\n",
    "print '---------------'\n",
    "print b\n",
    "print '---------------'\n",
    "print np.inner(a,b)\n",
    "print '---------------'\n"
   ]
  },
  {
   "cell_type": "code",
   "execution_count": null,
   "metadata": {
    "collapsed": true,
    "run_control": {
     "marked": false
    }
   },
   "outputs": [],
   "source": [
    "m = np.array(\n",
    " [[ 1,  2],\n",
    "  [ 3,  4],\n",
    "  [ 5,  6],\n",
    "  [ 7,  8]])\n",
    "n = np.array(\n",
    " [[12, 13],\n",
    "  [14, 15],\n",
    "  [16, 17]]\n",
    ")\n",
    "print m*n"
   ]
  },
  {
   "cell_type": "code",
   "execution_count": null,
   "metadata": {
    "collapsed": true,
    "run_control": {
     "marked": false
    }
   },
   "outputs": [],
   "source": [
    "p = np.mat([\n",
    "    [4,5,8],\n",
    "    [7,9,13],\n",
    "    [10, 20, 6]])\n",
    "print np.linalg.det(p)\n",
    "w,v= np.linalg.eig(p)\n",
    "print w\n",
    "print v"
   ]
  },
  {
   "cell_type": "code",
   "execution_count": null,
   "metadata": {
    "collapsed": true,
    "run_control": {
     "marked": false
    }
   },
   "outputs": [],
   "source": [
    "a = np.arange(9).reshape(3,3)\n",
    "b = 2 * a\n",
    "print a\n",
    "print b"
   ]
  },
  {
   "cell_type": "code",
   "execution_count": null,
   "metadata": {
    "collapsed": true,
    "run_control": {
     "marked": false
    }
   },
   "outputs": [],
   "source": [
    "np.concatenate([a,b], axis=0)"
   ]
  },
  {
   "cell_type": "code",
   "execution_count": null,
   "metadata": {
    "collapsed": true,
    "run_control": {
     "marked": false
    }
   },
   "outputs": [],
   "source": [
    "np.hstack([a,b])"
   ]
  },
  {
   "cell_type": "code",
   "execution_count": null,
   "metadata": {
    "collapsed": true,
    "run_control": {
     "marked": false
    }
   },
   "outputs": [],
   "source": [
    "np.vstack([a,b])"
   ]
  },
  {
   "cell_type": "code",
   "execution_count": null,
   "metadata": {
    "collapsed": true,
    "run_control": {
     "marked": false
    }
   },
   "outputs": [],
   "source": [
    "np.dstack([a,b])"
   ]
  },
  {
   "cell_type": "code",
   "execution_count": null,
   "metadata": {
    "collapsed": true,
    "run_control": {
     "marked": false
    }
   },
   "outputs": [],
   "source": [
    "np.row_stack([a,b])"
   ]
  },
  {
   "cell_type": "code",
   "execution_count": null,
   "metadata": {
    "collapsed": true,
    "run_control": {
     "marked": false
    }
   },
   "outputs": [],
   "source": [
    "np.column_stack([a,b])"
   ]
  },
  {
   "cell_type": "code",
   "execution_count": null,
   "metadata": {
    "collapsed": true,
    "run_control": {
     "marked": false
    }
   },
   "outputs": [],
   "source": [
    "s = np.array([1,2,3,4])\n",
    "t = s[:3]\n",
    "print s\n",
    "print t\n",
    "s.shape = (2,2)\n",
    "print \"-=-==-=\"\n",
    "print s\n",
    "print t"
   ]
  },
  {
   "cell_type": "code",
   "execution_count": null,
   "metadata": {
    "collapsed": true,
    "run_control": {
     "marked": false
    }
   },
   "outputs": [],
   "source": [
    "print a\n",
    "print np.sum(a)\n",
    "print np.sum(a, axis=0)\n",
    "print np.sum(a, axis=1)"
   ]
  },
  {
   "cell_type": "code",
   "execution_count": null,
   "metadata": {
    "collapsed": true,
    "run_control": {
     "marked": false
    }
   },
   "outputs": [],
   "source": [
    "np.exp(a)"
   ]
  },
  {
   "cell_type": "code",
   "execution_count": null,
   "metadata": {
    "collapsed": true,
    "run_control": {
     "marked": false
    }
   },
   "outputs": [],
   "source": [
    "np.exp2(a)"
   ]
  },
  {
   "cell_type": "code",
   "execution_count": null,
   "metadata": {
    "collapsed": true,
    "run_control": {
     "marked": false
    }
   },
   "outputs": [],
   "source": [
    "print math.pow(math.e, 2)\n",
    "print math.log(math.pow(math.e, 2))\n",
    "print np.exp([2])"
   ]
  },
  {
   "cell_type": "code",
   "execution_count": null,
   "metadata": {
    "collapsed": true,
    "run_control": {
     "marked": false
    }
   },
   "outputs": [],
   "source": [
    "%matplotlib inline\n",
    "f1 = plt.figure(1)\n",
    "plt.xlabel(\"x\")\n",
    "plt.ylabel(\"y\")\n",
    "x = np.linspace(0, 3, 100)\n",
    "for i in xrange(5):\n",
    "    plt.plot(x, np.exp(i*x/3))\n",
    "plt.show()"
   ]
  },
  {
   "cell_type": "code",
   "execution_count": null,
   "metadata": {
    "collapsed": true,
    "run_control": {
     "marked": false
    }
   },
   "outputs": [],
   "source": [
    "plt.plot([0,1],[0,1])\n",
    "plt.xlabel(\"x value\")\n",
    "plt.ylabel(\"y value\")"
   ]
  },
  {
   "cell_type": "code",
   "execution_count": null,
   "metadata": {
    "collapsed": true,
    "run_control": {
     "marked": false
    }
   },
   "outputs": [],
   "source": [
    "from matplotlib.figure import Figure\n",
    "from matplotlib.backends.backend_agg import FigureCanvasAgg as FigureCanvas\n",
    "import PIL.Image as Image\n",
    "\n",
    "fig = Figure()\n",
    "canvas = FigureCanvas(fig)\n",
    "ax = fig.add_axes([0.1, 0.1, 0.8, 0.8])\n",
    "line,  = ax.plot([0,1], [0,1])\n",
    "ax.set_title(\"a straight line (OO)\")\n",
    "ax.set_xlabel(\"x value\")\n",
    "ax.set_ylabel(\"y value\")\n",
    "canvas.print_figure(\"demo.png\")\n",
    "display(Image.open(\"demo.png\"))"
   ]
  },
  {
   "cell_type": "code",
   "execution_count": null,
   "metadata": {
    "collapsed": true,
    "run_control": {
     "marked": false
    }
   },
   "outputs": [],
   "source": [
    "import matplotlib\n",
    "print(matplotlib.get_backend())"
   ]
  },
  {
   "cell_type": "code",
   "execution_count": null,
   "metadata": {
    "collapsed": true,
    "run_control": {
     "marked": false
    }
   },
   "outputs": [],
   "source": [
    "print a\n",
    "np.multiply(a, 1.0 / 2)"
   ]
  },
  {
   "cell_type": "code",
   "execution_count": null,
   "metadata": {
    "collapsed": true,
    "run_control": {
     "marked": false
    }
   },
   "outputs": [],
   "source": [
    "a.ravel()"
   ]
  },
  {
   "cell_type": "code",
   "execution_count": null,
   "metadata": {
    "collapsed": true,
    "run_control": {
     "marked": false
    }
   },
   "outputs": [],
   "source": [
    "a.flatten()"
   ]
  },
  {
   "cell_type": "code",
   "execution_count": null,
   "metadata": {
    "collapsed": true,
    "run_control": {
     "marked": false
    }
   },
   "outputs": [],
   "source": [
    "a = np.array([[4, 3, 5], [9, 10, 1]])\n",
    "print a\n",
    "print np.argmax(a)\n",
    "print np.argmax(a, axis=0)\n",
    "print np.argmax(a, axis=1)\n",
    "print np.amax(a)\n",
    "print np.amax(a, axis=0)\n",
    "print np.amax(a, axis=1)"
   ]
  },
  {
   "cell_type": "code",
   "execution_count": null,
   "metadata": {
    "collapsed": true,
    "run_control": {
     "marked": false
    }
   },
   "outputs": [],
   "source": [
    "perm = np.arange(10)\n",
    "print perm\n",
    "np.random.shuffle(perm)\n",
    "print perm"
   ]
  },
  {
   "cell_type": "code",
   "execution_count": null,
   "metadata": {
    "collapsed": true,
    "run_control": {
     "marked": false
    }
   },
   "outputs": [],
   "source": [
    "a = [1, 3, 4, 2, 7, 9, 8]\n",
    "length = len(a)\n",
    "for i in range(0, length):\n",
    "    for j in range(i + 1, length):\n",
    "        if(a[i] > a[j]):\n",
    "            temp = a[i]\n",
    "            a[i] = a[j]\n",
    "            a[j] = temp\n",
    "        j += 1\n",
    "    i += 1\n",
    "print a"
   ]
  },
  {
   "cell_type": "code",
   "execution_count": null,
   "metadata": {
    "collapsed": true
   },
   "outputs": [],
   "source": [
    "def f():\n",
    "    for i in range(1,10, 2):        \n",
    "        yield 'x' + str(i)\n",
    "        print 'haha ' + str(i)\n",
    "\n",
    "sequence = f() \n",
    "\n",
    "print type(sequence)\n",
    "print \"------------\"\n",
    "# for j in sequence:\n",
    "#     pass\n",
    "    "
   ]
  },
  {
   "cell_type": "code",
   "execution_count": null,
   "metadata": {
    "collapsed": true
   },
   "outputs": [],
   "source": [
    "import random\n",
    "def no_limit():\n",
    "    while True:\n",
    "        yield random.randint(1, 100000)\n",
    "\n",
    "#seq 是一个无限序列\n",
    "seq = no_limit()\n",
    "print seq.next()\n",
    "print seq.next()\n",
    "print seq.next()"
   ]
  },
  {
   "cell_type": "code",
   "execution_count": null,
   "metadata": {
    "collapsed": true
   },
   "outputs": [],
   "source": [
    "a = [1,2,3]\n",
    "#a = [None]\n",
    "#print a\n",
    "#print len(a)\n",
    "#print a[0]"
   ]
  },
  {
   "cell_type": "code",
   "execution_count": null,
   "metadata": {
    "collapsed": true
   },
   "outputs": [],
   "source": [
    "a[None:]"
   ]
  },
  {
   "cell_type": "code",
   "execution_count": null,
   "metadata": {
    "collapsed": true
   },
   "outputs": [],
   "source": [
    "np.array([1,2]) + 1"
   ]
  },
  {
   "cell_type": "code",
   "execution_count": null,
   "metadata": {
    "collapsed": true
   },
   "outputs": [],
   "source": [
    "layer = np.array([[3, -1, 3],[2, 4, -5]])\n",
    "weight = np.array([[1], [2], [-1]])\n",
    "\n",
    "print np.dot(layer, weight)"
   ]
  },
  {
   "cell_type": "code",
   "execution_count": null,
   "metadata": {
    "collapsed": true
   },
   "outputs": [],
   "source": [
    "inputs = np.array([[1,0,0], [0,1,0], [1,1,1], [0,0,0]])\n",
    "weight = np.array([[1],[1],[-2]])\n",
    "for inputMatrix in inputs:\n",
    "    print np.dot(inputMatrix, weight)"
   ]
  },
  {
   "cell_type": "code",
   "execution_count": null,
   "metadata": {
    "collapsed": true
   },
   "outputs": [],
   "source": [
    "hl = [\n",
    "        [[1,1], [1,1]],\n",
    "        [[-2], [1]]\n",
    "     ]\n",
    "\n",
    "def threshold(t):\n",
    "    return lambda (x): 0 if x < t else 1\n",
    "\n",
    "def np_threshold(threshold_func, array):\n",
    "    np_array = np.array(array)\n",
    "    #print \"np_threshold >>\", np_array, np_array.flatten()\n",
    "    out = np.array(map(threshold_func, np_array.flatten()))    \n",
    "    #print \"np_threshold >>\", out \n",
    "    return out.reshape(np_array.shape)\n",
    "\n",
    "ol = [threshold(2), threshold(1)]\n",
    "\n",
    "def iterateNetwork(il, hl, ol):\n",
    "    feed = il\n",
    "    for n in xrange(0, len(hl)): \n",
    "        print feed.shape, np.array(hl[n]).shape\n",
    "        product = np.dot(feed, hl[n])\n",
    "        out = np_threshold(ol[n], product)        \n",
    "        print feed, \"*\", hl[n], \"=\", product, \"->\", out , \"|\",product.shape, out.shape\n",
    "        feed = out\n",
    "    return feed\n",
    "\n",
    "iterateNetwork(np.array([[1,0]]), hl, ol)"
   ]
  },
  {
   "cell_type": "code",
   "execution_count": null,
   "metadata": {
    "collapsed": true
   },
   "outputs": [],
   "source": [
    "def threshold(t):\n",
    "    return lambda (x): 0 if x < t else 1\n",
    "t2 = threshold(2)\n",
    "print t2(1)\n",
    "print t2(2)\n",
    "print t2(3)\n",
    "print map(t2, np.array([1,2,3]))\n",
    "a = np.array([[1, 1]])\n",
    "print a, a.flatten()\n",
    "b = np.array(map(t2, a.flatten()))\n",
    "print b\n",
    "b.reshape(a.shape)"
   ]
  },
  {
   "cell_type": "code",
   "execution_count": null,
   "metadata": {
    "collapsed": true
   },
   "outputs": [],
   "source": [
    "def math_func(x):\n",
    "    print np.tanh(x)\n",
    "    print np.tan(x)\n",
    "    print np.exp(x)\n",
    "    print np.sin(x)\n",
    "    print np.cos(x)\n",
    "\n",
    "a1 = [ 1.00860579,  0.02017199, -0.29095596, -0.01500762, -0.01699426, 0.16566066, -0.40681385,  0.6298376 ,  0.27141311,  0.12900216]\n",
    "math_func(a1)"
   ]
  },
  {
   "cell_type": "code",
   "execution_count": null,
   "metadata": {
    "collapsed": true
   },
   "outputs": [],
   "source": [
    "def sigmoid(x):\n",
    "    return np.power(1 + np.power(np.e, x), -1)\n",
    "\n",
    "sigmoid(1)"
   ]
  },
  {
   "cell_type": "code",
   "execution_count": null,
   "metadata": {
    "collapsed": true
   },
   "outputs": [],
   "source": [
    "def calc_diff(a):\n",
    "    length=len(a)\n",
    "    m=a.mean()\n",
    "    diff_sum = 0\n",
    "    diff_square_sum = 0\n",
    "    for n in a:\n",
    "        diff = abs(n - m)\n",
    "        diff_square = diff ** 2\n",
    "        diff_sum += diff\n",
    "        diff_square_sum += diff_square\n",
    "        print diff,diff_sum, diff_square,diff_square_sum\n",
    "    return (m,diff_sum/length,diff_square_sum/length,np.sqrt(diff_square_sum/length))\n",
    "    \n",
    "a=np.array([33219, 36254, 38801, 46335, 46840, 47596, 55130, 56863, 78070, 88830])    \n",
    "b=np.array([38946,43420,49191,50430,50557,52580,53595,54135,60181,62076])\n",
    "c=np.array([18,20,21,18,23,15,17,22,21])\n",
    "calc_diff(c)"
   ]
  },
  {
   "cell_type": "code",
   "execution_count": null,
   "metadata": {
    "collapsed": true
   },
   "outputs": [],
   "source": [
    "import numpy as np\n",
    "\n",
    "'''\n",
    "The following code is to help you play with Numpy, which is a library \n",
    "that provides functions that are especially useful when you have to\n",
    "work with large arrays and matrices of numeric data, like doing \n",
    "matrix matrix multiplications. Also, Numpy is battle tested and \n",
    "optimized so that it runs fast, much faster than if you were working\n",
    "with Python lists directly.\n",
    "'''\n",
    "\n",
    "'''\n",
    "The array object class is the foundation of Numpy, and Numpy arrays are like\n",
    "lists in Python, except that every thing inside an array must be of the\n",
    "same type, like int or float.\n",
    "'''\n",
    "# Change False to True to see Numpy arrays in action\n",
    "if True:\n",
    "    array = np.array([1, 4, 5, 8], float)\n",
    "    print array\n",
    "    print \"\"\n",
    "    array = np.array([[1, 2, 3], [4, 5, 6]], float)  # a 2D array/Matrix\n",
    "    print array\n",
    "\n",
    "'''\n",
    "You can index, slice, and manipulate a Numpy array much like you would with a\n",
    "a Python list.\n",
    "'''\n",
    "# Change False to True to see array indexing and slicing in action\n",
    "if True:\n",
    "    print \"---\"\n",
    "    array = np.array([1, 4, 5, 8], float)\n",
    "    print array\n",
    "    print \"---\"\n",
    "    print array[1]\n",
    "    print \"\"\n",
    "    print array[:2]\n",
    "    print \"\"\n",
    "    array[1] = 5.0\n",
    "    print array[1]\n",
    "\n",
    "# Change False to True to see Matrix indexing and slicing in action\n",
    "if True:\n",
    "    two_D_array = np.array([[1, 2, 3], [4, 5, 6]], float)\n",
    "    print two_D_array\n",
    "    print \"\"\n",
    "    print two_D_array[1][1]\n",
    "    print \"\"\n",
    "    print two_D_array[1, :]\n",
    "    print \"\"\n",
    "    print two_D_array[:, 2]\n",
    "\n",
    "'''\n",
    "Here are some arithmetic operations that you can do with Numpy arrays\n",
    "'''\n",
    "# Change False to True to see Array arithmetics in action\n",
    "if True:\n",
    "    array_1 = np.array([1, 2, 3], float)\n",
    "    array_2 = np.array([5, 2, 6], float)\n",
    "    print array_1 + array_2\n",
    "    print \"\"\n",
    "    print array_1 - array_2\n",
    "    print \"\"\n",
    "    print array_1 * array_2\n",
    "\n",
    "# Change False to True to see Matrix arithmetics in action\n",
    "if True:\n",
    "    array_1 = np.array([[1, 2], [3, 4]], float)\n",
    "    array_2 = np.array([[5, 6], [7, 8]], float)\n",
    "    print array_1 + array_2\n",
    "    print \"\"\n",
    "    print array_1 - array_2\n",
    "    print \"\"\n",
    "    print array_1 * array_2\n",
    "\n",
    "'''\n",
    "In addition to the standard arthimetic operations, Numpy also has a range of\n",
    "other mathematical operations that you can apply to Numpy arrays, such as\n",
    "mean and dot product.\n",
    "\n",
    "Both of these functions will be useful in later programming quizzes.\n",
    "'''\n",
    "if True:\n",
    "    array_1 = np.array([1, 2, 3], float)\n",
    "    array_2 = np.array([[6], [7], [8]], float)\n",
    "    print np.mean(array_1)\n",
    "    print np.mean(array_2)\n",
    "    print \"\"\n",
    "    print np.dot(array_1, array_2)\n"
   ]
  },
  {
   "cell_type": "code",
   "execution_count": null,
   "metadata": {
    "collapsed": true
   },
   "outputs": [],
   "source": [
    "(pow(2,41) - 1 - time.time()*1000)/(365*24*3600*1000)"
   ]
  },
  {
   "cell_type": "code",
   "execution_count": null,
   "metadata": {
    "collapsed": true
   },
   "outputs": [],
   "source": [
    "pow(2,12)-1"
   ]
  },
  {
   "cell_type": "code",
   "execution_count": null,
   "metadata": {
    "collapsed": true
   },
   "outputs": [],
   "source": [
    "def entropy(p):\n",
    "    return -1 * p * math.log(p, 2)\n",
    "\n",
    "#1- 3.0/4*(entropy(2.0/3) + entropy(1.0/3))\n",
    "entropy(1.0) "
   ]
  },
  {
   "cell_type": "code",
   "execution_count": null,
   "metadata": {
    "collapsed": true
   },
   "outputs": [],
   "source": [
    "1-0.9184*3/4"
   ]
  },
  {
   "cell_type": "code",
   "execution_count": null,
   "metadata": {
    "collapsed": true
   },
   "outputs": [],
   "source": [
    "flatten = lambda x: [y for l in x for y in flatten(l)] if type(x) is tuple or type(x) is list else [x]"
   ]
  },
  {
   "cell_type": "code",
   "execution_count": 29,
   "metadata": {},
   "outputs": [
    {
     "data": {
      "text/plain": [
       "[12, 4, 13, 20, 5, 10]"
      ]
     },
     "execution_count": 29,
     "metadata": {},
     "output_type": "execute_result"
    }
   ],
   "source": [
    "d=[(1,6),(2,4),(3,7),(6,8),(7,1),(8,4)]\n",
    "y = [7, 8, 16, 44, 50, 68]\n",
    "q=(4,2)\n",
    "\n",
    "def getEuclideanDistance(a,b):\n",
    "    return ((a[0] - b[0]) ** 2 + (a[1] - b[1]) ** 2)**1/2\n",
    "distances = [getEuclideanDistance(q, i) for i in d]\n",
    "distances"
   ]
  },
  {
   "cell_type": "code",
   "execution_count": 30,
   "metadata": {},
   "outputs": [
    {
     "data": {
      "text/plain": [
       "(8.0, 42.0)"
      ]
     },
     "execution_count": 30,
     "metadata": {},
     "output_type": "execute_result"
    }
   ],
   "source": [
    "np.average([8]),np.average([8, 50, 68])"
   ]
  },
  {
   "cell_type": "code",
   "execution_count": 31,
   "metadata": {},
   "outputs": [
    {
     "data": {
      "text/plain": [
       "[7, 4, 6, 8, 4, 6]"
      ]
     },
     "execution_count": 31,
     "metadata": {},
     "output_type": "execute_result"
    }
   ],
   "source": [
    "def getManhattanDistance(a, b):\n",
    "    return abs(a[0] - b[0]) + abs(a[1] - b[1])\n",
    "distances = [getManhattanDistance(q, i) for i in d]\n",
    "distances"
   ]
  },
  {
   "cell_type": "code",
   "execution_count": 36,
   "metadata": {},
   "outputs": [
    {
     "data": {
      "text/plain": [
       "(29.0, 29.800000000000001)"
      ]
     },
     "execution_count": 36,
     "metadata": {},
     "output_type": "execute_result"
    }
   ],
   "source": [
    "np.average([8, 50]),np.average([8,16,50,68,7])"
   ]
  },
  {
   "cell_type": "code",
   "execution_count": 43,
   "metadata": {},
   "outputs": [
    {
     "data": {
      "text/plain": [
       "19.931568569324174"
      ]
     },
     "execution_count": 43,
     "metadata": {},
     "output_type": "execute_result"
    }
   ],
   "source": [
    "math.log(1000000, 2)"
   ]
  },
  {
   "cell_type": "code",
   "execution_count": 44,
   "metadata": {},
   "outputs": [
    {
     "data": {
      "text/plain": [
       "1048576"
      ]
     },
     "execution_count": 44,
     "metadata": {},
     "output_type": "execute_result"
    }
   ],
   "source": [
    "2**20"
   ]
  },
  {
   "cell_type": "code",
   "execution_count": 58,
   "metadata": {},
   "outputs": [
    {
     "name": "stdout",
     "output_type": "stream",
     "text": [
      "17242.47\n",
      "8457.27\n"
     ]
    }
   ],
   "source": [
    "payments=np.array([8,86,9,9,9,21.18,29.13,84,8.3,129.48,4420,46.82,10000,33.70,7.70,5.35,204.41,49.00,10.00,2.5,675.04,-675.04,1.3,92.90,0.5,117.40,2.50,1.95,4.54,7.00,44.5,12.5,1.16,200,10,30,14.63,60,17,2.5,270.88,14.7,8,80,300,2.5,5.5,18,138.24,583.7,3.5,12.5,12])\n",
    "payments.sort()\n",
    "all_pay=payments.sum()\n",
    "print all_pay\n",
    "print all_pay - 8505.6 - 213.43 - 66.17"
   ]
  },
  {
   "cell_type": "markdown",
   "metadata": {},
   "source": []
  },
  {
   "cell_type": "code",
   "execution_count": 52,
   "metadata": {},
   "outputs": [
    {
     "data": {
      "text/plain": [
       "2.0"
      ]
     },
     "execution_count": 52,
     "metadata": {},
     "output_type": "execute_result"
    }
   ],
   "source": [
    "math.log(100, 10)"
   ]
  },
  {
   "cell_type": "code",
   "execution_count": 62,
   "metadata": {},
   "outputs": [
    {
     "data": {
      "text/plain": [
       "0.5517241379310345"
      ]
     },
     "execution_count": 62,
     "metadata": {},
     "output_type": "execute_result"
    }
   ],
   "source": [
    "0.8/(0.8+0.65)"
   ]
  },
  {
   "cell_type": "code",
   "execution_count": 61,
   "metadata": {},
   "outputs": [
    {
     "data": {
      "text/plain": [
       "0.3846153846153846"
      ]
     },
     "execution_count": 61,
     "metadata": {},
     "output_type": "execute_result"
    }
   ],
   "source": [
    "0.25/0.65"
   ]
  },
  {
   "cell_type": "code",
   "execution_count": 63,
   "metadata": {},
   "outputs": [
    {
     "data": {
      "text/plain": [
       "(0.1625, 0.017499999999999998, 0.072, 0.049)"
      ]
     },
     "execution_count": 63,
     "metadata": {},
     "output_type": "execute_result"
    }
   ],
   "source": [
    "0.65*0.25,0.35*0.05,0.3*0.24,0.7*0.07"
   ]
  },
  {
   "cell_type": "code",
   "execution_count": 67,
   "metadata": {},
   "outputs": [
    {
     "data": {
      "text/plain": [
       "(0.14285714285714288, 0.8)"
      ]
     },
     "execution_count": 67,
     "metadata": {},
     "output_type": "execute_result"
    }
   ],
   "source": [
    "0.05/0.35,0.24/0.3"
   ]
  },
  {
   "cell_type": "code",
   "execution_count": 68,
   "metadata": {},
   "outputs": [
    {
     "data": {
      "text/plain": [
       "0.15000000000000002"
      ]
     },
     "execution_count": 68,
     "metadata": {},
     "output_type": "execute_result"
    }
   ],
   "source": [
    "0.5*0.4*0.75"
   ]
  },
  {
   "cell_type": "code",
   "execution_count": 69,
   "metadata": {},
   "outputs": [
    {
     "data": {
      "text/plain": [
       "0.2608695652173913"
      ]
     },
     "execution_count": 69,
     "metadata": {},
     "output_type": "execute_result"
    }
   ],
   "source": [
    "6/23.0"
   ]
  },
  {
   "cell_type": "code",
   "execution_count": 91,
   "metadata": {},
   "outputs": [
    {
     "name": "stdout",
     "output_type": "stream",
     "text": [
      " 0.1 0.933032991537 1.04137974399 1.10517091808\n",
      "0.2 0.870550563296 1.0844717712 1.22140275816\n",
      "0.3 0.812252396356 1.12934693546 1.34985880758\n",
      "0.4 0.757858283255 1.17607902252 1.49182469764\n",
      "0.5 0.707106781187 1.22474487139 1.6487212707\n",
      "0.6 0.659753955386 1.27542450063 1.82211880039\n",
      "0.7 0.615572206672 1.32820123994 2.01375270747\n",
      "0.8 0.574349177499 1.38316186722 2.22554092849\n",
      "0.9 0.535886731268 1.44039675119 2.45960311116\n",
      "1.0 0.5 1.5 2.71828182846\n",
      "1.1 0.466516495768 1.56206961599 3.00416602395\n",
      "1.2 0.435275281648 1.6267076568 3.32011692274\n",
      "1.3 0.406126198178 1.69402040319 3.66929666762\n",
      "1.4 0.378929141628 1.76411853379 4.05519996684\n",
      "1.5 0.353553390593 1.83711730709 4.48168907034\n",
      "1.6 0.329876977693 1.91313675094 4.9530324244\n",
      "1.7 0.307786103336 1.99230185992 5.47394739173\n",
      "1.8 0.287174588749 2.07474280083 6.04964746441\n",
      "1.9 0.267943365634 2.16059512678 6.68589444228\n",
      "2.0 0.25 2.25 7.38905609893\n"
     ]
    }
   ],
   "source": [
    "a = 0.0\n",
    "for i in range(20):\n",
    "    a+=0.1\n",
    "    print a,pow(0.5,a),pow(1.5,a),math.exp(a)"
   ]
  },
  {
   "cell_type": "markdown",
   "metadata": {},
   "source": [
    "$\\begin{align}\n",
    "&(1) \\quad \\large y_i \\neq G_m(x_i) => I(y_i \\neq G_m(x_i)) = 1 => w_i = w_i \\cdot exp(\\alpha _m \\cdot I(y_i \\neq G_m(x_i))) = w_i \\cdot exp(\\alpha _m)\\\\\n",
    "&(2) \\quad \\large 预测难度越大=>err_m越大 => \\alpha 越小 => w_i \\cdot exp(\\alpha _m) 越小=>\\color{red}{预测难度越大，样本权重越小}\n",
    "\\end{align}$"
   ]
  },
  {
   "cell_type": "markdown",
   "metadata": {
    "collapsed": true
   },
   "source": []
  },
  {
   "cell_type": "code",
   "execution_count": 117,
   "metadata": {},
   "outputs": [
    {
     "data": {
      "text/plain": [
       "[('b1', ('B', [16, 0, 17, 0], 8, 2)),\n",
       " ('a2', ('A', [15, 0, 0, 0], 67, 2)),\n",
       " ('a1', ('A', [15, 10, 10, 0], 80, 2))]"
      ]
     },
     "execution_count": 117,
     "metadata": {},
     "output_type": "execute_result"
    }
   ],
   "source": [
    "normal_dict={'a1':(\"A\", [15, 10, 10, 0], 80, 2), 'b1':(\"B\", [16, 0, 17, 0], 8, 2), 'a2':(\"A\", [15, 0, 0, 0], 67, 2)}\n",
    "sorted(normal_dict.iteritems(), key=lambda x:x[1][2], reverse=False)"
   ]
  },
  {
   "cell_type": "code",
   "execution_count": 116,
   "metadata": {},
   "outputs": [
    {
     "data": {
      "text/plain": [
       "[('a1', ('A', [15, 0, 10, 0], 80, 2)),\n",
       " ('a2', ('A', [15, 0, 0, 0], 67, 2)),\n",
       " ('b1', ('B', [16, 0, 17, 0], 8, 2))]"
      ]
     },
     "execution_count": 116,
     "metadata": {},
     "output_type": "execute_result"
    }
   ],
   "source": [
    "sorted(normal_dict.iteritems(), key=lambda x:x[1][2], reverse=True)"
   ]
  },
  {
   "cell_type": "code",
   "execution_count": 244,
   "metadata": {},
   "outputs": [
    {
     "name": "stdout",
     "output_type": "stream",
     "text": [
      "('a1', ('A', [15, 10, 10, 0], 80, 2)) a1 ('A', [15, 10, 10, 0], 80, 2) 80\n",
      "('a2', ('A', [15, 0, 0, 0], 67, 2)) a2 ('A', [15, 0, 0, 0], 67, 2) 67\n",
      "('b1', ('B', [16, 0, 17, 0], 8, 2)) b1 ('B', [16, 0, 17, 0], 8, 2) 8\n"
     ]
    }
   ],
   "source": [
    "for it in normal_dict.iteritems():\n",
    "    print it,it[0],it[1],it[1][2]"
   ]
  },
  {
   "cell_type": "code",
   "execution_count": 118,
   "metadata": {},
   "outputs": [
    {
     "data": {
      "text/plain": [
       "[('a1', ('A', [15, 10, 10, 0], 80, 2)),\n",
       " ('a2', ('A', [15, 0, 0, 0], 67, 2)),\n",
       " ('b1', ('B', [16, 0, 17, 0], 8, 2))]"
      ]
     },
     "execution_count": 118,
     "metadata": {},
     "output_type": "execute_result"
    }
   ],
   "source": [
    "normal_dict.items()"
   ]
  },
  {
   "cell_type": "code",
   "execution_count": 125,
   "metadata": {},
   "outputs": [
    {
     "data": {
      "text/plain": [
       "0"
      ]
     },
     "execution_count": 125,
     "metadata": {},
     "output_type": "execute_result"
    }
   ],
   "source": [
    "send_list_component = list()\n",
    "len(send_list_component)"
   ]
  },
  {
   "cell_type": "code",
   "execution_count": 129,
   "metadata": {},
   "outputs": [
    {
     "name": "stdout",
     "output_type": "stream",
     "text": [
      "1500393600\n"
     ]
    }
   ],
   "source": [
    "import time\n",
    "\n",
    "dt = \"20170719\"\n",
    "\n",
    "#转换成时间数组\n",
    "\n",
    "\n",
    "print timestamp"
   ]
  },
  {
   "cell_type": "code",
   "execution_count": 137,
   "metadata": {},
   "outputs": [
    {
     "data": {
      "text/html": [
       "<div>\n",
       "<style>\n",
       "    .dataframe thead tr:only-child th {\n",
       "        text-align: right;\n",
       "    }\n",
       "\n",
       "    .dataframe thead th {\n",
       "        text-align: left;\n",
       "    }\n",
       "\n",
       "    .dataframe tbody tr th {\n",
       "        vertical-align: top;\n",
       "    }\n",
       "</style>\n",
       "<table border=\"1\" class=\"dataframe\">\n",
       "  <thead>\n",
       "    <tr style=\"text-align: right;\">\n",
       "      <th></th>\n",
       "      <th>color</th>\n",
       "      <th>price</th>\n",
       "    </tr>\n",
       "  </thead>\n",
       "  <tbody>\n",
       "    <tr>\n",
       "      <th>0</th>\n",
       "      <td>red</td>\n",
       "      <td>cheap</td>\n",
       "    </tr>\n",
       "    <tr>\n",
       "      <th>1</th>\n",
       "      <td>blue</td>\n",
       "      <td>normal</td>\n",
       "    </tr>\n",
       "    <tr>\n",
       "      <th>2</th>\n",
       "      <td>yellow</td>\n",
       "      <td>expensive</td>\n",
       "    </tr>\n",
       "  </tbody>\n",
       "</table>\n",
       "</div>"
      ],
      "text/plain": [
       "    color      price\n",
       "0     red      cheap\n",
       "1    blue     normal\n",
       "2  yellow  expensive"
      ]
     },
     "metadata": {},
     "output_type": "display_data"
    },
    {
     "data": {
      "text/html": [
       "<div>\n",
       "<style>\n",
       "    .dataframe thead tr:only-child th {\n",
       "        text-align: right;\n",
       "    }\n",
       "\n",
       "    .dataframe thead th {\n",
       "        text-align: left;\n",
       "    }\n",
       "\n",
       "    .dataframe tbody tr th {\n",
       "        vertical-align: top;\n",
       "    }\n",
       "</style>\n",
       "<table border=\"1\" class=\"dataframe\">\n",
       "  <thead>\n",
       "    <tr style=\"text-align: right;\">\n",
       "      <th></th>\n",
       "      <th>color_blue</th>\n",
       "      <th>color_red</th>\n",
       "      <th>color_yellow</th>\n",
       "      <th>price_cheap</th>\n",
       "      <th>price_expensive</th>\n",
       "      <th>price_normal</th>\n",
       "    </tr>\n",
       "  </thead>\n",
       "  <tbody>\n",
       "    <tr>\n",
       "      <th>0</th>\n",
       "      <td>0</td>\n",
       "      <td>1</td>\n",
       "      <td>0</td>\n",
       "      <td>1</td>\n",
       "      <td>0</td>\n",
       "      <td>0</td>\n",
       "    </tr>\n",
       "    <tr>\n",
       "      <th>1</th>\n",
       "      <td>1</td>\n",
       "      <td>0</td>\n",
       "      <td>0</td>\n",
       "      <td>0</td>\n",
       "      <td>0</td>\n",
       "      <td>1</td>\n",
       "    </tr>\n",
       "    <tr>\n",
       "      <th>2</th>\n",
       "      <td>0</td>\n",
       "      <td>0</td>\n",
       "      <td>1</td>\n",
       "      <td>0</td>\n",
       "      <td>1</td>\n",
       "      <td>0</td>\n",
       "    </tr>\n",
       "  </tbody>\n",
       "</table>\n",
       "</div>"
      ],
      "text/plain": [
       "   color_blue  color_red  color_yellow  price_cheap  price_expensive  \\\n",
       "0           0          1             0            1                0   \n",
       "1           1          0             0            0                0   \n",
       "2           0          0             1            0                1   \n",
       "\n",
       "   price_normal  \n",
       "0             0  \n",
       "1             1  \n",
       "2             0  "
      ]
     },
     "metadata": {},
     "output_type": "display_data"
    },
    {
     "data": {
      "text/plain": [
       "['color_blue',\n",
       " 'color_red',\n",
       " 'color_yellow',\n",
       " 'price_cheap',\n",
       " 'price_expensive',\n",
       " 'price_normal']"
      ]
     },
     "metadata": {},
     "output_type": "display_data"
    }
   ],
   "source": [
    "labels = {'color':['red', 'blue', 'yellow'], 'price':['cheap', 'normal', 'expensive']}\n",
    "labels_dt = pd.DataFrame(labels)\n",
    "labels_encoded = pd.get_dummies(labels_dt)\n",
    "display(labels_dt)\n",
    "display(labels_encoded)\n",
    "display(list(labels_encoded.columns))"
   ]
  },
  {
   "cell_type": "code",
   "execution_count": 143,
   "metadata": {},
   "outputs": [
    {
     "name": "stdout",
     "output_type": "stream",
     "text": [
      "3\n"
     ]
    }
   ],
   "source": [
    "for i,_ in enumerate([2,1,4,7]):\n",
    "    pass\n",
    "print i"
   ]
  },
  {
   "cell_type": "code",
   "execution_count": 169,
   "metadata": {},
   "outputs": [
    {
     "data": {
      "text/plain": [
       "1502374843.416676"
      ]
     },
     "execution_count": 169,
     "metadata": {},
     "output_type": "execute_result"
    }
   ],
   "source": [
    "from time import time\n",
    "time()"
   ]
  },
  {
   "cell_type": "code",
   "execution_count": 170,
   "metadata": {},
   "outputs": [
    {
     "ename": "ValueError",
     "evalue": "too many values to unpack",
     "output_type": "error",
     "traceback": [
      "\u001b[0;31m\u001b[0m",
      "\u001b[0;31mValueError\u001b[0mTraceback (most recent call last)",
      "\u001b[0;32m<ipython-input-170-e08f9f915581>\u001b[0m in \u001b[0;36m<module>\u001b[0;34m()\u001b[0m\n\u001b[1;32m      1\u001b[0m \u001b[0ma\u001b[0m\u001b[0;34m=\u001b[0m\u001b[0;34m[\u001b[0m\u001b[0;36m1\u001b[0m\u001b[0;34m,\u001b[0m\u001b[0;36m2\u001b[0m\u001b[0;34m,\u001b[0m\u001b[0;36m3\u001b[0m\u001b[0;34m,\u001b[0m\u001b[0;36m4\u001b[0m\u001b[0;34m]\u001b[0m\u001b[0;34m\u001b[0m\u001b[0m\n\u001b[0;32m----> 2\u001b[0;31m \u001b[0mb\u001b[0m\u001b[0;34m,\u001b[0m\u001b[0mc\u001b[0m\u001b[0;34m=\u001b[0m\u001b[0ma\u001b[0m\u001b[0;34m\u001b[0m\u001b[0m\n\u001b[0m\u001b[1;32m      3\u001b[0m \u001b[0;32mprint\u001b[0m \u001b[0mb\u001b[0m\u001b[0;34m,\u001b[0m\u001b[0mc\u001b[0m\u001b[0;34m\u001b[0m\u001b[0m\n",
      "\u001b[0;31mValueError\u001b[0m: too many values to unpack"
     ]
    }
   ],
   "source": [
    "a=[1,2,3,4]\n",
    "b,c=a\n",
    "print b,c"
   ]
  },
  {
   "cell_type": "code",
   "execution_count": 194,
   "metadata": {},
   "outputs": [
    {
     "name": "stdout",
     "output_type": "stream",
     "text": [
      "4\n",
      "《花开为诺》 [u'\\u60ca\\u5446\\u4e86\\uff0c\\u4e3a\\u4ec0\\u4e48\\u5e03\\u666f\\u5e08\\u80fd\\u628a\\u68ee\\u6797\\u6eaa\\u6d41\\u90fd\\u642c\\u8fdb\\u68da\\u91cc\\u2026\\u2026', u'\\u8fd9\\u624d\\u53eb\\u201c\\u7a7a\\u6c14\\u90fd\\u662f\\u751c\\u7f8e\\u7684\\u201d\\u5427\\uff01', u'\\u7528\\u5728\\u5a5a\\u793c\\u4e0a\\u90fd\\u662f\\u589e\\u5149\\u6dfb\\u5f69\\u7684\\u3002']\n"
     ]
    }
   ],
   "source": [
    "import json\n",
    "desc = '[[0.46511615458001826, \"糖果创意美术 胡家庙十字西北角华东万和城2号楼1304室 15389052187,\"], [0.46511615458001826, \"13359222960糖果创意美术 胡家庙十字西北角华东万和城2号楼1304室 15389052187。\"]]'\n",
    "desc = '{\"4\":{\"《花开为诺》\":[[\"http://hiphotos.bdimg.com/bainuo/wh%3D690%2C460%3Bq%3D90%3Bc%3Dnuomi%2C95%2C95/sign=523d8eaa40ed2e73fcbc8e2abe318dbf/71cf3bc79f3df8dcb547eebfc711728b471028a1.jpg\",\"http://hiphotos.bdimg.com/bainuo/wh%3D690%2C460%3Bq%3D90%3Bc%3Dnuomi%2C95%2C95/sign=2d36e7c09682d158bbd751b7b93a35ec/c8ea15ce36d3d5394a3f6eed3087e950352ab09a.jpg\",\"http://hiphotos.bdimg.com/bainuo/wh%3D690%2C460%3Bq%3D90%3Bc%3Dnuomi%2C95%2C95/sign=093dc70dba7eca80125031e1a813bbe9/267f9e2f07082838a41cbd3ab299a9014c08f18f.jpg\",\"http://hiphotos.bdimg.com/bainuo/wh%3D690%2C460%3Bq%3D90%3Bc%3Dnuomi%2C95%2C95/sign=df4974ba4c2309f7e73aa5144b3e20c7/d043ad4bd11373f012010eb1ae0f4bfbfbed04e5.jpg\",\"http://hiphotos.bdimg.com/bainuo/wh%3D690%2C460%3Bq%3D90%3Bc%3Dnuomi%2C95%2C95/sign=804389da5bda81cb4eb38bcb6b56fc22/e4dde71190ef76c68ac29a059716fdfaaf51678f.jpg\",\"http://hiphotos.bdimg.com/bainuo/wh%3D690%2C460%3Bq%3D90%3Bc%3Dnuomi%2C95%2C95/sign=220a3f7dfc246b607b5bba72d2c83678/f636afc379310a552f1abfdabd4543a9822610e5.jpg\",\"http://hiphotos.bdimg.com/bainuo/wh%3D690%2C460%3Bq%3D90%3Bc%3Dnuomi%2C95%2C95/sign=e7b1505172f0f736d8ab440733659f2d/b2de9c82d158ccbf2054d31413d8bc3eb1354137.jpg\",\"http://hiphotos.bdimg.com/bainuo/wh%3D690%2C460%3Bq%3D90%3Bc%3Dnuomi%2C95%2C95/sign=f278d38aaec27d1ea57333c222e5815a/37d12f2eb9389b506985817c8f35e5dde7116ea1.jpg\"],[\"惊呆了，为什么布景师能把森林溪流都搬进棚里……\",\"这才叫“空气都是甜美的”吧！\",\"用在婚礼上都是增光添彩的。\"]]}}'\n",
    "poi_desc = json.loads(desc)\n",
    "for key in poi_desc:\n",
    "    print key\n",
    "    for tag in poi_desc[key]:\n",
    "        print tag, poi_desc[key][tag][1]"
   ]
  },
  {
   "cell_type": "code",
   "execution_count": 185,
   "metadata": {},
   "outputs": [
    {
     "name": "stdout",
     "output_type": "stream",
     "text": [
      "a\n",
      "b\n"
     ]
    }
   ],
   "source": [
    "m={'a':1, 'b':2}\n",
    "for k in m:\n",
    "    print k"
   ]
  },
  {
   "cell_type": "code",
   "execution_count": 202,
   "metadata": {},
   "outputs": [
    {
     "name": "stdout",
     "output_type": "stream",
     "text": [
      "可心DIY烘焙以顾客自己DIY蛋糕、巧克力、泡芙、曲奇等西点为主题,\n",
      "可心为顾客提供的是:专业的烘焙师傅指导、独到的烘焙配方、齐备的烘焙器材、安全健康的烘焙原料、温馨舒适的操作环境、细致周到的可心服务。\n"
     ]
    }
   ],
   "source": [
    "tags_json = [[0.10700437546029758, \"可心DIY烘焙以顾客自己DIY蛋糕、巧克力、泡芙、曲奇等西点为主题,\"], [0.10069160712680925, \"可心为顾客提供的是:专业的烘焙师傅指导、独到的烘焙配方、齐备的烘焙器材、安全健康的烘焙原料、温馨舒适的操作环境、细致周到的可心服务。\"]]\n",
    "\n",
    "tags = map(lambda el: el[1], tags_json)\n",
    "for tag in tags:\n",
    "    print tag"
   ]
  },
  {
   "cell_type": "code",
   "execution_count": 230,
   "metadata": {},
   "outputs": [
    {
     "name": "stdout",
     "output_type": "stream",
     "text": [
      "北京\n"
     ]
    }
   ],
   "source": [
    "city=u'北京市'\n",
    "print city[:-1]"
   ]
  },
  {
   "cell_type": "code",
   "execution_count": 261,
   "metadata": {},
   "outputs": [
    {
     "name": "stdout",
     "output_type": "stream",
     "text": [
      "((3, 4), (4, 1))\n",
      "[[ 2]\n",
      " [10]\n",
      " [18]]\n",
      "(3, 1)\n",
      "[ 2 10 18]\n",
      "___________\n",
      "[array([2]), array([10]), array([18])]\n",
      "0 [2]\n",
      "1 [10]\n",
      "2 [18]\n",
      "{0: array([2]), 1: array([10]), 2: array([18])}\n",
      "[2]\n",
      "[10]\n",
      "[18]\n",
      "[(2, array([18])), (1, array([10])), (0, array([2]))]\n",
      "\n",
      "(2, array([18])) <type 'numpy.ndarray'>\n",
      "(1, array([10])) <type 'numpy.ndarray'>\n",
      "(0, array([2])) <type 'numpy.ndarray'>\n"
     ]
    }
   ],
   "source": [
    "a = np.array([[1,2,3,4],\n",
    "              [4,5,6,5],\n",
    "              [7,8,9,6]],\n",
    "              )\n",
    "b = np.array([[1],[1],[1],[-1]])\n",
    "print(a.shape, b.shape)\n",
    "m = np.dot(a,b)\n",
    "print m\n",
    "print m.shape\n",
    "print m.flatten()\n",
    "print \"___________\"\n",
    "c=list(m)\n",
    "print(c)\n",
    "tp_dict = {}\n",
    "for i,val in enumerate(c):\n",
    "    print i,val\n",
    "    tp_dict[i] = val\n",
    "print tp_dict\n",
    "for it in tp_dict.iteritems():\n",
    "    print it[1]\n",
    "sorted_list = sorted(tp_dict.iteritems(), key = lambda d:d[1], reverse = True)\n",
    "print sorted_list\n",
    "print \"\"\n",
    "for i,val in enumerate(sorted_list):\n",
    "    print val,type(val[1])"
   ]
  },
  {
   "cell_type": "code",
   "execution_count": 246,
   "metadata": {},
   "outputs": [
    {
     "name": "stdout",
     "output_type": "stream",
     "text": [
      "0 ('src', 'template_id') template_id\n"
     ]
    }
   ],
   "source": [
    "for i,val in enumerate([('src', 'template_id')]):\n",
    "    print i,val,val[1]"
   ]
  },
  {
   "cell_type": "code",
   "execution_count": 260,
   "metadata": {},
   "outputs": [
    {
     "data": {
      "text/plain": [
       "array([ 0.,  0.,  0.,  0.,  0.], dtype=float32)"
      ]
     },
     "execution_count": 260,
     "metadata": {},
     "output_type": "execute_result"
    }
   ],
   "source": [
    "score_weights = np.zeros((5,), dtype=np.float32)\n",
    "score_weights"
   ]
  },
  {
   "cell_type": "code",
   "execution_count": 265,
   "metadata": {},
   "outputs": [
    {
     "name": "stdout",
     "output_type": "stream",
     "text": [
      "酸汤鱼\n"
     ]
    }
   ],
   "source": [
    "province={\n",
    "        \"酸汤鱼\" : {\n",
    "            \"position\" : 1,\n",
    "            \"freq\" : 1,\n",
    "            \"name\" : \"dish1\"\n",
    "        }\n",
    "}\n",
    "for x in province:\n",
    "    print x"
   ]
  },
  {
   "cell_type": "code",
   "execution_count": 348,
   "metadata": {
    "collapsed": true
   },
   "outputs": [],
   "source": [
    "def test(image_info = {\"cover_image\":[]},menu_pic_list=[]):\n",
    "    print image_info[\"cover_image\"]\n",
    "    if image_info[\"cover_image\"]:\n",
    "        image_num = len(image_info[\"cover_image\"])\n",
    "        print image_num\n",
    "        print [x + image_num for x in range(0, np.min([3, len(menu_pic_list)]))]\n",
    "        image_info[\"cover_image\"] = [x + image_num for x in range(0, np.min([3, len(menu_pic_list)]))]\n",
    "        if len(menu_pic_list) < 3:\n",
    "            print \"<3\"\n",
    "            for x in range(0, np.min([image_num, 3 - len(menu_pic_list)])):\n",
    "                image_info[\"cover_image\"].append(x)\n",
    "    else:\n",
    "        image_info[\"cover_image\"] = [x for x in range(0, np.min([len(menu_pic_list), 3]))]\n",
    "    print image_info[\"cover_image\"]\n",
    "    print len(menu_pic_list)"
   ]
  },
  {
   "cell_type": "code",
   "execution_count": 355,
   "metadata": {},
   "outputs": [
    {
     "name": "stdout",
     "output_type": "stream",
     "text": [
      "[]\n",
      "[0, 1]\n",
      "2\n"
     ]
    }
   ],
   "source": [
    "test(image_info = {\"cover_image\":[]},menu_pic_list=[0,1])"
   ]
  },
  {
   "cell_type": "code",
   "execution_count": 354,
   "metadata": {},
   "outputs": [
    {
     "name": "stdout",
     "output_type": "stream",
     "text": [
      "[]\n",
      "[0, 1, 2]\n",
      "3\n"
     ]
    }
   ],
   "source": [
    "test(image_info = {\"cover_image\":[]},menu_pic_list=[0,1,2])"
   ]
  },
  {
   "cell_type": "code",
   "execution_count": 352,
   "metadata": {},
   "outputs": [
    {
     "name": "stdout",
     "output_type": "stream",
     "text": [
      "[0, 1]\n",
      "2\n",
      "[2, 3]\n",
      "<3\n",
      "[2, 3, 0]\n",
      "2\n"
     ]
    }
   ],
   "source": [
    "test(image_info = {\"cover_image\":[0,1]},menu_pic_list=[0,1])"
   ]
  },
  {
   "cell_type": "code",
   "execution_count": 344,
   "metadata": {},
   "outputs": [
    {
     "name": "stdout",
     "output_type": "stream",
     "text": [
      "2\n",
      "[2, 3, 4]\n",
      "[2, 3, 4]\n",
      "3\n"
     ]
    }
   ],
   "source": [
    "test(image_info = {\"cover_image\":[0,1]},menu_pic_list=[0,1,2])"
   ]
  },
  {
   "cell_type": "code",
   "execution_count": 345,
   "metadata": {},
   "outputs": [
    {
     "name": "stdout",
     "output_type": "stream",
     "text": [
      "2\n",
      "[2, 3, 4]\n",
      "[2, 3, 4]\n",
      "4\n"
     ]
    }
   ],
   "source": [
    "test(image_info = {\"cover_image\":[0,1]},menu_pic_list=[0,1,2,3])"
   ]
  },
  {
   "cell_type": "code",
   "execution_count": 346,
   "metadata": {},
   "outputs": [
    {
     "name": "stdout",
     "output_type": "stream",
     "text": [
      "3\n",
      "[3, 4, 5]\n",
      "[3, 4, 5]\n",
      "4\n"
     ]
    }
   ],
   "source": [
    "test(image_info = {\"cover_image\":[0,1,2]},menu_pic_list=[0,1,2,3])"
   ]
  },
  {
   "cell_type": "code",
   "execution_count": 353,
   "metadata": {},
   "outputs": [
    {
     "name": "stdout",
     "output_type": "stream",
     "text": [
      "[0, 1, 2]\n",
      "3\n",
      "[3, 4]\n",
      "<3\n",
      "[3, 4, 0]\n",
      "2\n"
     ]
    }
   ],
   "source": [
    "test(image_info = {\"cover_image\":[0,1,2]},menu_pic_list=[0,1])"
   ]
  },
  {
   "cell_type": "code",
   "execution_count": 338,
   "metadata": {
    "scrolled": true
   },
   "outputs": [
    {
     "name": "stdout",
     "output_type": "stream",
     "text": [
      "环境图\n",
      "环境图\n",
      "dd\n"
     ]
    }
   ],
   "source": [
    "image_info={\"desc_image\":['dd']}\n",
    "image_info[\"desc_image\"] = [\"环境图\"] * 2 + image_info[\"desc_image\"]\n",
    "for x in image_info[\"desc_image\"]:\n",
    "    print x"
   ]
  },
  {
   "cell_type": "code",
   "execution_count": 18,
   "metadata": {},
   "outputs": [
    {
     "name": "stdout",
     "output_type": "stream",
     "text": [
      "1\n"
     ]
    }
   ],
   "source": [
    "from jsonpath_rw import jsonpath, parse\n",
    "import json\n",
    "poi_info=[\n",
    "{\"_id\":{\"$oid\":\"598ad6505bcdbe884d02ad50\"},\"address\":\"真州西路139-56号\",\"average_price\":0.0,\"business_hours\":\"\",\"category\":\"亲子$幼儿早教\",\"city_name\":\"仪征市\",\"custom_name\":\"秀琴姨娘母婴中心\",\"description\":\"\",\"district_name\":\"仪征市\",\"firm_level\":0,\"firm_name\":\"\",\"insert_time\":\"2017-08-09 17:30:56\",\"operating_status\":0,\"poi_id\":{\"$numberLong\":\"1750221\"},\"poi_name\":\"秀琴姨娘母婴中心\",\"traffic_info\":\"\"},\n",
    "{\"_id\":{\"$oid\":\"598ad6505bcdbe884d02ad51\"},\"address\":\"龙岗中心城公园大地花园公建二期商业楼商铺201号（中国银行二楼）\",\"average_price\":0.0,\"business_hours\":\"\",\"category\":\"亲子$幼儿早教\",\"city_name\":\"深圳市\",\"custom_name\":\"创艺宝贝\",\"description\":\"\",\"district_name\":\"龙岗区\",\"firm_level\":0,\"firm_name\":\"龙岗中心\",\"insert_time\":\"2017-08-09 17:30:56\",\"operating_status\":0,\"poi_id\":{\"$numberLong\":\"1429307\"},\"poi_name\":\"创艺宝贝(龙岗中心)\",\"traffic_info\":\"公交：乘351/802/923/933/m220/m277/m28/m304/m315/m318/m319/m367路在东都花园站下，步行200米左右即是\"}\n",
    "]\n",
    "jsonpath_expr = parse('$.address')\n",
    "for poi in [poi_info[0]]:\n",
    "    #for v in [match.value for match in jsonpath_expr.find(poi)]:\n",
    "    #    print v\n",
    "    matches = jsonpath_expr.find(poi)\n",
    "    print len(matches)"
   ]
  },
  {
   "cell_type": "code",
   "execution_count": 44,
   "metadata": {
    "collapsed": true
   },
   "outputs": [],
   "source": [
    "def get(data_dict, json_path, one_value=True):\n",
    "    \"\"\"\n",
    "    根据指定的json_path获取字段的值\n",
    "    :param data_dict: 原始数据，字典类型\n",
    "    :param json_path: 路径字符串，参考 https://pypi.python.org/pypi/jsonpath-rw\n",
    "    :return:\n",
    "    \"\"\"\n",
    "    json_path_expr = parse(json_path)\n",
    "    matches = json_path_expr.find(data_dict)\n",
    "    \n",
    "    if matches:\n",
    "        return matches[0].value if one_value else [match.value for match in matches]\n",
    "    return None"
   ]
  },
  {
   "cell_type": "code",
   "execution_count": 65,
   "metadata": {},
   "outputs": [
    {
     "name": "stdout",
     "output_type": "stream",
     "text": [
      "['\\xe9\\xbe\\x99\\xe5\\xb2\\x97\\xe4\\xb8\\xad\\xe5\\xbf\\x83\\xe5\\x9f\\x8e\\xe5\\x85\\xac\\xe5\\x9b\\xad\\xe5\\xa4\\xa7\\xe5\\x9c\\xb0\\xe8\\x8a\\xb1\\xe5\\x9b\\xad\\xe5\\x85\\xac\\xe5\\xbb\\xba\\xe4\\xba\\x8c\\xe6\\x9c\\x9f\\xe5\\x95\\x86\\xe4\\xb8\\x9a\\xe6\\xa5\\xbc\\xe5\\x95\\x86\\xe9\\x93\\xba201\\xe5\\x8f\\xb7\\xef\\xbc\\x88\\xe4\\xb8\\xad\\xe5\\x9b\\xbd\\xe9\\x93\\xb6\\xe8\\xa1\\x8c\\xe4\\xba\\x8c\\xe6\\xa5\\xbc\\xef\\xbc\\x89']\n",
      "[{'id': 1}, {'id': 2}]\n",
      "[{'category': '\\xe4\\xba\\xb2\\xe5\\xad\\x90$\\xe5\\xb9\\xbc\\xe5\\x84\\xbf\\xe6\\x97\\xa9\\xe6\\x95\\x99', 'firm_level': 0, 'poi_id': {'$numberLong': '1750221'}, 'business_hours': '', 'description': '', 'custom_name': '\\xe7\\xa7\\x80\\xe7\\x90\\xb4\\xe5\\xa7\\xa8\\xe5\\xa8\\x98\\xe6\\xaf\\x8d\\xe5\\xa9\\xb4\\xe4\\xb8\\xad\\xe5\\xbf\\x83', 'average_price': 0.0, 'firm_name': '', 'traffic_info': '', 'poi_name': '\\xe7\\xa7\\x80\\xe7\\x90\\xb4\\xe5\\xa7\\xa8\\xe5\\xa8\\x98\\xe6\\xaf\\x8d\\xe5\\xa9\\xb4\\xe4\\xb8\\xad\\xe5\\xbf\\x83', 'insert_time': '2017-08-09 17:30:56', 'address': '\\xe7\\x9c\\x9f\\xe5\\xb7\\x9e\\xe8\\xa5\\xbf\\xe8\\xb7\\xaf139-56\\xe5\\x8f\\xb7', 'city_name': '\\xe4\\xbb\\xaa\\xe5\\xbe\\x81\\xe5\\xb8\\x82', 'district_name': '\\xe4\\xbb\\xaa\\xe5\\xbe\\x81\\xe5\\xb8\\x82', '_id': {'$oid': '598ad6505bcdbe884d02ad50'}, 'operating_status': 0}, {'category': '\\xe4\\xba\\xb2\\xe5\\xad\\x90$\\xe5\\xb9\\xbc\\xe5\\x84\\xbf\\xe6\\x97\\xa9\\xe6\\x95\\x99', 'firm_level': 0, 'poi_id': {'$numberLong': '1429307'}, 'business_hours': '', 'description': '', 'custom_name': '\\xe5\\x88\\x9b\\xe8\\x89\\xba\\xe5\\xae\\x9d\\xe8\\xb4\\x9d', 'average_price': 0.0, 'firm_name': '\\xe9\\xbe\\x99\\xe5\\xb2\\x97\\xe4\\xb8\\xad\\xe5\\xbf\\x83', 'traffic_info': '\\xe5\\x85\\xac\\xe4\\xba\\xa4\\xef\\xbc\\x9a\\xe4\\xb9\\x98351/802/923/933/m220/m277/m28/m304/m315/m318/m319/m367\\xe8\\xb7\\xaf\\xe5\\x9c\\xa8\\xe4\\xb8\\x9c\\xe9\\x83\\xbd\\xe8\\x8a\\xb1\\xe5\\x9b\\xad\\xe7\\xab\\x99\\xe4\\xb8\\x8b\\xef\\xbc\\x8c\\xe6\\xad\\xa5\\xe8\\xa1\\x8c200\\xe7\\xb1\\xb3\\xe5\\xb7\\xa6\\xe5\\x8f\\xb3\\xe5\\x8d\\xb3\\xe6\\x98\\xaf', 'poi_name': '\\xe5\\x88\\x9b\\xe8\\x89\\xba\\xe5\\xae\\x9d\\xe8\\xb4\\x9d(\\xe9\\xbe\\x99\\xe5\\xb2\\x97\\xe4\\xb8\\xad\\xe5\\xbf\\x83)', 'insert_time': '2017-08-09 17:30:56', 'address': '\\xe9\\xbe\\x99\\xe5\\xb2\\x97\\xe4\\xb8\\xad\\xe5\\xbf\\x83\\xe5\\x9f\\x8e\\xe5\\x85\\xac\\xe5\\x9b\\xad\\xe5\\xa4\\xa7\\xe5\\x9c\\xb0\\xe8\\x8a\\xb1\\xe5\\x9b\\xad\\xe5\\x85\\xac\\xe5\\xbb\\xba\\xe4\\xba\\x8c\\xe6\\x9c\\x9f\\xe5\\x95\\x86\\xe4\\xb8\\x9a\\xe6\\xa5\\xbc\\xe5\\x95\\x86\\xe9\\x93\\xba201\\xe5\\x8f\\xb7\\xef\\xbc\\x88\\xe4\\xb8\\xad\\xe5\\x9b\\xbd\\xe9\\x93\\xb6\\xe8\\xa1\\x8c\\xe4\\xba\\x8c\\xe6\\xa5\\xbc\\xef\\xbc\\x89', 'city_name': '\\xe6\\xb7\\xb1\\xe5\\x9c\\xb3\\xe5\\xb8\\x82', 'district_name': '\\xe9\\xbe\\x99\\xe5\\xb2\\x97\\xe5\\x8c\\xba', '_id': {'$oid': '598ad6505bcdbe884d02ad51'}, 'operating_status': 0}]\n"
     ]
    }
   ],
   "source": [
    "print get(poi_info[1], 'address', one_value=False)\n",
    "print get([{'id':1},{'id':2}], '$')\n",
    "print get(poi_info, '$')"
   ]
  },
  {
   "cell_type": "code",
   "execution_count": 20,
   "metadata": {},
   "outputs": [
    {
     "name": "stdout",
     "output_type": "stream",
     "text": [
      "Not None\n"
     ]
    }
   ],
   "source": [
    "id_key = ''\n",
    "if id_key is None:\n",
    "    print \"None\"\n",
    "else:\n",
    "    print 'Not None'"
   ]
  },
  {
   "cell_type": "code",
   "execution_count": 24,
   "metadata": {},
   "outputs": [
    {
     "name": "stdout",
     "output_type": "stream",
     "text": [
      "<type 'float'>\n",
      "False\n",
      "True\n"
     ]
    }
   ],
   "source": [
    "print type(11.1)\n",
    "print isinstance(11.1, int)\n",
    "print isinstance(11.1, float)"
   ]
  },
  {
   "cell_type": "code",
   "execution_count": 53,
   "metadata": {},
   "outputs": [
    {
     "name": "stdout",
     "output_type": "stream",
     "text": [
      "真州西路139-56号\n"
     ]
    }
   ],
   "source": [
    "print poi_info[0].get('address')"
   ]
  },
  {
   "cell_type": "code",
   "execution_count": 73,
   "metadata": {},
   "outputs": [
    {
     "name": "stdout",
     "output_type": "stream",
     "text": [
      "[None, None, 3, 4]\n",
      "[3, 4]\n"
     ]
    }
   ],
   "source": [
    "m=map(lambda x: x if x > 2 else None, [1,2,3,4])\n",
    "print m\n",
    "print filter(None, map(lambda x: x if x > 2 else None, [1,2,3,4]))"
   ]
  },
  {
   "cell_type": "code",
   "execution_count": 79,
   "metadata": {},
   "outputs": [
    {
     "name": "stdout",
     "output_type": "stream",
     "text": [
      "<type 'dict'>\n"
     ]
    }
   ],
   "source": [
    "print type({})"
   ]
  },
  {
   "cell_type": "code",
   "execution_count": 87,
   "metadata": {},
   "outputs": [
    {
     "data": {
      "text/plain": [
       "1504399946.791711"
      ]
     },
     "execution_count": 87,
     "metadata": {},
     "output_type": "execute_result"
    }
   ],
   "source": [
    "import time\n",
    "time1=time.time()\n",
    "time1"
   ]
  },
  {
   "cell_type": "code",
   "execution_count": 90,
   "metadata": {},
   "outputs": [
    {
     "name": "stdout",
     "output_type": "stream",
     "text": [
      "[1, 2, 3, 4, 5]\n",
      "[1, 3, 5, 2, 4]\n"
     ]
    }
   ],
   "source": [
    "data_list=[1,2,3,4,5]\n",
    "print data_list\n",
    "import random\n",
    "random.shuffle(data_list)\n",
    "print data_list"
   ]
  },
  {
   "cell_type": "code",
   "execution_count": 16,
   "metadata": {},
   "outputs": [
    {
     "name": "stdout",
     "output_type": "stream",
     "text": [
      "<dictionary-itemiterator object at 0x7fd1d3fb2db8>\n",
      "2\n",
      "34\n",
      "10\n"
     ]
    },
    {
     "data": {
      "text/plain": [
       "[('1002', ({'name': 'b'}, 34)),\n",
       " ('1001', ({'name': 'a'}, 10)),\n",
       " ('1003', ({'name': 'c'}, 2))]"
      ]
     },
     "execution_count": 16,
     "metadata": {},
     "output_type": "execute_result"
    }
   ],
   "source": [
    "poi_score_dict = {'1001': ({'name':'a'},10), '1002':({'name':'b'}, 34), '1003':({'name': 'c'}, 2)}\n",
    "print poi_score_dict.iteritems()\n",
    "for poi in poi_score_dict.iteritems():\n",
    "    print poi[1][1]\n",
    "sorted(poi_score_dict.iteritems(), key=lambda it:it[1][1], reverse=True)"
   ]
  },
  {
   "cell_type": "code",
   "execution_count": 17,
   "metadata": {},
   "outputs": [
    {
     "name": "stdout",
     "output_type": "stream",
     "text": [
      "Not None\n"
     ]
    }
   ],
   "source": [
    "rank_menu_list = []\n",
    "if rank_menu_list is None:\n",
    "    print 'None'\n",
    "else:\n",
    "    print 'Not None'"
   ]
  },
  {
   "cell_type": "code",
   "execution_count": 19,
   "metadata": {},
   "outputs": [
    {
     "name": "stdout",
     "output_type": "stream",
     "text": [
      "False\n"
     ]
    }
   ],
   "source": [
    "print (True and False)"
   ]
  },
  {
   "cell_type": "code",
   "execution_count": 20,
   "metadata": {},
   "outputs": [
    {
     "name": "stdout",
     "output_type": "stream",
     "text": [
      "{'SSH_CLIENT': '114.248.239.160 53321 22', 'LOGNAME': 'bigdata', 'USER': 'bigdata', 'PATH': '/home/bigdata/bin/anaconda2/envs/tensorflow/bin:/home/bigdata/bin/anaconda2/bin:/usr/local/sbin:/usr/local/bin:/usr/sbin:/usr/bin:/sbin:/bin:/usr/games:/usr/local/games', 'HOME': '/home/bigdata', 'PS1': '(tensorflow) ${debian_chroot:+($debian_chroot)}\\\\u@\\\\h:\\\\w\\\\$ ', 'LANG': 'zh_CN.UTF-8', 'TERM': 'xterm-color', 'SHELL': '/bin/bash', 'LANGUAGE': 'zh_CN:zh', 'SHLVL': '2', 'QT_QPA_PLATFORMTHEME': 'appmenu-qt5', 'CONDA_PREFIX': '/home/bigdata/bin/anaconda2/envs/tensorflow', 'CONDA_PS1_BACKUP': '${debian_chroot:+($debian_chroot)}\\\\u@\\\\h:\\\\w\\\\$ ', 'CONDA_DEFAULT_ENV': 'tensorflow', 'JAVA_HOME': '/usr/lib/jvm/java-7-openjdk-amd64', 'XDG_RUNTIME_DIR': '/home/bigdata/.virtualenvs/jupyter_notebook', 'JPY_PARENT_PID': '20304', 'GIT_PAGER': 'cat', 'XDG_SESSION_ID': '47', '_': '/usr/bin/nohup', 'MPLBACKEND': 'module://ipykernel.pylab.backend_inline', 'SSH_TTY': '/dev/pts/12', 'OLDPWD': '/home/bigdata/bin/jupyter_notebook', 'CLICOLOR': '1', 'PWD': '/home/bigdata/Documents/notebooks', 'MAIL': '/var/mail/bigdata', 'SSH_CONNECTION': '114.248.239.160 53321 139.224.191.77 22', 'PAGER': 'cat', 'CONDA_PATH_BACKUP': '/home/bigdata/bin/anaconda2/bin:/usr/local/sbin:/usr/local/bin:/usr/sbin:/usr/bin:/sbin:/bin:/usr/games:/usr/local/games'}\n"
     ]
    }
   ],
   "source": [
    "import os\n",
    "print os.environ"
   ]
  },
  {
   "cell_type": "code",
   "execution_count": 22,
   "metadata": {
    "collapsed": true
   },
   "outputs": [],
   "source": [
    "a,b = [1,2]"
   ]
  },
  {
   "cell_type": "code",
   "execution_count": 27,
   "metadata": {},
   "outputs": [
    {
     "name": "stdout",
     "output_type": "stream",
     "text": [
      "a\n",
      "b\n"
     ]
    }
   ],
   "source": [
    "a={'a':1, 'b':2}\n",
    "for k in a:\n",
    "    print k"
   ]
  },
  {
   "cell_type": "code",
   "execution_count": 25,
   "metadata": {},
   "outputs": [
    {
     "name": "stdout",
     "output_type": "stream",
     "text": [
      "a 1\n",
      "b 2\n"
     ]
    }
   ],
   "source": [
    "for k,v in [('a',1),('b', 2)]:\n",
    "    print k,v"
   ]
  },
  {
   "cell_type": "code",
   "execution_count": 9,
   "metadata": {},
   "outputs": [
    {
     "data": {
      "text/plain": [
       "[2]"
      ]
     },
     "execution_count": 9,
     "metadata": {},
     "output_type": "execute_result"
    }
   ],
   "source": [
    "a=[1,2,3]\n",
    "a[1:2]"
   ]
  },
  {
   "cell_type": "code",
   "execution_count": 19,
   "metadata": {},
   "outputs": [
    {
     "data": {
      "text/plain": [
       "('a', 111)"
      ]
     },
     "execution_count": 19,
     "metadata": {},
     "output_type": "execute_result"
    }
   ],
   "source": [
    "import random\n",
    "res = ['aaa', 'bbb', 'ccc']\n",
    "res2 = {'a':111, 'b':222, 'c':333}\n",
    "random.choice(res)\n",
    "random.choice(res2.items())"
   ]
  },
  {
   "cell_type": "code",
   "execution_count": 31,
   "metadata": {},
   "outputs": [
    {
     "name": "stdout",
     "output_type": "stream",
     "text": [
      "中山\n",
      "1\n",
      "city1\n",
      "------\n"
     ]
    }
   ],
   "source": [
    "template = {\n",
    "  \"_id\": \"598816d23ec305f3358b456c\",\n",
    "  \"src\": \"15018074460\",\n",
    "  \"template_id\": \"15020275311\",\n",
    "  \"insert_time\": \"2017-08-07 15:29:22\",\n",
    "  \"tags\": {\n",
    "    \"category\": [\n",
    "      \"亲子$亲子教育\"\n",
    "    ]\n",
    "  },\n",
    "  \"isEdit\": 1,\n",
    "  \"score\": 1,\n",
    "  \"checkStatus\": 2,\n",
    "  \"template\": \"打开[city1]中山[/city1]的百度地图,输入 [city1]中山[/city1]幼儿园 一个字后能搜到1150结果这是在百度地图上有地址登记的中山市范围内的幼儿园数字\",\n",
    "  \"city\": {\n",
    "    \"中山\": {\n",
    "      \"position\": 1,\n",
    "      \"freq\": 2,\n",
    "      \"name\": \"city1\"\n",
    "    }\n",
    "  },\n",
    "  \"keys\": [\n",
    "    \"city1\"\n",
    "  ]\n",
    "}\n",
    "key = \"city\"\n",
    "key_list = [(x, template[key][x][\"position\"], template[key][x][\"name\"]) for x in template[key]]\n",
    "for e in key_list:\n",
    "    print(e[0])\n",
    "    print e[1]\n",
    "    print e[2]\n",
    "    print \"------\""
   ]
  },
  {
   "cell_type": "code",
   "execution_count": 69,
   "metadata": {
    "collapsed": true
   },
   "outputs": [],
   "source": [
    "from collections import OrderedDict\n",
    "def set_by_prefix(config_dict, prefix_parts, value):\n",
    "    \"\"\"\n",
    "\n",
    "    :param prefix_parts: \n",
    "    :param value: \n",
    "    :return: \n",
    "    \"\"\"\n",
    "    context = conf_dict\n",
    "    parts_len = len(prefix_parts)\n",
    "    for i, part in enumerate(prefix_parts):\n",
    "        print i,part,config_dict\n",
    "        if part not in context:\n",
    "            context[part] = OrderedDict()\n",
    "        if i < parts_len - 1:\n",
    "            context = context[prefix_parts[i]]\n",
    "    context[prefix_parts[parts_len - 1]] = value"
   ]
  },
  {
   "cell_type": "code",
   "execution_count": 70,
   "metadata": {},
   "outputs": [
    {
     "name": "stdout",
     "output_type": "stream",
     "text": [
      "0 a OrderedDict()\n",
      "1 b OrderedDict([('a', OrderedDict())])\n",
      "2 c OrderedDict([('a', OrderedDict([('b', OrderedDict())]))])\n",
      "OrderedDict([('a', OrderedDict([('b', OrderedDict([('c', 123)]))]))])\n"
     ]
    }
   ],
   "source": [
    "conf_dict=OrderedDict()\n",
    "set_by_prefix(conf_dict, ['a', 'b', 'c'], 123)\n",
    "print conf_dict"
   ]
  },
  {
   "cell_type": "code",
   "execution_count": 71,
   "metadata": {},
   "outputs": [
    {
     "data": {
      "text/plain": [
       "123"
      ]
     },
     "execution_count": 71,
     "metadata": {},
     "output_type": "execute_result"
    }
   ],
   "source": [
    "conf_dict['a']['b']['c']"
   ]
  },
  {
   "cell_type": "code",
   "execution_count": 52,
   "metadata": {},
   "outputs": [
    {
     "data": {
      "text/plain": [
       "('a/v/c', '.conf')"
      ]
     },
     "execution_count": 52,
     "metadata": {},
     "output_type": "execute_result"
    }
   ],
   "source": [
    "import os\n",
    "os.path.splitext(\"a/v/c.conf\")"
   ]
  },
  {
   "cell_type": "code",
   "execution_count": 76,
   "metadata": {},
   "outputs": [
    {
     "data": {
      "text/plain": [
       "'a/b/c'"
      ]
     },
     "execution_count": 76,
     "metadata": {},
     "output_type": "execute_result"
    }
   ],
   "source": [
    "\"/a/b/c/\".strip(\"/\")"
   ]
  },
  {
   "cell_type": "code",
   "execution_count": 81,
   "metadata": {},
   "outputs": [
    {
     "name": "stdout",
     "output_type": "stream",
     "text": [
      "True\n"
     ]
    }
   ],
   "source": [
    "print isinstance(float, type)"
   ]
  },
  {
   "cell_type": "code",
   "execution_count": 2,
   "metadata": {},
   "outputs": [
    {
     "name": "stdout",
     "output_type": "stream",
     "text": [
      "<tr><th class=\"tdTitle\" colspan=\"2\">主体</th></tr>\n",
      "<tr></tr>\n",
      "<tr><td class=\"tdTitle\">贮存条件</td><td>冷藏 0-4℃</td></tr>\n",
      "<tr><td class=\"tdTitle\">单位</td><td>斤</td></tr>\n",
      "<tr><td class=\"tdTitle\">保质期</td><td>30</td></tr>\n",
      "<tr><td class=\"tdTitle\">数量</td><td>3</td></tr>\n",
      "<tr><td class=\"tdTitle\">净含量</td><td>2.5</td></tr>\n",
      "贮存条件 冷藏 0-4℃\n",
      "单位 斤\n",
      "保质期 30\n",
      "数量 3\n",
      "净含量 2.5\n"
     ]
    }
   ],
   "source": [
    "# pip install beautifulsoup4\n",
    "\n",
    "from bs4 import BeautifulSoup  \n",
    "from collections import OrderedDict\n",
    "\n",
    "html_doc = \"<table cellpadding=\\\"0\\\" cellspacing=\\\"1\\\" width=\\\"100%\\\" border=\\\"0\\\" class=\\\"Ptable\\\"><tr><th class=\\\"tdTitle\\\" colspan=\\\"2\\\">主体</th><tr><tr><td class=\\\"tdTitle\\\">贮存条件</td><td>冷藏 0-4℃</td></tr><tr><td class=\\\"tdTitle\\\">单位</td><td>斤</td></tr><tr><td class=\\\"tdTitle\\\">保质期</td><td>30</td></tr><tr><td class=\\\"tdTitle\\\">数量</td><td>3</td></tr><tr><td class=\\\"tdTitle\\\">净含量</td><td>2.5</td></tr></table>\"\n",
    "\n",
    "def html_table2_dict(html_doc):\n",
    "    soup = BeautifulSoup(html_doc, \"html5lib\")\n",
    "    prop_dict = OrderedDict()\n",
    "    \n",
    "    for tbody in soup.table.children:\n",
    "        for tr in tbody.children:\n",
    "            print tr\n",
    "            if len(tr) == 2:\n",
    "                tds = list(tr.children)\n",
    "                prop_dict[tds[0].text] = tds[1].text\n",
    "    \n",
    "    return prop_dict\n",
    "\n",
    "ret = html_table2_dict(html_doc)\n",
    "for k in ret:\n",
    "    print k,ret[k]"
   ]
  },
  {
   "cell_type": "code",
   "execution_count": 12,
   "metadata": {},
   "outputs": [
    {
     "name": "stdout",
     "output_type": "stream",
     "text": [
      "1 {'c': 3, 'b': 2}\n",
      "2 {'c': 3, 'b': 1}\n"
     ]
    }
   ],
   "source": [
    "def load(a=None, **kwargs):\n",
    "    print a,kwargs\n",
    "    \n",
    "load(a=1, b=2, c=3)\n",
    "load(b=1,a=2,c=3)"
   ]
  },
  {
   "cell_type": "code",
   "execution_count": 13,
   "metadata": {
    "collapsed": true
   },
   "outputs": [],
   "source": [
    "def init():\n",
    "    print \"init\""
   ]
  },
  {
   "cell_type": "code",
   "execution_count": 14,
   "metadata": {},
   "outputs": [
    {
     "name": "stdout",
     "output_type": "stream",
     "text": [
      "init\n"
     ]
    }
   ],
   "source": [
    "init()"
   ]
  },
  {
   "cell_type": "code",
   "execution_count": 30,
   "metadata": {},
   "outputs": [
    {
     "name": "stdout",
     "output_type": "stream",
     "text": [
      "(2,7),\n",
      "(3,8),\n",
      "(4,7),\n",
      "(5,8),\n",
      "(6,14),\n",
      "(7,16),\n",
      "(8,14),\n",
      "(9,15),\n",
      "(10,20),\n",
      "(11,15),\n",
      "(12,21),\n",
      "(13,24),\n",
      "(14,34),\n",
      "(15,40),\n",
      "(16,34),\n",
      "(17,40),\n",
      "(18,0),\n",
      "(19,0),\n",
      "(20,0),\n",
      "(21,21),\n",
      "(22,21),\n",
      "(23,21),\n",
      "(24,21),\n",
      "(25,21),\n",
      "(26,21),\n",
      "(27,61),\n",
      "(28,61),\n"
     ]
    }
   ],
   "source": [
    "\n",
    "nums=[7,8,7,8,14,16,14,15,20,15,21,24,34,40,34,40,0,0,0,21,21,21,21,21,21,61,61]\n",
    "total = 0\n",
    "for i,num in enumerate(nums):\n",
    "    total += num\n",
    "    print \"({},{}),\".format(i+2, num)"
   ]
  },
  {
   "cell_type": "code",
   "execution_count": 34,
   "metadata": {},
   "outputs": [
    {
     "name": "stdout",
     "output_type": "stream",
     "text": [
      "21 (23, 21)\n",
      "42 (24, 21)\n",
      "63 (25, 21)\n",
      "124 (26, 61)\n",
      "185 (27, 61)\n",
      "206 (28, 21)\n"
     ]
    }
   ],
   "source": [
    "rows = [(2,7),(3,8),(4,7),(5,8),(6,14),(7,16),(8,14),(9,15),(10,20),(11,15),(12,21),(13,24),(14,34),(15,40),(16,34),(17,40),(18,0),(19,0),(20,0),(21,21),(22,21),(23,21),(24,21),(25,21),(26,61),(27,61),(28,21),]\n",
    "count=0\n",
    "for row in rows:\n",
    "    if row[0] > 22:\n",
    "        count += row[1]\n",
    "        print count, row"
   ]
  },
  {
   "cell_type": "code",
   "execution_count": 50,
   "metadata": {},
   "outputs": [
    {
     "name": "stdout",
     "output_type": "stream",
     "text": [
      "CPU:12.6713303571   RAM:7.57948242188   DISK:198.485747368\n",
      "MAX:198.485747368\n",
      "________________\n",
      "CPU:13.2880580357   RAM:44.2609863281   DISK:117.0\n",
      "MAX:117.0\n",
      "________________\n",
      "CPU:28.5   RAM:180.0   DISK:18.75\n",
      "MAX:180.0\n",
      "________________\n",
      "CPU:3.0   RAM:19.5   DISK:1.5\n",
      "MAX:19.5\n",
      "________________\n"
     ]
    }
   ],
   "source": [
    "sum_rows=[\n",
    "[9461.26,2587.13,15084916.8],\n",
    "[9921.75,15107.75,8916440],\n",
    "[21645,61695,1479150],\n",
    "[2405,6855,164350]\n",
    "]\n",
    "\n",
    "for sum_row in sum_rows:\n",
    "    cpu = sum_row[0]/560*0.75\n",
    "    ram = sum_row[1]/256*0.75\n",
    "    disk = sum_row[2]/(57*1000)*0.75\n",
    "    print \"CPU:{}   RAM:{}   DISK:{}\".format(cpu,ram,disk)\n",
    "    print \"MAX:{}\".format(max(cpu,ram,disk))\n",
    "    print \"________________\"\n"
   ]
  },
  {
   "cell_type": "code",
   "execution_count": 52,
   "metadata": {
    "collapsed": true
   },
   "outputs": [],
   "source": [
    "def enum(**enums):\n",
    "    return type('Enum', (), enums)\n",
    "EVENT = enum(\n",
    "    START=\"start\",\n",
    "    FLOW_NODE_START=\"flow_node_start\",\n",
    "    FLOW_NODE_DONE=\"flow_node_done\",\n",
    "    FLOW_NODE_EXCEPTION=\"flow_node_exception\",\n",
    "    CHECK_POIN=\"check_point\",\n",
    "    DONE=\"done\")\n",
    "\n",
    "class Enum()"
   ]
  },
  {
   "cell_type": "code",
   "execution_count": 102,
   "metadata": {
    "collapsed": true
   },
   "outputs": [],
   "source": [
    "class Enum(dict):\n",
    "    def __getattr__(self, name):\n",
    "        if name in self:\n",
    "            return name\n",
    "        else:\n",
    "            raise AttributeError(name)\n",
    "            \n",
    "    def __setattr__(self, k, v):\n",
    "        pass\n",
    "    \n",
    "    def __setitem__(self, k ,v):\n",
    "        pass\n",
    "    \n",
    "\n",
    "EVENT = Enum(FLOW_START=\"start\",\n",
    "    FLOW_NODE_START=\"flow_node_start\",\n",
    "    FLOW_NODE_DONE=\"flow_node_done\",\n",
    "    FLOW_NODE_EXCEPTION=\"flow_node_exception\",\n",
    "    CHECK_POINT=\"check_point\",\n",
    "    FLOW_DONE=\"done\")    "
   ]
  },
  {
   "cell_type": "code",
   "execution_count": 103,
   "metadata": {},
   "outputs": [
    {
     "name": "stdout",
     "output_type": "stream",
     "text": [
      "FLOW_START FLOW_NODE_START FLOW_NODE_DONE FLOW_NODE_EXCEPTION CHECK_POINT FLOW_DONE\n",
      "['CHECK_POINT', 'FLOW_DONE', 'FLOW_NODE_DONE', 'FLOW_NODE_EXCEPTION', 'FLOW_NODE_START', 'FLOW_START']\n"
     ]
    }
   ],
   "source": [
    "print EVENT.FLOW_START, EVENT.FLOW_NODE_START,EVENT.FLOW_NODE_DONE, EVENT.FLOW_NODE_EXCEPTION, EVENT.CHECK_POINT, EVENT.FLOW_DONE\n",
    "\n",
    "print EVENT.keys()"
   ]
  },
  {
   "cell_type": "code",
   "execution_count": 109,
   "metadata": {},
   "outputs": [
    {
     "name": "stdout",
     "output_type": "stream",
     "text": [
      "{'a': 1, 'b': 2}\n"
     ]
    }
   ],
   "source": [
    "def a(**kwargs):\n",
    "    print kwargs\n",
    "    \n",
    "def b(**kwargs):\n",
    "    a(**kwargs)\n",
    "    \n",
    "b(a=1, b=2)"
   ]
  },
  {
   "cell_type": "code",
   "execution_count": 110,
   "metadata": {
    "collapsed": true
   },
   "outputs": [],
   "source": [
    "c=dict({\"a\":1, \"b\":2})\n",
    "c.update({\"context\":3})"
   ]
  },
  {
   "cell_type": "code",
   "execution_count": 111,
   "metadata": {},
   "outputs": [
    {
     "data": {
      "text/plain": [
       "{'a': 1, 'b': 2, 'context': 3}"
      ]
     },
     "execution_count": 111,
     "metadata": {},
     "output_type": "execute_result"
    }
   ],
   "source": [
    "c"
   ]
  },
  {
   "cell_type": "code",
   "execution_count": 113,
   "metadata": {},
   "outputs": [
    {
     "name": "stdout",
     "output_type": "stream",
     "text": [
      "{'a': 1, 'b': 2, 'context': 3}\n"
     ]
    }
   ],
   "source": [
    "a(**c)"
   ]
  },
  {
   "cell_type": "code",
   "execution_count": 120,
   "metadata": {},
   "outputs": [
    {
     "name": "stdout",
     "output_type": "stream",
     "text": [
      "{'A': 456}\n"
     ]
    },
    {
     "data": {
      "text/plain": [
       "False"
      ]
     },
     "execution_count": 120,
     "metadata": {},
     "output_type": "execute_result"
    }
   ],
   "source": [
    "e = {\"A\":456}\n",
    "d = {}\n",
    "d.update(e)\n",
    "print d\n",
    "id(d[\"\"]) == id(c)"
   ]
  },
  {
   "cell_type": "code",
   "execution_count": 129,
   "metadata": {},
   "outputs": [
    {
     "name": "stdout",
     "output_type": "stream",
     "text": [
      "A\n",
      "a    4\n",
      "b    2\n",
      "dtype: int64\n"
     ]
    },
    {
     "data": {
      "text/plain": [
       "0    0\n",
       "1    1\n",
       "2    2\n",
       "3    0\n",
       "4    1\n",
       "5    3\n",
       "dtype: int64"
      ]
     },
     "execution_count": 129,
     "metadata": {},
     "output_type": "execute_result"
    }
   ],
   "source": [
    "df = pd.DataFrame([['a'], ['a'], ['a'], ['b'], ['b'], ['a']],columns=['A'])\n",
    "print df.groupby('A').size()\n",
    "df.groupby('A').cumcount()"
   ]
  },
  {
   "cell_type": "code",
   "execution_count": 131,
   "metadata": {},
   "outputs": [
    {
     "data": {
      "text/plain": [
       "array([], dtype=float64)"
      ]
     },
     "execution_count": 131,
     "metadata": {},
     "output_type": "execute_result"
    }
   ],
   "source": [
    "np.array([])"
   ]
  },
  {
   "cell_type": "code",
   "execution_count": 151,
   "metadata": {},
   "outputs": [
    {
     "name": "stdout",
     "output_type": "stream",
     "text": [
      "[10  7  4  3  2  1]\n",
      "3.5\n",
      "3.5\n"
     ]
    },
    {
     "data": {
      "text/plain": [
       "4.5"
      ]
     },
     "execution_count": 151,
     "metadata": {},
     "output_type": "execute_result"
    }
   ],
   "source": [
    "a = np.array([[10, 7, 4], [3, 2, 1]])\n",
    "print a.flatten()\n",
    "print np.percentile(a.flatten(), 50)\n",
    "print np.median(a)\n",
    "np.mean(a)"
   ]
  },
  {
   "cell_type": "code",
   "execution_count": 152,
   "metadata": {},
   "outputs": [
    {
     "name": "stdout",
     "output_type": "stream",
     "text": [
      "Help on built-in function split:\n",
      "\n",
      "split(...)\n",
      "    S.split([sep [,maxsplit]]) -> list of strings\n",
      "    \n",
      "    Return a list of the words in the string S, using sep as the\n",
      "    delimiter string.  If maxsplit is given, at most maxsplit\n",
      "    splits are done. If sep is not specified or is None, any\n",
      "    whitespace string is a separator and empty strings are removed\n",
      "    from the result.\n",
      "\n"
     ]
    }
   ],
   "source": [
    "help(\"\".split)"
   ]
  },
  {
   "cell_type": "code",
   "execution_count": 160,
   "metadata": {},
   "outputs": [
    {
     "name": "stdout",
     "output_type": "stream",
     "text": [
      "a.b.c.d Hello\n"
     ]
    }
   ],
   "source": [
    "moudule, class_ = \"a.b.c.d.Hello\".rsplit(\".\", 1)\n",
    "print moudule, class_"
   ]
  },
  {
   "cell_type": "code",
   "execution_count": 175,
   "metadata": {},
   "outputs": [
    {
     "data": {
      "text/plain": [
       "'type'"
      ]
     },
     "execution_count": 175,
     "metadata": {},
     "output_type": "execute_result"
    }
   ],
   "source": [
    "import sys\n",
    "class A(object):\n",
    "    \n",
    "    def b():\n",
    "        pass\n",
    "\n",
    "type(getattr(sys.modules['__main__'], 'A')).__name__"
   ]
  },
  {
   "cell_type": "code",
   "execution_count": 187,
   "metadata": {},
   "outputs": [
    {
     "data": {
      "text/plain": [
       "False"
      ]
     },
     "execution_count": 187,
     "metadata": {},
     "output_type": "execute_result"
    }
   ],
   "source": [
    "a = type('A', (object,), dict(a=1))\n",
    "hasattr(A(), \"c\")"
   ]
  },
  {
   "cell_type": "code",
   "execution_count": 188,
   "metadata": {},
   "outputs": [
    {
     "data": {
      "text/plain": [
       "['__call__',\n",
       " '__class__',\n",
       " '__cmp__',\n",
       " '__delattr__',\n",
       " '__doc__',\n",
       " '__format__',\n",
       " '__func__',\n",
       " '__get__',\n",
       " '__getattribute__',\n",
       " '__hash__',\n",
       " '__init__',\n",
       " '__new__',\n",
       " '__reduce__',\n",
       " '__reduce_ex__',\n",
       " '__repr__',\n",
       " '__self__',\n",
       " '__setattr__',\n",
       " '__sizeof__',\n",
       " '__str__',\n",
       " '__subclasshook__',\n",
       " 'im_class',\n",
       " 'im_func',\n",
       " 'im_self']"
      ]
     },
     "execution_count": 188,
     "metadata": {},
     "output_type": "execute_result"
    }
   ],
   "source": [
    "dir(A().b)"
   ]
  },
  {
   "cell_type": "code",
   "execution_count": 190,
   "metadata": {},
   "outputs": [
    {
     "data": {
      "text/plain": [
       "instancemethod"
      ]
     },
     "execution_count": 190,
     "metadata": {},
     "output_type": "execute_result"
    }
   ],
   "source": [
    "A().b.__class__"
   ]
  },
  {
   "cell_type": "code",
   "execution_count": 192,
   "metadata": {},
   "outputs": [
    {
     "name": "stdout",
     "output_type": "stream",
     "text": [
      "123\n",
      "123\n",
      "123\n",
      "456\n"
     ]
    }
   ],
   "source": [
    "class Hello(object):\n",
    "    \n",
    "    def __init__(self, a):\n",
    "        self.a = a\n",
    "        \n",
    "h1 = Hello(\"123\")\n",
    "h2 = Hello(h1.a)\n",
    "print h1.a\n",
    "print h2.a\n",
    "h2.a = \"456\"\n",
    "print h1.a\n",
    "print h2.a"
   ]
  },
  {
   "cell_type": "code",
   "execution_count": 268,
   "metadata": {},
   "outputs": [
    {
     "name": "stdout",
     "output_type": "stream",
     "text": [
      "aaa g1 text None\n",
      "False\n",
      "123\n",
      "haha\n",
      "\n",
      "123<content_block block_name=\"aaa\" display_type=\"text\" group_name=\"g1\">dddd</content_block>\n",
      "123<content_block block_name=\"aaa\" display_type=\"text\" group_name=\"g1\">dddd</content_block>\n",
      "123123\n"
     ]
    }
   ],
   "source": [
    "import copy\n",
    "html = \"\"\"123<content_block block_name=\"aaa\" group_name = \"g1\" display_type=\"text\">dddd</content_block>\"\"\"\n",
    "\n",
    "soup = BeautifulSoup(html, \"html.parser\")\n",
    "soup2 = copy.copy(soup)\n",
    "for block in soup.find_all(\"content_block\"):\n",
    "    print block[\"block_name\"],block[\"group_name\"], block[\"display_type\"], block.get(\"display_type1\")\n",
    "    print \"block_name\" in block\n",
    "    block.replace_with(\"haha\")\n",
    "print soup.prettify()\n",
    "print str(soup2)\n",
    "tag = soup2.find(\"content_block\", block_name=\"aaa\", group_name=\"g1\")\n",
    "print soup2\n",
    "tag.replace_with(BeautifulSoup(\"{}\".format(\"123\"), \"html.parser\"))\n",
    "print soup2"
   ]
  },
  {
   "cell_type": "code",
   "execution_count": 290,
   "metadata": {},
   "outputs": [
    {
     "name": "stdout",
     "output_type": "stream",
     "text": [
      "123\n",
      "<content_block block_name=\"aaa\" display_type=\"text\" group_name=\"g1\">dddd</content_block>\n",
      "\n",
      "\n",
      "<content_block block_name=\"aaa\" display_type=\"text\" group_name=\"g1\">dddd</content_block>\n",
      "\n",
      "\n",
      "<div><input/></div>\n",
      "\n",
      "\n",
      "123<content_block block_name=\"aaa\" display_type=\"text\" group_name=\"g1\">dddd</content_block>\n",
      "<content_block block_name=\"aaa\" display_type=\"text\" group_name=\"g1\">dddd</content_block>\n",
      "<div><input/></div>\n",
      "\n",
      "123div\n",
      "div\n",
      "<div><input/></div>\n",
      "\n"
     ]
    }
   ],
   "source": [
    "html = \"\"\"123<content_block block_name=\"aaa\" group_name = \"g1\" display_type=\"text\">dddd</content_block>\n",
    "<content_block block_name=\"aaa\" group_name = \"g1\" display_type=\"text\">dddd</content_block>\n",
    "<div><input/></div>\n",
    "\"\"\"\n",
    "\n",
    "soup3 = BeautifulSoup(html, \"html.parser\")\n",
    "for node in soup3.children:\n",
    "    print node\n",
    "div = BeautifulSoup(\"<div><input/></div>\", \"html.parser\")\n",
    "tags = soup3.find_all(\"content_block\", block_name=\"aaa\", group_name=\"g1\")\n",
    "print soup3\n",
    "for tag in tags:\n",
    "    tag.insert_before(\"div\")\n",
    "    tag.decompose()\n",
    "print soup3"
   ]
  },
  {
   "cell_type": "code",
   "execution_count": 298,
   "metadata": {},
   "outputs": [
    {
     "data": {
      "text/plain": [
       "'ascii'"
      ]
     },
     "execution_count": 298,
     "metadata": {},
     "output_type": "execute_result"
    }
   ],
   "source": []
  },
  {
   "cell_type": "code",
   "execution_count": 4,
   "metadata": {},
   "outputs": [
    {
     "name": "stdout",
     "output_type": "stream",
     "text": [
      "<class 'bs4.element.Tag'>\n",
      "<class 'bs4.element.NavigableString'>\n",
      " 第1篇\n"
     ]
    }
   ],
   "source": [
    "# doc_elements = BeautifulSoup(u\"<div>吴恩达先生的3门课程都超级有用。<b>粗体字</b>普通字</div> 第1篇\", \"html.parser\").children\n",
    "# for el in doc_elements:\n",
    "#     print el\n",
    "\n",
    "soup = BeautifulSoup(\"<div>吴恩达先生的3门课程都超级有用。<b>粗体字</b>普通字</div> 第1篇\", \"html.parser\")\n",
    "for x in soup.contents:\n",
    "    print type(x)\n",
    "print soup.contents[1]"
   ]
  },
  {
   "cell_type": "code",
   "execution_count": 245,
   "metadata": {},
   "outputs": [
    {
     "name": "stdout",
     "output_type": "stream",
     "text": [
      "('A1', 'B1')\n",
      "('A1', 'B2')\n",
      "('A1', 'B3')\n",
      "('A2', 'B1')\n",
      "('A2', 'B2')\n",
      "('A2', 'B3')\n",
      "('A3', 'B1')\n",
      "('A3', 'B2')\n",
      "('A3', 'B3')\n"
     ]
    }
   ],
   "source": [
    "import itertools\n",
    "title1 = [\"A1\",\"A2\", \"A3\"]\n",
    "title2 = [\"B1\",\"B2\", \"B3\"]\n",
    "\n",
    "for x in itertools.product(title1, title2):\n",
    "    print x"
   ]
  },
  {
   "cell_type": "code",
   "execution_count": 248,
   "metadata": {},
   "outputs": [
    {
     "data": {
      "text/plain": [
       "'<span>123</span>'"
      ]
     },
     "execution_count": 248,
     "metadata": {},
     "output_type": "execute_result"
    }
   ],
   "source": [
    "'<span>{}</span>'.format(\"123\")"
   ]
  },
  {
   "cell_type": "code",
   "execution_count": 276,
   "metadata": {},
   "outputs": [
    {
     "name": "stdout",
     "output_type": "stream",
     "text": [
      "ok\n"
     ]
    }
   ],
   "source": [
    "if [1]:\n",
    "    print \"ok\""
   ]
  },
  {
   "cell_type": "code",
   "execution_count": 313,
   "metadata": {},
   "outputs": [
    {
     "data": {
      "text/plain": [
       "[0, 1]"
      ]
     },
     "execution_count": 313,
     "metadata": {},
     "output_type": "execute_result"
    }
   ],
   "source": [
    "range(2)"
   ]
  },
  {
   "cell_type": "code",
   "execution_count": 8,
   "metadata": {},
   "outputs": [
    {
     "data": {
      "text/plain": [
       "<i>Don't</i><b>stop</b>"
      ]
     },
     "execution_count": 8,
     "metadata": {},
     "output_type": "execute_result"
    }
   ],
   "source": [
    "soup = BeautifulSoup(\"<b>stop</b>\", \"html.parser\")\n",
    "tag = soup.new_tag(\"i\")\n",
    "tag.string = \"Don't\"\n",
    "soup.b.insert_before(tag)\n",
    "soup\n",
    "# <b><i>Don't</i>stop</b>"
   ]
  },
  {
   "cell_type": "code",
   "execution_count": 31,
   "metadata": {},
   "outputs": [
    {
     "name": "stdout",
     "output_type": "stream",
     "text": [
      "这家[poi_name]肯德基上地店[/poi_name]离公司很近，地址是，请认准[poi_name]肯德基上地店[/poi_name]\n",
      "这家离公司很近，地址是，请认准\n"
     ]
    }
   ],
   "source": [
    "import re\n",
    "block_data = \"这家[poi_name]肯德基上地店[/poi_name]离公司很近，地址是[poi_address]辉煌国际大厦一层[/poi_address]，请认准[poi_name]肯德基上地店[/poi_name]\"\n",
    "pattern = re.compile(\"\\[([a-zA-Z0-9\\_]+)\\][^\\[\\]]*\\[/[a-zA-Z0-9\\_]+\\]\")\n",
    "pattern_list = pattern.findall(block_data)\n",
    "template_words = set()\n",
    "for match in pattern_list:\n",
    "    template_words.add(match)\n",
    "\n",
    "for match in template_words:\n",
    "    full_re = re.compile(\"\\[{}\\][^\\[\\]]*\\[/{}\\]\".format(match, match))\n",
    "    block_data = re.sub(full_re, \"\", block_data)\n",
    "    print block_data"
   ]
  },
  {
   "cell_type": "code",
   "execution_count": 46,
   "metadata": {},
   "outputs": [
    {
     "name": "stdout",
     "output_type": "stream",
     "text": [
      "set([u'\\u4f60', u'\\u597d'])\n",
      "你\n",
      "好\n"
     ]
    }
   ],
   "source": [
    "a = set(u\"你好\")\n",
    "print a\n",
    "for x in a:\n",
    "    print x"
   ]
  },
  {
   "cell_type": "markdown",
   "metadata": {
    "collapsed": true
   },
   "source": [
    "$\\large S=W_1S_{word2vec} + W_2S_{doc2vec} + W_3S_{glove} + W_4C$"
   ]
  },
  {
   "cell_type": "code",
   "execution_count": 50,
   "metadata": {},
   "outputs": [
    {
     "name": "stdout",
     "output_type": "stream",
     "text": [
      "<class '__main__.A'>\n"
     ]
    }
   ],
   "source": [
    "class A(object):\n",
    "    pass\n",
    "\n",
    "print(\"{}\".format(A))"
   ]
  },
  {
   "cell_type": "code",
   "execution_count": 54,
   "metadata": {},
   "outputs": [
    {
     "data": {
      "text/plain": [
       "{'A': 1}"
      ]
     },
     "execution_count": 54,
     "metadata": {},
     "output_type": "execute_result"
    }
   ],
   "source": [
    "dict(dict(A=1))"
   ]
  },
  {
   "cell_type": "code",
   "execution_count": 59,
   "metadata": {},
   "outputs": [
    {
     "name": "stdout",
     "output_type": "stream",
     "text": [
      "a\n"
     ]
    }
   ],
   "source": [
    "s = u\"a\"\n",
    "if s:\n",
    "    print s[0]"
   ]
  },
  {
   "cell_type": "code",
   "execution_count": 70,
   "metadata": {},
   "outputs": [
    {
     "name": "stdout",
     "output_type": "stream",
     "text": [
      "2 1\n",
      "1 2\n"
     ]
    }
   ],
   "source": [
    "def a(a,b):\n",
    "    print a,b\n",
    "    \n",
    "a(**{\"b\":1, \"a\":2})\n",
    "a(b=2,a=1)"
   ]
  },
  {
   "cell_type": "code",
   "execution_count": 114,
   "metadata": {},
   "outputs": [
    {
     "data": {
      "text/plain": [
       "'UT'"
      ]
     },
     "execution_count": 114,
     "metadata": {},
     "output_type": "execute_result"
    }
   ],
   "source": [
    "import string\n",
    "username_seed = string.digits+string.ascii_letters\n",
    "''.join(random.choice(username_seed) for u in range(random.randint(2,4)))"
   ]
  },
  {
   "cell_type": "code",
   "execution_count": 132,
   "metadata": {},
   "outputs": [
    {
     "name": "stdout",
     "output_type": "stream",
     "text": [
      "False\n"
     ]
    }
   ],
   "source": [
    "class A(object):\n",
    "    def __init__(self):\n",
    "        self.dict = dict(a=1, b=2)\n",
    "    \n",
    "    def __getitem__(self, item):\n",
    "        return self.dict[item]\n",
    "    \n",
    "    def __iter__(self):\n",
    "        return iter(self.dict)\n",
    "    \n",
    "ins = A()\n",
    "print \"c\" in ins"
   ]
  },
  {
   "cell_type": "code",
   "execution_count": null,
   "metadata": {
    "collapsed": true
   },
   "outputs": [],
   "source": []
  }
 ],
 "metadata": {
  "kernelspec": {
   "display_name": "Python 2",
   "language": "python",
   "name": "python2"
  },
  "language_info": {
   "codemirror_mode": {
    "name": "ipython",
    "version": 2
   },
   "file_extension": ".py",
   "mimetype": "text/x-python",
   "name": "python",
   "nbconvert_exporter": "python",
   "pygments_lexer": "ipython2",
   "version": "2.7.13"
  },
  "toc": {
   "colors": {
    "hover_highlight": "#DAA520",
    "running_highlight": "#FF0000",
    "selected_highlight": "#FFD700"
   },
   "moveMenuLeft": true,
   "nav_menu": {
    "height": "12px",
    "width": "252px"
   },
   "navigate_menu": true,
   "number_sections": true,
   "sideBar": true,
   "threshold": 4,
   "toc_cell": false,
   "toc_section_display": "block",
   "toc_window_display": false
  }
 },
 "nbformat": 4,
 "nbformat_minor": 2
}
