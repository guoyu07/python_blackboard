{
 "cells": [
  {
   "cell_type": "code",
   "execution_count": 1,
   "metadata": {
    "collapsed": true,
    "deletable": true,
    "editable": true,
    "run_control": {
     "marked": false
    }
   },
   "outputs": [],
   "source": [
    "from IPython.display import display\n",
    "import pandas as pd\n",
    "import numpy as np\n",
    "import matplotlib.pyplot as plt\n",
    "from datetime import datetime\n",
    "import math"
   ]
  },
  {
   "cell_type": "code",
   "execution_count": 9,
   "metadata": {
    "collapsed": false,
    "deletable": true,
    "editable": true,
    "run_control": {
     "marked": false
    }
   },
   "outputs": [
    {
     "name": "stdout",
     "output_type": "stream",
     "text": [
      "145 1 1 1\n"
     ]
    },
    {
     "data": {
      "text/plain": [
       "('145', '123')"
      ]
     },
     "metadata": {},
     "output_type": "display_data"
    }
   ],
   "source": [
    "a=('145', \"123\")\n",
    "b=[1,2]\n",
    "c={\"a\":1, \"b\":2}\n",
    "print a[0], b[0], c.get('a'), c['a']\n",
    "display(a)"
   ]
  },
  {
   "cell_type": "code",
   "execution_count": null,
   "metadata": {
    "collapsed": false,
    "deletable": true,
    "editable": true,
    "run_control": {
     "marked": false
    }
   },
   "outputs": [],
   "source": [
    "env"
   ]
  },
  {
   "cell_type": "code",
   "execution_count": null,
   "metadata": {
    "collapsed": false,
    "deletable": true,
    "editable": true,
    "run_control": {
     "marked": false
    }
   },
   "outputs": [],
   "source": [
    "pwd"
   ]
  },
  {
   "cell_type": "code",
   "execution_count": null,
   "metadata": {
    "collapsed": false,
    "deletable": true,
    "editable": true,
    "run_control": {
     "marked": false
    }
   },
   "outputs": [],
   "source": [
    "hist"
   ]
  },
  {
   "cell_type": "code",
   "execution_count": null,
   "metadata": {
    "collapsed": true,
    "deletable": true,
    "editable": true,
    "run_control": {
     "marked": false
    }
   },
   "outputs": [],
   "source": [
    "%magic"
   ]
  },
  {
   "cell_type": "code",
   "execution_count": null,
   "metadata": {
    "collapsed": false,
    "deletable": true,
    "editable": true,
    "run_control": {
     "marked": false
    }
   },
   "outputs": [],
   "source": [
    "[i for i in range(10)]"
   ]
  },
  {
   "cell_type": "code",
   "execution_count": null,
   "metadata": {
    "collapsed": false,
    "deletable": true,
    "editable": true,
    "run_control": {
     "marked": false
    }
   },
   "outputs": [],
   "source": [
    "[i*i for i in range(10)]"
   ]
  },
  {
   "cell_type": "code",
   "execution_count": null,
   "metadata": {
    "collapsed": false,
    "deletable": true,
    "editable": true,
    "run_control": {
     "marked": false
    }
   },
   "outputs": [],
   "source": [
    "a=(i*10 for i in range(10))"
   ]
  },
  {
   "cell_type": "code",
   "execution_count": null,
   "metadata": {
    "collapsed": false,
    "deletable": true,
    "editable": true,
    "run_control": {
     "marked": false
    }
   },
   "outputs": [],
   "source": [
    "display(a)"
   ]
  },
  {
   "cell_type": "code",
   "execution_count": null,
   "metadata": {
    "collapsed": false,
    "deletable": true,
    "editable": true,
    "run_control": {
     "marked": false
    }
   },
   "outputs": [],
   "source": [
    "for m in a :\n",
    "    print m"
   ]
  },
  {
   "cell_type": "code",
   "execution_count": null,
   "metadata": {
    "collapsed": false,
    "deletable": true,
    "editable": true,
    "run_control": {
     "marked": false
    }
   },
   "outputs": [],
   "source": [
    "print i,m"
   ]
  },
  {
   "cell_type": "code",
   "execution_count": null,
   "metadata": {
    "collapsed": true,
    "deletable": true,
    "editable": true,
    "run_control": {
     "marked": false
    }
   },
   "outputs": [],
   "source": [
    "b=(n*10 for n in range(10))"
   ]
  },
  {
   "cell_type": "code",
   "execution_count": null,
   "metadata": {
    "collapsed": false,
    "deletable": true,
    "editable": true,
    "run_control": {
     "marked": false
    }
   },
   "outputs": [],
   "source": [
    "print n"
   ]
  },
  {
   "cell_type": "code",
   "execution_count": null,
   "metadata": {
    "collapsed": false,
    "deletable": true,
    "editable": true,
    "run_control": {
     "marked": false
    }
   },
   "outputs": [],
   "source": [
    "print ['hi'] * 4, ('hi',) * 4"
   ]
  },
  {
   "cell_type": "code",
   "execution_count": null,
   "metadata": {
    "collapsed": false,
    "deletable": true,
    "editable": true,
    "run_control": {
     "marked": false
    }
   },
   "outputs": [],
   "source": [
    "list((\"abcd\", \"efg\"))"
   ]
  },
  {
   "cell_type": "code",
   "execution_count": 7,
   "metadata": {
    "collapsed": false,
    "deletable": true,
    "editable": true,
    "run_control": {
     "marked": false
    }
   },
   "outputs": [
    {
     "name": "stdout",
     "output_type": "stream",
     "text": [
      "[('bar1', '10'), ('bar2', '20'), ('baz1', '30'), ('baz2', '40'), ('foo1', '50'), ('foo2', '60'), ('qux1', '70'), ('qux2', '80')]\n",
      "MultiIndex(levels=[[u'bar1', u'bar2', u'baz1', u'baz2', u'foo1', u'foo2', u'qux1', u'qux2'], [u'10', u'20', u'30', u'40', u'50', u'60', u'70', u'80']],\n",
      "           labels=[[0, 1, 2, 3, 4, 5, 6, 7], [0, 1, 2, 3, 4, 5, 6, 7]],\n",
      "           names=[u'first', u'second'])\n",
      "                     A         B\n",
      "first second                    \n",
      "bar1  10      1.228752  0.006214\n",
      "bar2  20     -0.823871 -0.571789\n",
      "baz1  30     -1.524281  0.307203\n",
      "baz2  40     -0.254074 -1.073105\n",
      "foo1  50      1.416852  0.048216\n",
      "foo2  60     -2.298543 -0.236566\n",
      "qux1  70      0.344212 -0.677224\n",
      "qux2  80     -0.448450 -0.283864\n"
     ]
    },
    {
     "data": {
      "text/html": [
       "<div>\n",
       "<table border=\"1\" class=\"dataframe\">\n",
       "  <thead>\n",
       "    <tr style=\"text-align: right;\">\n",
       "      <th></th>\n",
       "      <th></th>\n",
       "      <th>A</th>\n",
       "      <th>B</th>\n",
       "    </tr>\n",
       "    <tr>\n",
       "      <th>first</th>\n",
       "      <th>second</th>\n",
       "      <th></th>\n",
       "      <th></th>\n",
       "    </tr>\n",
       "  </thead>\n",
       "  <tbody>\n",
       "    <tr>\n",
       "      <th>bar1</th>\n",
       "      <th>10</th>\n",
       "      <td>1.228752</td>\n",
       "      <td>0.006214</td>\n",
       "    </tr>\n",
       "    <tr>\n",
       "      <th>bar2</th>\n",
       "      <th>20</th>\n",
       "      <td>-0.823871</td>\n",
       "      <td>-0.571789</td>\n",
       "    </tr>\n",
       "    <tr>\n",
       "      <th>baz1</th>\n",
       "      <th>30</th>\n",
       "      <td>-1.524281</td>\n",
       "      <td>0.307203</td>\n",
       "    </tr>\n",
       "    <tr>\n",
       "      <th>baz2</th>\n",
       "      <th>40</th>\n",
       "      <td>-0.254074</td>\n",
       "      <td>-1.073105</td>\n",
       "    </tr>\n",
       "    <tr>\n",
       "      <th>foo1</th>\n",
       "      <th>50</th>\n",
       "      <td>1.416852</td>\n",
       "      <td>0.048216</td>\n",
       "    </tr>\n",
       "    <tr>\n",
       "      <th>foo2</th>\n",
       "      <th>60</th>\n",
       "      <td>-2.298543</td>\n",
       "      <td>-0.236566</td>\n",
       "    </tr>\n",
       "    <tr>\n",
       "      <th>qux1</th>\n",
       "      <th>70</th>\n",
       "      <td>0.344212</td>\n",
       "      <td>-0.677224</td>\n",
       "    </tr>\n",
       "    <tr>\n",
       "      <th>qux2</th>\n",
       "      <th>80</th>\n",
       "      <td>-0.448450</td>\n",
       "      <td>-0.283864</td>\n",
       "    </tr>\n",
       "  </tbody>\n",
       "</table>\n",
       "</div>"
      ],
      "text/plain": [
       "                     A         B\n",
       "first second                    \n",
       "bar1  10      1.228752  0.006214\n",
       "bar2  20     -0.823871 -0.571789\n",
       "baz1  30     -1.524281  0.307203\n",
       "baz2  40     -0.254074 -1.073105\n",
       "foo1  50      1.416852  0.048216\n",
       "foo2  60     -2.298543 -0.236566\n",
       "qux1  70      0.344212 -0.677224\n",
       "qux2  80     -0.448450 -0.283864"
      ]
     },
     "metadata": {},
     "output_type": "display_data"
    },
    {
     "name": "stdout",
     "output_type": "stream",
     "text": [
      "                     A         B\n",
      "first second                    \n",
      "bar1  10      1.228752  0.006214\n",
      "bar2  20     -0.823871 -0.571789\n",
      "baz1  30     -1.524281  0.307203\n",
      "baz2  40     -0.254074 -1.073105\n"
     ]
    },
    {
     "data": {
      "text/html": [
       "<div>\n",
       "<table border=\"1\" class=\"dataframe\">\n",
       "  <thead>\n",
       "    <tr style=\"text-align: right;\">\n",
       "      <th></th>\n",
       "      <th></th>\n",
       "      <th>A</th>\n",
       "      <th>B</th>\n",
       "    </tr>\n",
       "    <tr>\n",
       "      <th>first</th>\n",
       "      <th>second</th>\n",
       "      <th></th>\n",
       "      <th></th>\n",
       "    </tr>\n",
       "  </thead>\n",
       "  <tbody>\n",
       "    <tr>\n",
       "      <th>bar1</th>\n",
       "      <th>10</th>\n",
       "      <td>1.228752</td>\n",
       "      <td>0.006214</td>\n",
       "    </tr>\n",
       "    <tr>\n",
       "      <th>bar2</th>\n",
       "      <th>20</th>\n",
       "      <td>-0.823871</td>\n",
       "      <td>-0.571789</td>\n",
       "    </tr>\n",
       "    <tr>\n",
       "      <th>baz1</th>\n",
       "      <th>30</th>\n",
       "      <td>-1.524281</td>\n",
       "      <td>0.307203</td>\n",
       "    </tr>\n",
       "    <tr>\n",
       "      <th>baz2</th>\n",
       "      <th>40</th>\n",
       "      <td>-0.254074</td>\n",
       "      <td>-1.073105</td>\n",
       "    </tr>\n",
       "  </tbody>\n",
       "</table>\n",
       "</div>"
      ],
      "text/plain": [
       "                     A         B\n",
       "first second                    \n",
       "bar1  10      1.228752  0.006214\n",
       "bar2  20     -0.823871 -0.571789\n",
       "baz1  30     -1.524281  0.307203\n",
       "baz2  40     -0.254074 -1.073105"
      ]
     },
     "metadata": {},
     "output_type": "display_data"
    }
   ],
   "source": [
    "tuples = list(zip(*[\n",
    "    ['bar1', 'bar2', 'baz1', 'baz2','foo1', 'foo2', 'qux1', 'qux2'],\n",
    "    ['10', '20', '30', '40','50', '60', '70', '80']\n",
    "]))\n",
    "print tuples\n",
    "\n",
    "index = pd.MultiIndex.from_tuples(tuples, names=['first', 'second'])\n",
    "print(index)\n",
    "#display(index)\n",
    "\n",
    "df = pd.DataFrame(np.random.randn(8, 2), index=index, columns=['A', 'B'])\n",
    "print df\n",
    "display(df)\n",
    "\n",
    "df2 = df[:4]\n",
    "print df2\n",
    "display(df2)"
   ]
  },
  {
   "cell_type": "code",
   "execution_count": null,
   "metadata": {
    "collapsed": false,
    "deletable": true,
    "editable": true,
    "run_control": {
     "marked": false
    }
   },
   "outputs": [],
   "source": [
    "stacked = df2.stack()\n",
    "print stacked\n",
    "display(stacked)\n",
    "\n",
    "stacked.unstack()"
   ]
  },
  {
   "cell_type": "code",
   "execution_count": null,
   "metadata": {
    "collapsed": false,
    "deletable": true,
    "editable": true,
    "run_control": {
     "marked": false
    }
   },
   "outputs": [],
   "source": [
    "stacked.unstack(0)"
   ]
  },
  {
   "cell_type": "code",
   "execution_count": null,
   "metadata": {
    "collapsed": false,
    "deletable": true,
    "editable": true,
    "run_control": {
     "marked": false
    }
   },
   "outputs": [],
   "source": [
    "print zip(\n",
    "    ['bar', 'bar', 'baz', 'baz','foo', 'foo', 'qux', 'qux'],\n",
    "    ['one', 'two', 'one', 'two','one', 'two', 'one', 'two']\n",
    ")"
   ]
  },
  {
   "cell_type": "code",
   "execution_count": null,
   "metadata": {
    "collapsed": false,
    "deletable": true,
    "editable": true,
    "run_control": {
     "marked": false
    }
   },
   "outputs": [],
   "source": [
    "stacked.unstack(1)"
   ]
  },
  {
   "cell_type": "code",
   "execution_count": 3,
   "metadata": {
    "collapsed": false,
    "deletable": true,
    "editable": true,
    "run_control": {
     "marked": false
    }
   },
   "outputs": [
    {
     "name": "stdout",
     "output_type": "stream",
     "text": [
      "        A   B    C         D         E\n",
      "0     one  A1  foo  0.236926  1.535100\n",
      "1     one  B1  foo  0.335403  0.017821\n",
      "2     two  C1  foo  0.339975 -0.348010\n",
      "3   three  D1  bar  0.631224  0.252568\n",
      "4     one  E1  bar  0.013195  0.324803\n",
      "5     one  F1  bar  0.426310  0.137403\n",
      "6     two  G1  foo  0.672296 -0.880713\n",
      "7   three  H1  foo  0.108687  0.848597\n",
      "8     one  I1  foo -1.230259 -0.948286\n",
      "9     one  J1  bar  2.315732 -0.589758\n",
      "10    two  K1  bar  1.743988 -0.930988\n",
      "11  three  L1  bar  0.332006  0.380114\n"
     ]
    },
    {
     "data": {
      "text/html": [
       "<div>\n",
       "<table border=\"1\" class=\"dataframe\">\n",
       "  <thead>\n",
       "    <tr style=\"text-align: right;\">\n",
       "      <th></th>\n",
       "      <th>A</th>\n",
       "      <th>B</th>\n",
       "      <th>C</th>\n",
       "      <th>D</th>\n",
       "      <th>E</th>\n",
       "    </tr>\n",
       "  </thead>\n",
       "  <tbody>\n",
       "    <tr>\n",
       "      <th>0</th>\n",
       "      <td>one</td>\n",
       "      <td>A1</td>\n",
       "      <td>foo</td>\n",
       "      <td>0.236926</td>\n",
       "      <td>1.535100</td>\n",
       "    </tr>\n",
       "    <tr>\n",
       "      <th>1</th>\n",
       "      <td>one</td>\n",
       "      <td>B1</td>\n",
       "      <td>foo</td>\n",
       "      <td>0.335403</td>\n",
       "      <td>0.017821</td>\n",
       "    </tr>\n",
       "    <tr>\n",
       "      <th>2</th>\n",
       "      <td>two</td>\n",
       "      <td>C1</td>\n",
       "      <td>foo</td>\n",
       "      <td>0.339975</td>\n",
       "      <td>-0.348010</td>\n",
       "    </tr>\n",
       "    <tr>\n",
       "      <th>3</th>\n",
       "      <td>three</td>\n",
       "      <td>D1</td>\n",
       "      <td>bar</td>\n",
       "      <td>0.631224</td>\n",
       "      <td>0.252568</td>\n",
       "    </tr>\n",
       "    <tr>\n",
       "      <th>4</th>\n",
       "      <td>one</td>\n",
       "      <td>E1</td>\n",
       "      <td>bar</td>\n",
       "      <td>0.013195</td>\n",
       "      <td>0.324803</td>\n",
       "    </tr>\n",
       "    <tr>\n",
       "      <th>5</th>\n",
       "      <td>one</td>\n",
       "      <td>F1</td>\n",
       "      <td>bar</td>\n",
       "      <td>0.426310</td>\n",
       "      <td>0.137403</td>\n",
       "    </tr>\n",
       "    <tr>\n",
       "      <th>6</th>\n",
       "      <td>two</td>\n",
       "      <td>G1</td>\n",
       "      <td>foo</td>\n",
       "      <td>0.672296</td>\n",
       "      <td>-0.880713</td>\n",
       "    </tr>\n",
       "    <tr>\n",
       "      <th>7</th>\n",
       "      <td>three</td>\n",
       "      <td>H1</td>\n",
       "      <td>foo</td>\n",
       "      <td>0.108687</td>\n",
       "      <td>0.848597</td>\n",
       "    </tr>\n",
       "    <tr>\n",
       "      <th>8</th>\n",
       "      <td>one</td>\n",
       "      <td>I1</td>\n",
       "      <td>foo</td>\n",
       "      <td>-1.230259</td>\n",
       "      <td>-0.948286</td>\n",
       "    </tr>\n",
       "    <tr>\n",
       "      <th>9</th>\n",
       "      <td>one</td>\n",
       "      <td>J1</td>\n",
       "      <td>bar</td>\n",
       "      <td>2.315732</td>\n",
       "      <td>-0.589758</td>\n",
       "    </tr>\n",
       "    <tr>\n",
       "      <th>10</th>\n",
       "      <td>two</td>\n",
       "      <td>K1</td>\n",
       "      <td>bar</td>\n",
       "      <td>1.743988</td>\n",
       "      <td>-0.930988</td>\n",
       "    </tr>\n",
       "    <tr>\n",
       "      <th>11</th>\n",
       "      <td>three</td>\n",
       "      <td>L1</td>\n",
       "      <td>bar</td>\n",
       "      <td>0.332006</td>\n",
       "      <td>0.380114</td>\n",
       "    </tr>\n",
       "  </tbody>\n",
       "</table>\n",
       "</div>"
      ],
      "text/plain": [
       "        A   B    C         D         E\n",
       "0     one  A1  foo  0.236926  1.535100\n",
       "1     one  B1  foo  0.335403  0.017821\n",
       "2     two  C1  foo  0.339975 -0.348010\n",
       "3   three  D1  bar  0.631224  0.252568\n",
       "4     one  E1  bar  0.013195  0.324803\n",
       "5     one  F1  bar  0.426310  0.137403\n",
       "6     two  G1  foo  0.672296 -0.880713\n",
       "7   three  H1  foo  0.108687  0.848597\n",
       "8     one  I1  foo -1.230259 -0.948286\n",
       "9     one  J1  bar  2.315732 -0.589758\n",
       "10    two  K1  bar  1.743988 -0.930988\n",
       "11  three  L1  bar  0.332006  0.380114"
      ]
     },
     "metadata": {},
     "output_type": "display_data"
    }
   ],
   "source": [
    "df = pd.DataFrame({'A' : ['one', 'one', 'two', 'three'] * 3,\n",
    "   ......:                    'B' : ['A1', 'B1', 'C1', 'D1', 'E1', 'F1','G1','H1','I1','J1','K1','L1'],\n",
    "   ......:                    'C' : ['foo', 'foo', 'foo', 'bar', 'bar', 'bar'] * 2,\n",
    "   ......:                    'D' : np.random.randn(12),\n",
    "   ......:                    'E' : np.random.randn(12)})\n",
    "print df\n",
    "display(df)"
   ]
  },
  {
   "cell_type": "code",
   "execution_count": 5,
   "metadata": {
    "collapsed": false,
    "deletable": true,
    "editable": true,
    "run_control": {
     "marked": false
    }
   },
   "outputs": [
    {
     "data": {
      "text/html": [
       "<div>\n",
       "<table border=\"1\" class=\"dataframe\">\n",
       "  <thead>\n",
       "    <tr style=\"text-align: right;\">\n",
       "      <th></th>\n",
       "      <th>C</th>\n",
       "      <th>bar</th>\n",
       "      <th>foo</th>\n",
       "    </tr>\n",
       "    <tr>\n",
       "      <th>A</th>\n",
       "      <th>B</th>\n",
       "      <th></th>\n",
       "      <th></th>\n",
       "    </tr>\n",
       "  </thead>\n",
       "  <tbody>\n",
       "    <tr>\n",
       "      <th rowspan=\"6\" valign=\"top\">one</th>\n",
       "      <th>A1</th>\n",
       "      <td>NaN</td>\n",
       "      <td>0.236926</td>\n",
       "    </tr>\n",
       "    <tr>\n",
       "      <th>B1</th>\n",
       "      <td>NaN</td>\n",
       "      <td>0.335403</td>\n",
       "    </tr>\n",
       "    <tr>\n",
       "      <th>E1</th>\n",
       "      <td>0.013195</td>\n",
       "      <td>NaN</td>\n",
       "    </tr>\n",
       "    <tr>\n",
       "      <th>F1</th>\n",
       "      <td>0.426310</td>\n",
       "      <td>NaN</td>\n",
       "    </tr>\n",
       "    <tr>\n",
       "      <th>I1</th>\n",
       "      <td>NaN</td>\n",
       "      <td>-1.230259</td>\n",
       "    </tr>\n",
       "    <tr>\n",
       "      <th>J1</th>\n",
       "      <td>2.315732</td>\n",
       "      <td>NaN</td>\n",
       "    </tr>\n",
       "    <tr>\n",
       "      <th rowspan=\"3\" valign=\"top\">three</th>\n",
       "      <th>D1</th>\n",
       "      <td>0.631224</td>\n",
       "      <td>NaN</td>\n",
       "    </tr>\n",
       "    <tr>\n",
       "      <th>H1</th>\n",
       "      <td>NaN</td>\n",
       "      <td>0.108687</td>\n",
       "    </tr>\n",
       "    <tr>\n",
       "      <th>L1</th>\n",
       "      <td>0.332006</td>\n",
       "      <td>NaN</td>\n",
       "    </tr>\n",
       "    <tr>\n",
       "      <th rowspan=\"3\" valign=\"top\">two</th>\n",
       "      <th>C1</th>\n",
       "      <td>NaN</td>\n",
       "      <td>0.339975</td>\n",
       "    </tr>\n",
       "    <tr>\n",
       "      <th>G1</th>\n",
       "      <td>NaN</td>\n",
       "      <td>0.672296</td>\n",
       "    </tr>\n",
       "    <tr>\n",
       "      <th>K1</th>\n",
       "      <td>1.743988</td>\n",
       "      <td>NaN</td>\n",
       "    </tr>\n",
       "  </tbody>\n",
       "</table>\n",
       "</div>"
      ],
      "text/plain": [
       "C              bar       foo\n",
       "A     B                     \n",
       "one   A1       NaN  0.236926\n",
       "      B1       NaN  0.335403\n",
       "      E1  0.013195       NaN\n",
       "      F1  0.426310       NaN\n",
       "      I1       NaN -1.230259\n",
       "      J1  2.315732       NaN\n",
       "three D1  0.631224       NaN\n",
       "      H1       NaN  0.108687\n",
       "      L1  0.332006       NaN\n",
       "two   C1       NaN  0.339975\n",
       "      G1       NaN  0.672296\n",
       "      K1  1.743988       NaN"
      ]
     },
     "execution_count": 5,
     "metadata": {},
     "output_type": "execute_result"
    }
   ],
   "source": [
    "pd.pivot_table(df, values='D', index=['A', 'B'], columns=['C'])"
   ]
  },
  {
   "cell_type": "code",
   "execution_count": 6,
   "metadata": {
    "collapsed": false,
    "deletable": true,
    "editable": true,
    "run_control": {
     "marked": false
    }
   },
   "outputs": [
    {
     "name": "stdout",
     "output_type": "stream",
     "text": [
      "100\n"
     ]
    },
    {
     "data": {
      "text/plain": [
       "2012-01-01    27495\n",
       "Freq: 5T, dtype: int64"
      ]
     },
     "execution_count": 6,
     "metadata": {},
     "output_type": "execute_result"
    }
   ],
   "source": [
    "rng = pd.date_range('1/1/2012', periods=100, freq='S')\n",
    "print(len(rng))\n",
    "ts = pd.Series(np.random.randint(0, 500, len(rng)), index=rng)\n",
    "ts.resample('5Min').sum()"
   ]
  },
  {
   "cell_type": "code",
   "execution_count": 7,
   "metadata": {
    "collapsed": false,
    "deletable": true,
    "editable": true,
    "run_control": {
     "marked": false
    }
   },
   "outputs": [
    {
     "data": {
      "text/plain": [
       "[<matplotlib.lines.Line2D at 0x7f6354e2a310>]"
      ]
     },
     "execution_count": 7,
     "metadata": {},
     "output_type": "execute_result"
    },
    {
     "data": {
      "image/png": "[encoded data removed]",
      "text/plain": [
       "<matplotlib.figure.Figure at 0x7f6379ef6f10>"
      ]
     },
     "metadata": {},
     "output_type": "display_data"
    }
   ],
   "source": [
    "from pylab import *\n",
    "%matplotlib inline\n",
    "plot(arange(100))"
   ]
  },
  {
   "cell_type": "code",
   "execution_count": 8,
   "metadata": {
    "collapsed": false,
    "deletable": true,
    "editable": true,
    "run_control": {
     "marked": false
    }
   },
   "outputs": [
    {
     "name": "stdout",
     "output_type": "stream",
     "text": [
      "a    1.0\n",
      "b    2.0\n",
      "c    3.0\n",
      "d    4.0\n",
      "e    5.0\n",
      "f    5.0\n",
      "g    4.0\n",
      "h    NaN\n",
      "dtype: float64\n",
      "h   NaN\n",
      "dtype: float64\n"
     ]
    }
   ],
   "source": [
    "obj2 = pd.Series([1,2,3,4,5,5,4, nan],index=['a','b','c','d','e','f','g', 'h'])\n",
    "obj2 * 10\n",
    "obj2[obj2 < 5]\n",
    "print obj2\n",
    "obj2.unique()\n",
    "obj2.value_counts()\n",
    "obj2.isin([5])\n",
    "obj2.dropna()\n",
    "print obj2[obj2.isnull()]"
   ]
  },
  {
   "cell_type": "code",
   "execution_count": 10,
   "metadata": {
    "collapsed": false,
    "deletable": true,
    "editable": true,
    "run_control": {
     "marked": false
    }
   },
   "outputs": [
    {
     "data": {
      "text/html": [
       "<div>\n",
       "<table border=\"1\" class=\"dataframe\">\n",
       "  <thead>\n",
       "    <tr style=\"text-align: right;\">\n",
       "      <th></th>\n",
       "      <th>name</th>\n",
       "      <th>age</th>\n",
       "      <th>gender</th>\n",
       "      <th>weight</th>\n",
       "      <th>money</th>\n",
       "      <th>debt</th>\n",
       "      <th>reward</th>\n",
       "    </tr>\n",
       "  </thead>\n",
       "  <tbody>\n",
       "    <tr>\n",
       "      <th>0</th>\n",
       "      <td>Carl</td>\n",
       "      <td>30</td>\n",
       "      <td>m</td>\n",
       "      <td>10</td>\n",
       "      <td>NaN</td>\n",
       "      <td>NaN</td>\n",
       "      <td>NaN</td>\n",
       "    </tr>\n",
       "    <tr>\n",
       "      <th>1</th>\n",
       "      <td>Petter</td>\n",
       "      <td>40</td>\n",
       "      <td>m</td>\n",
       "      <td>10</td>\n",
       "      <td>NaN</td>\n",
       "      <td>NaN</td>\n",
       "      <td>NaN</td>\n",
       "    </tr>\n",
       "    <tr>\n",
       "      <th>2</th>\n",
       "      <td>Lucy</td>\n",
       "      <td>20</td>\n",
       "      <td>f</td>\n",
       "      <td>10</td>\n",
       "      <td>NaN</td>\n",
       "      <td>NaN</td>\n",
       "      <td>NaN</td>\n",
       "    </tr>\n",
       "    <tr>\n",
       "      <th>3</th>\n",
       "      <td>Job</td>\n",
       "      <td>35</td>\n",
       "      <td>m</td>\n",
       "      <td>10</td>\n",
       "      <td>NaN</td>\n",
       "      <td>NaN</td>\n",
       "      <td>NaN</td>\n",
       "    </tr>\n",
       "  </tbody>\n",
       "</table>\n",
       "</div>"
      ],
      "text/plain": [
       "     name  age gender  weight money debt reward\n",
       "0    Carl   30      m      10   NaN  NaN    NaN\n",
       "1  Petter   40      m      10   NaN  NaN    NaN\n",
       "2    Lucy   20      f      10   NaN  NaN    NaN\n",
       "3     Job   35      m      10   NaN  NaN    NaN"
      ]
     },
     "metadata": {},
     "output_type": "display_data"
    },
    {
     "data": {
      "text/plain": [
       "30    1\n",
       "20    1\n",
       "35    1\n",
       "40    1\n",
       "Name: age, dtype: int64"
      ]
     },
     "metadata": {},
     "output_type": "display_data"
    },
    {
     "data": {
      "text/html": [
       "<div>\n",
       "<table border=\"1\" class=\"dataframe\">\n",
       "  <thead>\n",
       "    <tr style=\"text-align: right;\">\n",
       "      <th></th>\n",
       "      <th>name</th>\n",
       "      <th>age</th>\n",
       "      <th>gender</th>\n",
       "      <th>weight</th>\n",
       "    </tr>\n",
       "  </thead>\n",
       "  <tbody>\n",
       "    <tr>\n",
       "      <th>0</th>\n",
       "      <td>Carl</td>\n",
       "      <td>30</td>\n",
       "      <td>m</td>\n",
       "      <td>10</td>\n",
       "    </tr>\n",
       "    <tr>\n",
       "      <th>1</th>\n",
       "      <td>Petter</td>\n",
       "      <td>40</td>\n",
       "      <td>m</td>\n",
       "      <td>10</td>\n",
       "    </tr>\n",
       "    <tr>\n",
       "      <th>2</th>\n",
       "      <td>Lucy</td>\n",
       "      <td>20</td>\n",
       "      <td>f</td>\n",
       "      <td>10</td>\n",
       "    </tr>\n",
       "    <tr>\n",
       "      <th>3</th>\n",
       "      <td>Job</td>\n",
       "      <td>35</td>\n",
       "      <td>m</td>\n",
       "      <td>10</td>\n",
       "    </tr>\n",
       "  </tbody>\n",
       "</table>\n",
       "</div>"
      ],
      "text/plain": [
       "     name  age gender  weight\n",
       "0    Carl   30      m      10\n",
       "1  Petter   40      m      10\n",
       "2    Lucy   20      f      10\n",
       "3     Job   35      m      10"
      ]
     },
     "metadata": {},
     "output_type": "display_data"
    },
    {
     "data": {
      "text/html": [
       "<div>\n",
       "<table border=\"1\" class=\"dataframe\">\n",
       "  <thead>\n",
       "    <tr style=\"text-align: right;\">\n",
       "      <th></th>\n",
       "      <th>name</th>\n",
       "      <th>age</th>\n",
       "      <th>gender</th>\n",
       "      <th>weight</th>\n",
       "      <th>money</th>\n",
       "      <th>debt</th>\n",
       "      <th>reward</th>\n",
       "    </tr>\n",
       "  </thead>\n",
       "  <tbody>\n",
       "    <tr>\n",
       "      <th>0</th>\n",
       "      <td>Carl</td>\n",
       "      <td>30</td>\n",
       "      <td>m</td>\n",
       "      <td>10</td>\n",
       "      <td>100</td>\n",
       "      <td>100</td>\n",
       "      <td>100</td>\n",
       "    </tr>\n",
       "    <tr>\n",
       "      <th>1</th>\n",
       "      <td>Petter</td>\n",
       "      <td>40</td>\n",
       "      <td>m</td>\n",
       "      <td>10</td>\n",
       "      <td>100</td>\n",
       "      <td>100</td>\n",
       "      <td>100</td>\n",
       "    </tr>\n",
       "    <tr>\n",
       "      <th>2</th>\n",
       "      <td>Lucy</td>\n",
       "      <td>20</td>\n",
       "      <td>f</td>\n",
       "      <td>10</td>\n",
       "      <td>100</td>\n",
       "      <td>100</td>\n",
       "      <td>100</td>\n",
       "    </tr>\n",
       "    <tr>\n",
       "      <th>3</th>\n",
       "      <td>Job</td>\n",
       "      <td>35</td>\n",
       "      <td>m</td>\n",
       "      <td>10</td>\n",
       "      <td>100</td>\n",
       "      <td>100</td>\n",
       "      <td>100</td>\n",
       "    </tr>\n",
       "  </tbody>\n",
       "</table>\n",
       "</div>"
      ],
      "text/plain": [
       "     name  age gender  weight  money  debt  reward\n",
       "0    Carl   30      m      10    100   100     100\n",
       "1  Petter   40      m      10    100   100     100\n",
       "2    Lucy   20      f      10    100   100     100\n",
       "3     Job   35      m      10    100   100     100"
      ]
     },
     "metadata": {},
     "output_type": "display_data"
    },
    {
     "data": {
      "text/html": [
       "<div>\n",
       "<table border=\"1\" class=\"dataframe\">\n",
       "  <thead>\n",
       "    <tr style=\"text-align: right;\">\n",
       "      <th></th>\n",
       "      <th>name</th>\n",
       "      <th>age</th>\n",
       "      <th>gender</th>\n",
       "      <th>weight</th>\n",
       "      <th>money</th>\n",
       "      <th>debt</th>\n",
       "      <th>reward</th>\n",
       "    </tr>\n",
       "  </thead>\n",
       "  <tbody>\n",
       "    <tr>\n",
       "      <th>0</th>\n",
       "      <td>Carl</td>\n",
       "      <td>30</td>\n",
       "      <td>m</td>\n",
       "      <td>10</td>\n",
       "      <td>100</td>\n",
       "      <td>0</td>\n",
       "      <td>NaN</td>\n",
       "    </tr>\n",
       "    <tr>\n",
       "      <th>1</th>\n",
       "      <td>Petter</td>\n",
       "      <td>40</td>\n",
       "      <td>m</td>\n",
       "      <td>10</td>\n",
       "      <td>100</td>\n",
       "      <td>0</td>\n",
       "      <td>NaN</td>\n",
       "    </tr>\n",
       "    <tr>\n",
       "      <th>2</th>\n",
       "      <td>Lucy</td>\n",
       "      <td>20</td>\n",
       "      <td>f</td>\n",
       "      <td>10</td>\n",
       "      <td>100</td>\n",
       "      <td>0</td>\n",
       "      <td>NaN</td>\n",
       "    </tr>\n",
       "    <tr>\n",
       "      <th>3</th>\n",
       "      <td>Job</td>\n",
       "      <td>35</td>\n",
       "      <td>m</td>\n",
       "      <td>10</td>\n",
       "      <td>100</td>\n",
       "      <td>0</td>\n",
       "      <td>NaN</td>\n",
       "    </tr>\n",
       "  </tbody>\n",
       "</table>\n",
       "</div>"
      ],
      "text/plain": [
       "     name  age gender  weight  money  debt reward\n",
       "0    Carl   30      m      10    100     0    NaN\n",
       "1  Petter   40      m      10    100     0    NaN\n",
       "2    Lucy   20      f      10    100     0    NaN\n",
       "3     Job   35      m      10    100     0    NaN"
      ]
     },
     "metadata": {},
     "output_type": "display_data"
    }
   ],
   "source": [
    "data = {\n",
    "    'name' : ['Carl', 'Petter', 'Lucy', 'Job'],\n",
    "    'age': [30, 40, 20, 35],\n",
    "    'gender': ['m', 'm', 'f', 'm']\n",
    "}\n",
    "dt = pd.DataFrame(data, columns=['name', 'age', 'gender', 'weight', 'money', 'debt', 'reward'])\n",
    "dt['weight'] = 10\n",
    "display(dt)\n",
    "dt.sum(axis=1)\n",
    "dt.cumsum()\n",
    "display(dt['age'].value_counts())\n",
    "dt.isin([20])\n",
    "display(dt.dropna(how='all', axis=1))\n",
    "display(dt.fillna(100))\n",
    "display(dt.fillna({'money': 100, 'debt':0}))"
   ]
  },
  {
   "cell_type": "code",
   "execution_count": 12,
   "metadata": {
    "collapsed": false,
    "deletable": true,
    "editable": true,
    "run_control": {
     "marked": false
    }
   },
   "outputs": [
    {
     "data": {
      "text/html": [
       "<div>\n",
       "<table border=\"1\" class=\"dataframe\">\n",
       "  <thead>\n",
       "    <tr>\n",
       "      <th></th>\n",
       "      <th>a</th>\n",
       "      <th colspan=\"3\" halign=\"left\">basic</th>\n",
       "      <th colspan=\"3\" halign=\"left\">finance</th>\n",
       "    </tr>\n",
       "    <tr>\n",
       "      <th></th>\n",
       "      <th>b</th>\n",
       "      <th>age</th>\n",
       "      <th>gender</th>\n",
       "      <th>weight</th>\n",
       "      <th>money</th>\n",
       "      <th>debt</th>\n",
       "      <th>reward</th>\n",
       "    </tr>\n",
       "    <tr>\n",
       "      <th>no</th>\n",
       "      <th>name</th>\n",
       "      <th></th>\n",
       "      <th></th>\n",
       "      <th></th>\n",
       "      <th></th>\n",
       "      <th></th>\n",
       "      <th></th>\n",
       "    </tr>\n",
       "  </thead>\n",
       "  <tbody>\n",
       "    <tr>\n",
       "      <th>1</th>\n",
       "      <th>Carl</th>\n",
       "      <td>NaN</td>\n",
       "      <td>NaN</td>\n",
       "      <td>NaN</td>\n",
       "      <td>NaN</td>\n",
       "      <td>NaN</td>\n",
       "      <td>NaN</td>\n",
       "    </tr>\n",
       "    <tr>\n",
       "      <th>2</th>\n",
       "      <th>Petter</th>\n",
       "      <td>NaN</td>\n",
       "      <td>NaN</td>\n",
       "      <td>NaN</td>\n",
       "      <td>NaN</td>\n",
       "      <td>NaN</td>\n",
       "      <td>NaN</td>\n",
       "    </tr>\n",
       "    <tr>\n",
       "      <th>3</th>\n",
       "      <th>Lucy</th>\n",
       "      <td>NaN</td>\n",
       "      <td>NaN</td>\n",
       "      <td>NaN</td>\n",
       "      <td>NaN</td>\n",
       "      <td>NaN</td>\n",
       "      <td>NaN</td>\n",
       "    </tr>\n",
       "    <tr>\n",
       "      <th>4</th>\n",
       "      <th>Job</th>\n",
       "      <td>NaN</td>\n",
       "      <td>NaN</td>\n",
       "      <td>NaN</td>\n",
       "      <td>NaN</td>\n",
       "      <td>NaN</td>\n",
       "      <td>NaN</td>\n",
       "    </tr>\n",
       "  </tbody>\n",
       "</table>\n",
       "</div>"
      ],
      "text/plain": [
       "a         basic               finance            \n",
       "b           age gender weight   money debt reward\n",
       "no name                                          \n",
       "1  Carl     NaN    NaN    NaN     NaN  NaN    NaN\n",
       "2  Petter   NaN    NaN    NaN     NaN  NaN    NaN\n",
       "3  Lucy     NaN    NaN    NaN     NaN  NaN    NaN\n",
       "4  Job      NaN    NaN    NaN     NaN  NaN    NaN"
      ]
     },
     "metadata": {},
     "output_type": "display_data"
    },
    {
     "data": {
      "text/html": [
       "<div>\n",
       "<table border=\"1\" class=\"dataframe\">\n",
       "  <thead>\n",
       "    <tr>\n",
       "      <th></th>\n",
       "      <th>a</th>\n",
       "      <th colspan=\"3\" halign=\"left\">basic</th>\n",
       "      <th colspan=\"3\" halign=\"left\">finance</th>\n",
       "    </tr>\n",
       "    <tr>\n",
       "      <th></th>\n",
       "      <th>b</th>\n",
       "      <th>age</th>\n",
       "      <th>gender</th>\n",
       "      <th>weight</th>\n",
       "      <th>money</th>\n",
       "      <th>debt</th>\n",
       "      <th>reward</th>\n",
       "    </tr>\n",
       "    <tr>\n",
       "      <th>no</th>\n",
       "      <th>name</th>\n",
       "      <th></th>\n",
       "      <th></th>\n",
       "      <th></th>\n",
       "      <th></th>\n",
       "      <th></th>\n",
       "      <th></th>\n",
       "    </tr>\n",
       "  </thead>\n",
       "  <tbody>\n",
       "    <tr>\n",
       "      <th>1</th>\n",
       "      <th>Carl</th>\n",
       "      <td>30</td>\n",
       "      <td>m</td>\n",
       "      <td>NaN</td>\n",
       "      <td>100</td>\n",
       "      <td>10</td>\n",
       "      <td>0</td>\n",
       "    </tr>\n",
       "    <tr>\n",
       "      <th>2</th>\n",
       "      <th>Petter</th>\n",
       "      <td>40</td>\n",
       "      <td>m</td>\n",
       "      <td>NaN</td>\n",
       "      <td>100</td>\n",
       "      <td>10</td>\n",
       "      <td>0</td>\n",
       "    </tr>\n",
       "    <tr>\n",
       "      <th>3</th>\n",
       "      <th>Lucy</th>\n",
       "      <td>20</td>\n",
       "      <td>f</td>\n",
       "      <td>NaN</td>\n",
       "      <td>100</td>\n",
       "      <td>10</td>\n",
       "      <td>0</td>\n",
       "    </tr>\n",
       "    <tr>\n",
       "      <th>4</th>\n",
       "      <th>Job</th>\n",
       "      <td>35</td>\n",
       "      <td>m</td>\n",
       "      <td>NaN</td>\n",
       "      <td>100</td>\n",
       "      <td>10</td>\n",
       "      <td>0</td>\n",
       "    </tr>\n",
       "  </tbody>\n",
       "</table>\n",
       "</div>"
      ],
      "text/plain": [
       "a         basic               finance            \n",
       "b           age gender weight   money debt reward\n",
       "no name                                          \n",
       "1  Carl      30      m    NaN     100   10      0\n",
       "2  Petter    40      m    NaN     100   10      0\n",
       "3  Lucy      20      f    NaN     100   10      0\n",
       "4  Job       35      m    NaN     100   10      0"
      ]
     },
     "metadata": {},
     "output_type": "display_data"
    },
    {
     "data": {
      "text/plain": [
       "400"
      ]
     },
     "execution_count": 12,
     "metadata": {},
     "output_type": "execute_result"
    }
   ],
   "source": [
    "dt2 = pd.DataFrame(data, index=[[1,2,3,4],list(dt['name'])], columns=[['basic']*3 + ['finance']*3, list(dt.columns[1:])])\n",
    "dt2.index.names = ['no', 'name']\n",
    "dt2.columns.names = ['a', 'b']\n",
    "display(dt2)\n",
    "dt2['basic', 'age'] = data['age']\n",
    "dt2['basic', 'gender'] = data['gender']\n",
    "dt2['finance', 'money'] = [100] * len(dt2)\n",
    "dt2['finance', 'debt'] = [10] * len(dt2)\n",
    "dt2['finance', 'reward'] = [0] * len(dt2)\n",
    "display(dt2)\n",
    "dt2.loc[:,'finance']['money'].sum()"
   ]
  },
  {
   "cell_type": "code",
   "execution_count": 238,
   "metadata": {
    "collapsed": false,
    "deletable": true,
    "editable": true,
    "run_control": {
     "marked": false
    }
   },
   "outputs": [
    {
     "data": {
      "text/plain": [
       "MultiIndex(levels=[[u'basic', u'finance'], [u'age', u'debt', u'gender', u'money', u'reward', u'weight']],\n",
       "           labels=[[0, 0, 0, 1, 1, 1], [0, 2, 5, 3, 1, 4]],\n",
       "           names=[u'a', u'b'])"
      ]
     },
     "metadata": {},
     "output_type": "display_data"
    },
    {
     "data": {
      "text/plain": [
       "MultiIndex(levels=[[1, 2, 3, 4], [u'Carl', u'Job', u'Lucy', u'Petter']],\n",
       "           labels=[[0, 1, 2, 3], [0, 3, 2, 1]],\n",
       "           names=[u'no', u'name'])"
      ]
     },
     "metadata": {},
     "output_type": "display_data"
    }
   ],
   "source": [
    "display(dt2.columns)\n",
    "display(dt2.index)"
   ]
  },
  {
   "cell_type": "code",
   "execution_count": 16,
   "metadata": {
    "collapsed": false,
    "deletable": true,
    "editable": true,
    "run_control": {
     "marked": false
    }
   },
   "outputs": [
    {
     "data": {
      "text/html": [
       "<div>\n",
       "<table border=\"1\" class=\"dataframe\">\n",
       "  <thead>\n",
       "    <tr>\n",
       "      <th></th>\n",
       "      <th>a</th>\n",
       "      <th colspan=\"3\" halign=\"left\">basic</th>\n",
       "      <th colspan=\"3\" halign=\"left\">finance</th>\n",
       "    </tr>\n",
       "    <tr>\n",
       "      <th></th>\n",
       "      <th>b</th>\n",
       "      <th>age</th>\n",
       "      <th>gender</th>\n",
       "      <th>weight</th>\n",
       "      <th>money</th>\n",
       "      <th>debt</th>\n",
       "      <th>reward</th>\n",
       "    </tr>\n",
       "    <tr>\n",
       "      <th>no</th>\n",
       "      <th>name</th>\n",
       "      <th></th>\n",
       "      <th></th>\n",
       "      <th></th>\n",
       "      <th></th>\n",
       "      <th></th>\n",
       "      <th></th>\n",
       "    </tr>\n",
       "  </thead>\n",
       "  <tbody>\n",
       "    <tr>\n",
       "      <th>1</th>\n",
       "      <th>Carl</th>\n",
       "      <td>30</td>\n",
       "      <td>m</td>\n",
       "      <td>NaN</td>\n",
       "      <td>100</td>\n",
       "      <td>10</td>\n",
       "      <td>0</td>\n",
       "    </tr>\n",
       "    <tr>\n",
       "      <th>2</th>\n",
       "      <th>Petter</th>\n",
       "      <td>40</td>\n",
       "      <td>m</td>\n",
       "      <td>NaN</td>\n",
       "      <td>100</td>\n",
       "      <td>10</td>\n",
       "      <td>0</td>\n",
       "    </tr>\n",
       "    <tr>\n",
       "      <th>3</th>\n",
       "      <th>Lucy</th>\n",
       "      <td>20</td>\n",
       "      <td>f</td>\n",
       "      <td>NaN</td>\n",
       "      <td>100</td>\n",
       "      <td>10</td>\n",
       "      <td>0</td>\n",
       "    </tr>\n",
       "    <tr>\n",
       "      <th>4</th>\n",
       "      <th>Job</th>\n",
       "      <td>35</td>\n",
       "      <td>m</td>\n",
       "      <td>NaN</td>\n",
       "      <td>100</td>\n",
       "      <td>10</td>\n",
       "      <td>0</td>\n",
       "    </tr>\n",
       "  </tbody>\n",
       "</table>\n",
       "</div>"
      ],
      "text/plain": [
       "a         basic               finance            \n",
       "b           age gender weight   money debt reward\n",
       "no name                                          \n",
       "1  Carl      30      m    NaN     100   10      0\n",
       "2  Petter    40      m    NaN     100   10      0\n",
       "3  Lucy      20      f    NaN     100   10      0\n",
       "4  Job       35      m    NaN     100   10      0"
      ]
     },
     "metadata": {},
     "output_type": "display_data"
    },
    {
     "data": {
      "text/html": [
       "<div>\n",
       "<table border=\"1\" class=\"dataframe\">\n",
       "  <thead>\n",
       "    <tr>\n",
       "      <th>a</th>\n",
       "      <th>no</th>\n",
       "      <th>name</th>\n",
       "      <th colspan=\"3\" halign=\"left\">basic</th>\n",
       "      <th colspan=\"3\" halign=\"left\">finance</th>\n",
       "    </tr>\n",
       "    <tr>\n",
       "      <th>b</th>\n",
       "      <th></th>\n",
       "      <th></th>\n",
       "      <th>age</th>\n",
       "      <th>gender</th>\n",
       "      <th>weight</th>\n",
       "      <th>money</th>\n",
       "      <th>debt</th>\n",
       "      <th>reward</th>\n",
       "    </tr>\n",
       "  </thead>\n",
       "  <tbody>\n",
       "    <tr>\n",
       "      <th>0</th>\n",
       "      <td>1</td>\n",
       "      <td>Carl</td>\n",
       "      <td>30</td>\n",
       "      <td>m</td>\n",
       "      <td>NaN</td>\n",
       "      <td>100</td>\n",
       "      <td>10</td>\n",
       "      <td>0</td>\n",
       "    </tr>\n",
       "    <tr>\n",
       "      <th>1</th>\n",
       "      <td>2</td>\n",
       "      <td>Petter</td>\n",
       "      <td>40</td>\n",
       "      <td>m</td>\n",
       "      <td>NaN</td>\n",
       "      <td>100</td>\n",
       "      <td>10</td>\n",
       "      <td>0</td>\n",
       "    </tr>\n",
       "    <tr>\n",
       "      <th>2</th>\n",
       "      <td>3</td>\n",
       "      <td>Lucy</td>\n",
       "      <td>20</td>\n",
       "      <td>f</td>\n",
       "      <td>NaN</td>\n",
       "      <td>100</td>\n",
       "      <td>10</td>\n",
       "      <td>0</td>\n",
       "    </tr>\n",
       "    <tr>\n",
       "      <th>3</th>\n",
       "      <td>4</td>\n",
       "      <td>Job</td>\n",
       "      <td>35</td>\n",
       "      <td>m</td>\n",
       "      <td>NaN</td>\n",
       "      <td>100</td>\n",
       "      <td>10</td>\n",
       "      <td>0</td>\n",
       "    </tr>\n",
       "  </tbody>\n",
       "</table>\n",
       "</div>"
      ],
      "text/plain": [
       "a no    name basic               finance            \n",
       "b              age gender weight   money debt reward\n",
       "0  1    Carl    30      m    NaN     100   10      0\n",
       "1  2  Petter    40      m    NaN     100   10      0\n",
       "2  3    Lucy    20      f    NaN     100   10      0\n",
       "3  4     Job    35      m    NaN     100   10      0"
      ]
     },
     "metadata": {},
     "output_type": "display_data"
    },
    {
     "data": {
      "text/html": [
       "<div>\n",
       "<table border=\"1\" class=\"dataframe\">\n",
       "  <thead>\n",
       "    <tr>\n",
       "      <th>a</th>\n",
       "      <th colspan=\"3\" halign=\"left\">basic</th>\n",
       "      <th colspan=\"3\" halign=\"left\">finance</th>\n",
       "    </tr>\n",
       "    <tr>\n",
       "      <th>b</th>\n",
       "      <th>age</th>\n",
       "      <th>gender</th>\n",
       "      <th>weight</th>\n",
       "      <th>money</th>\n",
       "      <th>debt</th>\n",
       "      <th>reward</th>\n",
       "    </tr>\n",
       "  </thead>\n",
       "  <tbody>\n",
       "    <tr>\n",
       "      <th>0</th>\n",
       "      <td>30</td>\n",
       "      <td>m</td>\n",
       "      <td>NaN</td>\n",
       "      <td>100</td>\n",
       "      <td>10</td>\n",
       "      <td>0</td>\n",
       "    </tr>\n",
       "    <tr>\n",
       "      <th>1</th>\n",
       "      <td>40</td>\n",
       "      <td>m</td>\n",
       "      <td>NaN</td>\n",
       "      <td>100</td>\n",
       "      <td>10</td>\n",
       "      <td>0</td>\n",
       "    </tr>\n",
       "    <tr>\n",
       "      <th>2</th>\n",
       "      <td>20</td>\n",
       "      <td>f</td>\n",
       "      <td>NaN</td>\n",
       "      <td>100</td>\n",
       "      <td>10</td>\n",
       "      <td>0</td>\n",
       "    </tr>\n",
       "    <tr>\n",
       "      <th>3</th>\n",
       "      <td>35</td>\n",
       "      <td>m</td>\n",
       "      <td>NaN</td>\n",
       "      <td>100</td>\n",
       "      <td>10</td>\n",
       "      <td>0</td>\n",
       "    </tr>\n",
       "  </tbody>\n",
       "</table>\n",
       "</div>"
      ],
      "text/plain": [
       "a basic               finance            \n",
       "b   age gender weight   money debt reward\n",
       "0    30      m    NaN     100   10      0\n",
       "1    40      m    NaN     100   10      0\n",
       "2    20      f    NaN     100   10      0\n",
       "3    35      m    NaN     100   10      0"
      ]
     },
     "metadata": {},
     "output_type": "display_data"
    }
   ],
   "source": [
    "display(dt2)\n",
    "display(dt2.reset_index())\n",
    "display(dt2.reset_index(drop=True))"
   ]
  },
  {
   "cell_type": "code",
   "execution_count": 17,
   "metadata": {
    "collapsed": false,
    "deletable": true,
    "editable": true,
    "run_control": {
     "marked": false
    }
   },
   "outputs": [
    {
     "name": "stdout",
     "output_type": "stream",
     "text": [
      "Automatic pdb calling has been turned ON\n"
     ]
    }
   ],
   "source": [
    "%pdb"
   ]
  },
  {
   "cell_type": "code",
   "execution_count": 4,
   "metadata": {
    "collapsed": true,
    "deletable": true,
    "editable": true,
    "run_control": {
     "marked": false
    }
   },
   "outputs": [],
   "source": [
    "from datetime import datetime"
   ]
  },
  {
   "cell_type": "code",
   "execution_count": 3,
   "metadata": {
    "collapsed": false,
    "deletable": true,
    "editable": true,
    "run_control": {
     "marked": false
    }
   },
   "outputs": [
    {
     "ename": "AssertionError",
     "evalue": "haha",
     "output_type": "error",
     "traceback": [
      "\u001b[0;31m\u001b[0m",
      "\u001b[0;31mAssertionError\u001b[0mTraceback (most recent call last)",
      "\u001b[0;32m<ipython-input-3-07078fd51dce>\u001b[0m in \u001b[0;36m<module>\u001b[0;34m()\u001b[0m\n\u001b[0;32m----> 1\u001b[0;31m \u001b[0;32massert\u001b[0m \u001b[0;36m1\u001b[0m\u001b[0;34m==\u001b[0m\u001b[0;36m2\u001b[0m\u001b[0;34m,\u001b[0m \u001b[0;34m\"haha\"\u001b[0m\u001b[0;34m\u001b[0m\u001b[0m\n\u001b[0m\u001b[1;32m      2\u001b[0m \u001b[0;32mprint\u001b[0m \u001b[0;34m\"yes\"\u001b[0m\u001b[0;34m\u001b[0m\u001b[0m\n",
      "\u001b[0;31mAssertionError\u001b[0m: haha"
     ]
    }
   ],
   "source": [
    "assert 1==2, \"haha\"\n",
    "print \"yes\""
   ]
  },
  {
   "cell_type": "code",
   "execution_count": 6,
   "metadata": {
    "collapsed": false,
    "deletable": true,
    "editable": true,
    "run_control": {
     "marked": false
    }
   },
   "outputs": [
    {
     "data": {
      "text/plain": [
       "-1"
      ]
     },
     "execution_count": 6,
     "metadata": {},
     "output_type": "execute_result"
    }
   ],
   "source": [
    "import string\n",
    "string.find(\"abc\", \"q\")"
   ]
  },
  {
   "cell_type": "code",
   "execution_count": 2,
   "metadata": {
    "collapsed": false,
    "deletable": true,
    "editable": true,
    "run_control": {
     "marked": false
    }
   },
   "outputs": [
    {
     "data": {
      "text/plain": [
       "['a', 'b']"
      ]
     },
     "execution_count": 2,
     "metadata": {},
     "output_type": "execute_result"
    }
   ],
   "source": [
    "class HelloClass:\n",
    "    a=0\n",
    "    b=1\n",
    "from DebugTools import *\n",
    "showUserDefinedProperty(HelloClass())"
   ]
  },
  {
   "cell_type": "code",
   "execution_count": 18,
   "metadata": {
    "collapsed": false,
    "deletable": true,
    "editable": true,
    "run_control": {
     "marked": false
    }
   },
   "outputs": [
    {
     "data": {
      "text/plain": [
       "array([[245, 245, 245, 245, 245, 245, 245, 245, 245, 245, 245, 245, 245,\n",
       "        245, 245, 245, 245, 245, 245, 245, 245, 245, 245, 245, 245, 245,\n",
       "        245, 245],\n",
       "       [245, 245, 245, 245, 245, 245, 245, 245, 245, 245, 245, 245, 245,\n",
       "        245, 245, 245, 245, 245, 245, 245, 245, 245, 245, 245, 245, 245,\n",
       "        245, 245],\n",
       "       [245, 245, 245, 245, 245, 245, 245, 245, 245, 245, 245, 245, 245,\n",
       "        245, 245, 245, 245, 245, 245, 245, 245, 245, 245, 245, 245, 245,\n",
       "        245, 245],\n",
       "       [245, 245, 245, 245, 245, 245, 245, 245, 245, 245, 245, 245, 245,\n",
       "        245, 245, 245, 245, 245, 245, 245, 245, 245, 245, 245, 245, 245,\n",
       "        245, 245],\n",
       "       [245, 245, 245, 245, 245, 245, 245, 245, 245, 245, 245, 245, 245,\n",
       "        245, 245, 245, 245, 245, 245, 245, 245, 245, 245, 245, 245, 245,\n",
       "        245, 245],\n",
       "       [245, 245, 245, 245, 245, 245, 245, 245, 245, 245, 245, 245, 245,\n",
       "        245, 245, 245, 245, 245, 245, 245, 245, 245, 245, 245, 245, 245,\n",
       "        245, 245],\n",
       "       [245, 245, 245, 245, 245, 245, 245, 245, 245, 245, 245, 245, 245,\n",
       "        245, 245, 245, 245, 245, 245, 245, 245, 245, 245, 245, 245, 245,\n",
       "        245, 245],\n",
       "       [245, 245, 245, 245, 245, 245, 245, 245, 245, 245, 245, 245, 245,\n",
       "        245, 245, 245, 245, 245, 245, 245, 245, 245, 245, 245, 245, 245,\n",
       "        245, 245],\n",
       "       [245, 245, 245, 245, 245, 245, 245, 245, 245, 245, 245, 245, 245,\n",
       "        245, 245, 245, 245, 245, 245, 245, 245, 245, 245, 245, 245, 245,\n",
       "        245, 245],\n",
       "       [245, 245, 245, 245, 245, 245, 245, 245, 245, 245, 245, 245, 245,\n",
       "        245, 245, 245, 245, 245, 245, 245, 245, 245, 245, 245, 245, 245,\n",
       "        245, 245],\n",
       "       [245, 245, 245, 245, 245, 245, 245, 245, 245, 245, 245, 245, 245,\n",
       "        245, 245, 245, 245, 245, 245, 245, 245, 245, 245, 245, 245, 245,\n",
       "        245, 245],\n",
       "       [245, 245, 245, 245, 245, 245, 245, 245, 245, 245, 245, 245, 245,\n",
       "        245, 245, 245, 245, 245, 245, 245, 245, 245, 245, 245, 245, 245,\n",
       "        245, 245],\n",
       "       [245, 245, 245, 245, 245, 245, 245, 245, 245, 245, 245, 245, 245,\n",
       "        245, 245, 245, 245, 245, 245, 245, 245, 245, 245, 245, 245, 245,\n",
       "        245, 245],\n",
       "       [245, 245, 245, 245, 245, 245, 245, 245, 245, 245, 245, 245, 245,\n",
       "        245, 245, 245, 245, 245, 245, 245, 245, 245, 245, 245, 245, 245,\n",
       "        245, 245],\n",
       "       [245, 245, 245, 245, 245, 245, 245, 245, 245, 245, 245, 245, 245,\n",
       "        245, 245, 245, 245, 245, 245, 245, 245, 245, 245, 245, 245, 245,\n",
       "        245, 245],\n",
       "       [245, 245, 245, 245, 245, 245, 245, 245, 245, 245, 245, 245, 245,\n",
       "        245, 245, 245, 245, 245, 245, 245, 245, 245, 245, 245, 245, 245,\n",
       "        245, 245],\n",
       "       [245, 245, 245, 245, 245, 245, 245, 245, 245, 245, 245, 245, 245,\n",
       "        245, 245, 245, 245, 245, 245, 245, 245, 245, 245, 245, 245, 245,\n",
       "        245, 245],\n",
       "       [245, 245, 245, 245, 245, 245, 245, 245, 245, 245, 245, 245, 245,\n",
       "        245, 245, 245, 245, 245, 245, 245, 245, 245, 245, 245, 245, 245,\n",
       "        245, 245],\n",
       "       [245, 245, 245, 245, 245, 245, 245, 245, 245, 245, 245, 245, 245,\n",
       "        245, 245, 245, 245, 245, 245, 245, 245, 245, 245, 245, 245, 245,\n",
       "        245, 245],\n",
       "       [245, 245, 245, 245, 245, 245, 245, 245, 245, 245, 245, 245, 245,\n",
       "        245, 245, 245, 245, 245, 245, 245, 245, 245, 245, 245, 245, 245,\n",
       "        245, 245],\n",
       "       [245, 245, 245, 245, 245, 245, 245, 245, 245, 245, 245, 245, 245,\n",
       "        245, 245, 245, 245, 245, 245, 245, 245, 245, 245, 245, 245, 245,\n",
       "        245, 245],\n",
       "       [245, 245, 245, 245, 245, 245, 245, 245, 245, 245, 245, 245, 245,\n",
       "        245, 245, 245, 245, 245, 245, 245, 245, 245, 245, 245, 245, 245,\n",
       "        245, 245],\n",
       "       [245, 245, 245, 245, 245, 245, 245, 245, 245, 245, 245, 245, 245,\n",
       "        245, 245, 245, 245, 245, 245, 245, 245, 245, 245, 245, 245, 245,\n",
       "        245, 245],\n",
       "       [245, 245, 245, 245, 245, 245, 245, 245, 245, 245, 245, 245, 245,\n",
       "        245, 245, 245, 245, 245, 245, 245, 245, 245, 245, 245, 245, 245,\n",
       "        245, 245],\n",
       "       [245, 245, 245, 245, 245, 245, 245, 245, 245, 245, 245, 245, 245,\n",
       "        245, 245, 245, 245, 245, 245, 245, 245, 245, 245, 245, 245, 245,\n",
       "        245, 245],\n",
       "       [245, 245, 245, 245, 245, 245, 245, 245, 245, 245, 245, 245, 245,\n",
       "        245, 245, 245, 245, 245, 245, 245, 245, 245, 245, 245, 245, 245,\n",
       "        245, 245],\n",
       "       [245, 245, 245, 245, 245, 245, 245, 245, 245, 245, 245, 245, 245,\n",
       "        245, 245, 245, 245, 245, 245, 245, 245, 245, 245, 245, 245, 245,\n",
       "        245, 245],\n",
       "       [245, 245, 245, 245, 245, 245, 245, 245, 245, 245, 245, 245, 245,\n",
       "        245, 245, 245, 245, 245, 245, 245, 245, 245, 245, 245, 245, 245,\n",
       "        245, 245]], dtype=uint8)"
      ]
     },
     "execution_count": 18,
     "metadata": {},
     "output_type": "execute_result"
    }
   ],
   "source": [
    "a = np.full((28,28), 255,dtype=np.uint8)\n",
    "b = np.full((28,28), 10,dtype=np.uint8)\n",
    "a-b"
   ]
  },
  {
   "cell_type": "code",
   "execution_count": 45,
   "metadata": {
    "collapsed": false,
    "deletable": true,
    "editable": true,
    "run_control": {
     "marked": false
    }
   },
   "outputs": [
    {
     "name": "stdout",
     "output_type": "stream",
     "text": [
      "[[-2 -3 -5]]\n",
      "[[-2]\n",
      " [-3]\n",
      " [-5]]\n",
      "[[ 4  6 10]\n",
      " [ 6  9 15]\n",
      " [10 15 25]]\n",
      "[[ 2.          2.44948974  3.16227766]\n",
      " [ 2.44948974  3.          3.87298335]\n",
      " [ 3.16227766  3.87298335  5.        ]]\n",
      "[[ 2.          2.44948974  3.16227766]\n",
      " [ 2.44948974  3.          3.87298335]\n",
      " [ 3.16227766  3.87298335  5.        ]]\n"
     ]
    }
   ],
   "source": [
    "a = np.array([[2,3,5]])\n",
    "b = np.array([[4,6, 10]])\n",
    "c = a - b\n",
    "c_t = np.transpose(c)\n",
    "c_mul_c_t = c * c_t\n",
    "sqrt = np.sqrt(c_mul_c_t)\n",
    "print(c)\n",
    "print(c_t)\n",
    "print(c_mul_c_t)\n",
    "print(sqrt)\n",
    "print(np.power(c_mul_c_t, 0.5))"
   ]
  },
  {
   "cell_type": "code",
   "execution_count": 96,
   "metadata": {
    "collapsed": false,
    "deletable": true,
    "editable": true,
    "run_control": {
     "marked": false
    },
    "scrolled": true
   },
   "outputs": [
    {
     "name": "stdout",
     "output_type": "stream",
     "text": [
      "[ -5 -11]\n",
      "[ -5 -11]\n",
      "[ 25 121]\n",
      "[  5.  11.]\n",
      "146\n",
      "-----------\n",
      "146.0\n",
      "12.0830459736\n",
      "-----------\n",
      "2.0\n",
      "16.0\n",
      "12.0830459736\n",
      "11.3341022162\n",
      "11.3341022162\n"
     ]
    }
   ],
   "source": [
    "import math\n",
    "x1,y1,x2,y2 = 2,4,7,15\n",
    "d = np.array([x1,y1])\n",
    "e = np.array([x2,y2])\n",
    "f = d - e\n",
    "g = np.transpose(f)\n",
    "h = f * g\n",
    "i = np.sqrt(h)\n",
    "print f\n",
    "print g\n",
    "print h\n",
    "print i\n",
    "print np.dot(f,g)\n",
    "print \"-----------\"\n",
    "sum_pow = math.pow(x1-x2, 2) + math.pow(y1 - y2, 2)\n",
    "print sum_pow\n",
    "print math.sqrt(sum_pow)\n",
    "print \"-----------\"\n",
    "print np.linalg.norm(i,0)\n",
    "print np.linalg.norm(i,1)\n",
    "print np.linalg.norm(i,2)\n",
    "print np.linalg.norm(i,3)\n",
    "print math.pow(math.pow(5, 3) + math.pow(11,3), 1/3.0)"
   ]
  },
  {
   "cell_type": "code",
   "execution_count": 88,
   "metadata": {
    "collapsed": false,
    "deletable": true,
    "editable": true,
    "run_control": {
     "marked": false
    }
   },
   "outputs": [
    {
     "name": "stdout",
     "output_type": "stream",
     "text": [
      "[[[1]\n",
      "  [2]\n",
      "  [3]]\n",
      "\n",
      " [[4]\n",
      "  [5]\n",
      "  [6]]]\n",
      "-------------\n",
      "[[[[1]\n",
      "   [2]\n",
      "   [3]]]\n",
      "\n",
      "\n",
      " [[[4]\n",
      "   [5]\n",
      "   [6]]]]\n",
      "(2, 3, 1)\n",
      "(2, 1, 3, 1)\n"
     ]
    }
   ],
   "source": [
    "x = np.array([[[1],[2],[3]], [[4],[5],[6]]])\n",
    "print x\n",
    "print \"-------------\"\n",
    "print x[:, np.newaxis]\n",
    "print x.shape\n",
    "print x[:, np.newaxis].shape"
   ]
  },
  {
   "cell_type": "code",
   "execution_count": 107,
   "metadata": {
    "collapsed": false,
    "deletable": true,
    "editable": true,
    "run_control": {
     "marked": false
    }
   },
   "outputs": [
    {
     "name": "stdout",
     "output_type": "stream",
     "text": [
      "[[4 3]\n",
      " [2 1]]\n",
      "[[1 2]\n",
      " [3 4]]\n",
      "[[13 20]\n",
      " [ 5  8]]\n",
      "[[40 30]\n",
      " [20 10]]\n"
     ]
    }
   ],
   "source": [
    "a=np.mat('4 3; 2 1')\n",
    "b=np.mat([[1,2],[3,4]])\n",
    "print(a)\n",
    "# [[4 3]\n",
    "#  [2 1]]\n",
    "print(b)\n",
    "# [[1 2]\n",
    "#  [3 4]]\n",
    "print(a*b)\n",
    "# [[13 20]\n",
    "#  [ 5  8]]\n",
    "print a * 10"
   ]
  },
  {
   "cell_type": "code",
   "execution_count": 95,
   "metadata": {
    "collapsed": false,
    "deletable": true,
    "editable": true,
    "run_control": {
     "marked": false
    }
   },
   "outputs": [
    {
     "name": "stdout",
     "output_type": "stream",
     "text": [
      "[[4 3]\n",
      " [2 1]]\n",
      "[[1 2]\n",
      " [3 4]]\n",
      "[[4 6]\n",
      " [6 4]]\n",
      "[[13 20]\n",
      " [ 5  8]]\n"
     ]
    }
   ],
   "source": [
    "a=np.array([[4,3],[2,1]])\n",
    "b=np.array([[1,2],[3,4]])\n",
    "print a\n",
    "print b\n",
    "print a*b\n",
    "print np.dot(a,b)"
   ]
  },
  {
   "cell_type": "code",
   "execution_count": 102,
   "metadata": {
    "collapsed": false,
    "deletable": true,
    "editable": true,
    "run_control": {
     "marked": false
    }
   },
   "outputs": [
    {
     "name": "stdout",
     "output_type": "stream",
     "text": [
      "[[[ 1  2]\n",
      "  [ 3  4]\n",
      "  [ 5  6]\n",
      "  [ 7  8]]\n",
      "\n",
      " [[ 9 10]\n",
      "  [11 12]\n",
      "  [13 14]\n",
      "  [15 16]]]\n",
      "---------------\n",
      "[[[12 13]\n",
      "  [14 15]\n",
      "  [16 17]]\n",
      "\n",
      " [[18 19]\n",
      "  [20 21]\n",
      "  [22 23]]]\n",
      "---------------\n",
      "[[[[ 38  44  50]\n",
      "   [ 56  62  68]]\n",
      "\n",
      "  [[ 88 102 116]\n",
      "   [130 144 158]]\n",
      "\n",
      "  [[138 160 182]\n",
      "   [204 226 248]]\n",
      "\n",
      "  [[188 218 248]\n",
      "   [278 308 338]]]\n",
      "\n",
      "\n",
      " [[[238 276 314]\n",
      "   [352 390 428]]\n",
      "\n",
      "  [[288 334 380]\n",
      "   [426 472 518]]\n",
      "\n",
      "  [[338 392 446]\n",
      "   [500 554 608]]\n",
      "\n",
      "  [[388 450 512]\n",
      "   [574 636 698]]]]\n",
      "---------------\n"
     ]
    }
   ],
   "source": [
    "a = np.arange(1,17).reshape(2,4,2)\n",
    "b = np.arange(12,24).reshape(2,3,2)\n",
    "print a\n",
    "print '---------------'\n",
    "print b\n",
    "print '---------------'\n",
    "print np.inner(a,b)\n",
    "print '---------------'\n"
   ]
  },
  {
   "cell_type": "code",
   "execution_count": 108,
   "metadata": {
    "collapsed": false,
    "deletable": true,
    "editable": true,
    "run_control": {
     "marked": false
    }
   },
   "outputs": [
    {
     "ename": "ValueError",
     "evalue": "operands could not be broadcast together with shapes (4,2) (3,2) ",
     "output_type": "error",
     "traceback": [
      "\u001b[0;31m\u001b[0m",
      "\u001b[0;31mValueError\u001b[0mTraceback (most recent call last)",
      "\u001b[0;32m<ipython-input-108-7636c579bcce>\u001b[0m in \u001b[0;36m<module>\u001b[0;34m()\u001b[0m\n\u001b[1;32m      9\u001b[0m   [16, 17]]\n\u001b[1;32m     10\u001b[0m )\n\u001b[0;32m---> 11\u001b[0;31m \u001b[0;32mprint\u001b[0m \u001b[0mm\u001b[0m\u001b[0;34m*\u001b[0m\u001b[0mn\u001b[0m\u001b[0;34m\u001b[0m\u001b[0m\n\u001b[0m",
      "\u001b[0;31mValueError\u001b[0m: operands could not be broadcast together with shapes (4,2) (3,2) "
     ]
    }
   ],
   "source": [
    "m = np.array(\n",
    " [[ 1,  2],\n",
    "  [ 3,  4],\n",
    "  [ 5,  6],\n",
    "  [ 7,  8]])\n",
    "n = np.array(\n",
    " [[12, 13],\n",
    "  [14, 15],\n",
    "  [16, 17]]\n",
    ")\n",
    "print m*n"
   ]
  },
  {
   "cell_type": "code",
   "execution_count": 114,
   "metadata": {
    "collapsed": false,
    "deletable": true,
    "editable": true,
    "run_control": {
     "marked": false
    }
   },
   "outputs": [
    {
     "name": "stdout",
     "output_type": "stream",
     "text": [
      "16.0\n",
      "[ 28.25676508  -0.06157963  -9.19518545]\n",
      "[[-0.35886751 -0.89790614 -0.32380268]\n",
      " [-0.60834795  0.38341897 -0.46438226]\n",
      " [-0.70790315  0.21622781  0.82431847]]\n"
     ]
    }
   ],
   "source": [
    "p = np.mat([\n",
    "    [4,5,8],\n",
    "    [7,9,13],\n",
    "    [10, 20, 6]])\n",
    "print np.linalg.det(p)\n",
    "w,v= np.linalg.eig(p)\n",
    "print w\n",
    "print v"
   ]
  },
  {
   "cell_type": "code",
   "execution_count": 116,
   "metadata": {
    "collapsed": false,
    "deletable": true,
    "editable": true,
    "run_control": {
     "marked": false
    }
   },
   "outputs": [
    {
     "name": "stdout",
     "output_type": "stream",
     "text": [
      "[[0 1 2]\n",
      " [3 4 5]\n",
      " [6 7 8]]\n",
      "[[ 0  2  4]\n",
      " [ 6  8 10]\n",
      " [12 14 16]]\n"
     ]
    }
   ],
   "source": [
    "a = np.arange(9).reshape(3,3)\n",
    "b = 2 * a\n",
    "print a\n",
    "print b"
   ]
  },
  {
   "cell_type": "code",
   "execution_count": 122,
   "metadata": {
    "collapsed": false,
    "deletable": true,
    "editable": true,
    "run_control": {
     "marked": false
    }
   },
   "outputs": [
    {
     "data": {
      "text/plain": [
       "array([[ 0,  1,  2],\n",
       "       [ 3,  4,  5],\n",
       "       [ 6,  7,  8],\n",
       "       [ 0,  2,  4],\n",
       "       [ 6,  8, 10],\n",
       "       [12, 14, 16]])"
      ]
     },
     "execution_count": 122,
     "metadata": {},
     "output_type": "execute_result"
    }
   ],
   "source": [
    "np.concatenate([a,b], axis=0)"
   ]
  },
  {
   "cell_type": "code",
   "execution_count": 124,
   "metadata": {
    "collapsed": false,
    "deletable": true,
    "editable": true,
    "run_control": {
     "marked": false
    }
   },
   "outputs": [
    {
     "data": {
      "text/plain": [
       "array([[ 0,  1,  2,  0,  2,  4],\n",
       "       [ 3,  4,  5,  6,  8, 10],\n",
       "       [ 6,  7,  8, 12, 14, 16]])"
      ]
     },
     "execution_count": 124,
     "metadata": {},
     "output_type": "execute_result"
    }
   ],
   "source": [
    "np.hstack([a,b])"
   ]
  },
  {
   "cell_type": "code",
   "execution_count": 125,
   "metadata": {
    "collapsed": false,
    "deletable": true,
    "editable": true,
    "run_control": {
     "marked": false
    }
   },
   "outputs": [
    {
     "data": {
      "text/plain": [
       "array([[ 0,  1,  2],\n",
       "       [ 3,  4,  5],\n",
       "       [ 6,  7,  8],\n",
       "       [ 0,  2,  4],\n",
       "       [ 6,  8, 10],\n",
       "       [12, 14, 16]])"
      ]
     },
     "execution_count": 125,
     "metadata": {},
     "output_type": "execute_result"
    }
   ],
   "source": [
    "np.vstack([a,b])"
   ]
  },
  {
   "cell_type": "code",
   "execution_count": 126,
   "metadata": {
    "collapsed": false,
    "deletable": true,
    "editable": true,
    "run_control": {
     "marked": false
    }
   },
   "outputs": [
    {
     "data": {
      "text/plain": [
       "array([[[ 0,  0],\n",
       "        [ 1,  2],\n",
       "        [ 2,  4]],\n",
       "\n",
       "       [[ 3,  6],\n",
       "        [ 4,  8],\n",
       "        [ 5, 10]],\n",
       "\n",
       "       [[ 6, 12],\n",
       "        [ 7, 14],\n",
       "        [ 8, 16]]])"
      ]
     },
     "execution_count": 126,
     "metadata": {},
     "output_type": "execute_result"
    }
   ],
   "source": [
    "np.dstack([a,b])"
   ]
  },
  {
   "cell_type": "code",
   "execution_count": 127,
   "metadata": {
    "collapsed": false,
    "deletable": true,
    "editable": true,
    "run_control": {
     "marked": false
    }
   },
   "outputs": [
    {
     "data": {
      "text/plain": [
       "array([[ 0,  1,  2],\n",
       "       [ 3,  4,  5],\n",
       "       [ 6,  7,  8],\n",
       "       [ 0,  2,  4],\n",
       "       [ 6,  8, 10],\n",
       "       [12, 14, 16]])"
      ]
     },
     "execution_count": 127,
     "metadata": {},
     "output_type": "execute_result"
    }
   ],
   "source": [
    "np.row_stack([a,b])"
   ]
  },
  {
   "cell_type": "code",
   "execution_count": 128,
   "metadata": {
    "collapsed": false,
    "deletable": true,
    "editable": true,
    "run_control": {
     "marked": false
    }
   },
   "outputs": [
    {
     "data": {
      "text/plain": [
       "array([[ 0,  1,  2,  0,  2,  4],\n",
       "       [ 3,  4,  5,  6,  8, 10],\n",
       "       [ 6,  7,  8, 12, 14, 16]])"
      ]
     },
     "execution_count": 128,
     "metadata": {},
     "output_type": "execute_result"
    }
   ],
   "source": [
    "np.column_stack([a,b])"
   ]
  },
  {
   "cell_type": "code",
   "execution_count": 136,
   "metadata": {
    "collapsed": false,
    "deletable": true,
    "editable": true,
    "run_control": {
     "marked": false
    }
   },
   "outputs": [
    {
     "name": "stdout",
     "output_type": "stream",
     "text": [
      "[1 2 3 4]\n",
      "[1 2 3]\n",
      "-=-==-=\n",
      "[[1 2]\n",
      " [3 4]]\n",
      "[1 2 3]\n"
     ]
    }
   ],
   "source": [
    "s = np.array([1,2,3,4])\n",
    "t = s[:3]\n",
    "print s\n",
    "print t\n",
    "s.shape = (2,2)\n",
    "print \"-=-==-=\"\n",
    "print s\n",
    "print t"
   ]
  },
  {
   "cell_type": "code",
   "execution_count": 141,
   "metadata": {
    "collapsed": false,
    "deletable": true,
    "editable": true,
    "run_control": {
     "marked": false
    }
   },
   "outputs": [
    {
     "name": "stdout",
     "output_type": "stream",
     "text": [
      "[[0 1 2]\n",
      " [3 4 5]\n",
      " [6 7 8]]\n",
      "36\n",
      "[ 9 12 15]\n",
      "[ 3 12 21]\n"
     ]
    }
   ],
   "source": [
    "print a\n",
    "print np.sum(a)\n",
    "print np.sum(a, axis=0)\n",
    "print np.sum(a, axis=1)"
   ]
  },
  {
   "cell_type": "code",
   "execution_count": 142,
   "metadata": {
    "collapsed": false,
    "deletable": true,
    "editable": true,
    "run_control": {
     "marked": false
    }
   },
   "outputs": [
    {
     "data": {
      "text/plain": [
       "array([[  1.00000000e+00,   2.71828183e+00,   7.38905610e+00],\n",
       "       [  2.00855369e+01,   5.45981500e+01,   1.48413159e+02],\n",
       "       [  4.03428793e+02,   1.09663316e+03,   2.98095799e+03]])"
      ]
     },
     "execution_count": 142,
     "metadata": {},
     "output_type": "execute_result"
    }
   ],
   "source": [
    "np.exp(a)"
   ]
  },
  {
   "cell_type": "code",
   "execution_count": 143,
   "metadata": {
    "collapsed": false,
    "deletable": true,
    "editable": true,
    "run_control": {
     "marked": false
    }
   },
   "outputs": [
    {
     "data": {
      "text/plain": [
       "array([[   1.,    2.,    4.],\n",
       "       [   8.,   16.,   32.],\n",
       "       [  64.,  128.,  256.]])"
      ]
     },
     "execution_count": 143,
     "metadata": {},
     "output_type": "execute_result"
    }
   ],
   "source": [
    "np.exp2(a)"
   ]
  },
  {
   "cell_type": "code",
   "execution_count": 149,
   "metadata": {
    "collapsed": false,
    "deletable": true,
    "editable": true,
    "run_control": {
     "marked": false
    }
   },
   "outputs": [
    {
     "name": "stdout",
     "output_type": "stream",
     "text": [
      "7.38905609893\n",
      "2.0\n",
      "[ 7.3890561]\n"
     ]
    }
   ],
   "source": [
    "print math.pow(math.e, 2)\n",
    "print math.log(math.pow(math.e, 2))\n",
    "print np.exp([2])"
   ]
  },
  {
   "cell_type": "code",
   "execution_count": 163,
   "metadata": {
    "collapsed": false,
    "deletable": true,
    "editable": true,
    "run_control": {
     "marked": false
    }
   },
   "outputs": [
    {
     "data": {
      "image/png": "[encoded data removed]",
      "text/plain": [
       "<matplotlib.figure.Figure at 0x7ff4130dd0d0>"
      ]
     },
     "metadata": {},
     "output_type": "display_data"
    }
   ],
   "source": [
    "%matplotlib inline\n",
    "f1 = plt.figure(1)\n",
    "plt.xlabel(\"x\")\n",
    "plt.ylabel(\"y\")\n",
    "x = np.linspace(0, 3, 100)\n",
    "for i in xrange(5):\n",
    "    plt.plot(x, np.exp(i*x/3))\n",
    "plt.show()"
   ]
  },
  {
   "cell_type": "code",
   "execution_count": 167,
   "metadata": {
    "collapsed": false,
    "deletable": true,
    "editable": true,
    "run_control": {
     "marked": false
    }
   },
   "outputs": [
    {
     "data": {
      "text/plain": [
       "<matplotlib.text.Text at 0x7ff4131f8610>"
      ]
     },
     "execution_count": 167,
     "metadata": {},
     "output_type": "execute_result"
    },
    {
     "data": {
      "image/png": "[encoded data removed]",
      "text/plain": [
       "<matplotlib.figure.Figure at 0x7ff4132720d0>"
      ]
     },
     "metadata": {},
     "output_type": "display_data"
    }
   ],
   "source": [
    "plt.plot([0,1],[0,1])\n",
    "plt.xlabel(\"x value\")\n",
    "plt.ylabel(\"y value\")"
   ]
  },
  {
   "cell_type": "code",
   "execution_count": 219,
   "metadata": {
    "collapsed": false,
    "deletable": true,
    "editable": true,
    "run_control": {
     "marked": false
    }
   },
   "outputs": [
    {
     "data": {
      "image/png": "[encoded data removed]",
      "text/plain": [
       "<PIL.PngImagePlugin.PngImageFile image mode=RGBA size=432x288 at 0x7FF412F3AFD0>"
      ]
     },
     "metadata": {},
     "output_type": "display_data"
    }
   ],
   "source": [
    "from matplotlib.figure import Figure\n",
    "from matplotlib.backends.backend_agg import FigureCanvasAgg as FigureCanvas\n",
    "import PIL.Image as Image\n",
    "\n",
    "fig = Figure()\n",
    "canvas = FigureCanvas(fig)\n",
    "ax = fig.add_axes([0.1, 0.1, 0.8, 0.8])\n",
    "line,  = ax.plot([0,1], [0,1])\n",
    "ax.set_title(\"a straight line (OO)\")\n",
    "ax.set_xlabel(\"x value\")\n",
    "ax.set_ylabel(\"y value\")\n",
    "canvas.print_figure(\"demo.png\")\n",
    "display(Image.open(\"demo.png\"))"
   ]
  },
  {
   "cell_type": "code",
   "execution_count": 220,
   "metadata": {
    "collapsed": false,
    "run_control": {
     "marked": false
    }
   },
   "outputs": [
    {
     "name": "stdout",
     "output_type": "stream",
     "text": [
      "module://ipykernel.pylab.backend_inline\n"
     ]
    }
   ],
   "source": [
    "import matplotlib\n",
    "print(matplotlib.get_backend())"
   ]
  },
  {
   "cell_type": "code",
   "execution_count": 373,
   "metadata": {
    "collapsed": false,
    "run_control": {
     "marked": false
    }
   },
   "outputs": [
    {
     "name": "stdout",
     "output_type": "stream",
     "text": [
      "[[0 1 2]\n",
      " [3 4 5]\n",
      " [6 7 8]]\n"
     ]
    },
    {
     "data": {
      "text/plain": [
       "array([[ 0. ,  0.5,  1. ],\n",
       "       [ 1.5,  2. ,  2.5],\n",
       "       [ 3. ,  3.5,  4. ]])"
      ]
     },
     "execution_count": 373,
     "metadata": {},
     "output_type": "execute_result"
    }
   ],
   "source": [
    "print a\n",
    "np.multiply(a, 1.0 / 2)"
   ]
  },
  {
   "cell_type": "code",
   "execution_count": 376,
   "metadata": {
    "collapsed": false,
    "run_control": {
     "marked": false
    }
   },
   "outputs": [
    {
     "data": {
      "text/plain": [
       "array([0, 1, 2, 3, 4, 5, 6, 7, 8])"
      ]
     },
     "execution_count": 376,
     "metadata": {},
     "output_type": "execute_result"
    }
   ],
   "source": [
    "a.ravel()"
   ]
  },
  {
   "cell_type": "code",
   "execution_count": 380,
   "metadata": {
    "collapsed": false,
    "run_control": {
     "marked": false
    }
   },
   "outputs": [
    {
     "data": {
      "text/plain": [
       "array([0, 1, 2, 3, 4, 5, 6, 7, 8])"
      ]
     },
     "execution_count": 380,
     "metadata": {},
     "output_type": "execute_result"
    }
   ],
   "source": [
    "a.flatten()"
   ]
  },
  {
   "cell_type": "code",
   "execution_count": 391,
   "metadata": {
    "collapsed": false,
    "run_control": {
     "marked": false
    }
   },
   "outputs": [
    {
     "name": "stdout",
     "output_type": "stream",
     "text": [
      "[[ 4  3  5]\n",
      " [ 9 10  1]]\n",
      "4\n",
      "[1 1 0]\n",
      "[2 1]\n",
      "10\n",
      "[ 9 10  5]\n",
      "[ 5 10]\n"
     ]
    }
   ],
   "source": [
    "a = np.array([[4, 3, 5], [9, 10, 1]])\n",
    "print a\n",
    "print np.argmax(a)\n",
    "print np.argmax(a, axis=0)\n",
    "print np.argmax(a, axis=1)\n",
    "print np.amax(a)\n",
    "print np.amax(a, axis=0)\n",
    "print np.amax(a, axis=1)"
   ]
  },
  {
   "cell_type": "code",
   "execution_count": 12,
   "metadata": {
    "collapsed": false,
    "run_control": {
     "marked": false
    }
   },
   "outputs": [
    {
     "name": "stdout",
     "output_type": "stream",
     "text": [
      "[0 1 2 3 4 5 6 7 8 9]\n",
      "[0 1 5 4 3 6 2 9 8 7]\n"
     ]
    }
   ],
   "source": [
    "perm = np.arange(10)\n",
    "print perm\n",
    "np.random.shuffle(perm)\n",
    "print perm"
   ]
  },
  {
   "cell_type": "code",
   "execution_count": 13,
   "metadata": {
    "collapsed": false,
    "run_control": {
     "marked": false
    }
   },
   "outputs": [
    {
     "name": "stdout",
     "output_type": "stream",
     "text": [
      "[1, 2, 3, 4, 7, 8, 9]\n"
     ]
    }
   ],
   "source": [
    "a = [1, 3, 4, 2, 7, 9, 8]\n",
    "length = len(a)\n",
    "for i in range(0, length):\n",
    "    for j in range(i + 1, length):\n",
    "        if(a[i] > a[j]):\n",
    "            temp = a[i]\n",
    "            a[i] = a[j]\n",
    "            a[j] = temp\n",
    "        j += 1\n",
    "    i += 1\n",
    "print a"
   ]
  },
  {
   "cell_type": "code",
   "execution_count": 60,
   "metadata": {
    "collapsed": false
   },
   "outputs": [
    {
     "name": "stdout",
     "output_type": "stream",
     "text": [
      "<type 'generator'>\n",
      "------------\n"
     ]
    }
   ],
   "source": [
    "def f():\n",
    "    for i in range(1,10, 2):        \n",
    "        yield 'x' + str(i)\n",
    "        print 'haha ' + str(i)\n",
    "\n",
    "sequence = f() \n",
    "\n",
    "print type(sequence)\n",
    "print \"------------\"\n",
    "# for j in sequence:\n",
    "#     pass\n",
    "    "
   ]
  },
  {
   "cell_type": "code",
   "execution_count": 49,
   "metadata": {
    "collapsed": false
   },
   "outputs": [
    {
     "name": "stdout",
     "output_type": "stream",
     "text": [
      "38682\n",
      "88798\n",
      "304\n"
     ]
    }
   ],
   "source": [
    "import random\n",
    "def no_limit():\n",
    "    while True:\n",
    "        yield random.randint(1, 100000)\n",
    "\n",
    "#seq 是一个无限序列\n",
    "seq = no_limit()\n",
    "print seq.next()\n",
    "print seq.next()\n",
    "print seq.next()"
   ]
  },
  {
   "cell_type": "code",
   "execution_count": 10,
   "metadata": {
    "collapsed": false
   },
   "outputs": [],
   "source": [
    "a = [1,2,3]\n",
    "#a = [None]\n",
    "#print a\n",
    "#print len(a)\n",
    "#print a[0]"
   ]
  },
  {
   "cell_type": "code",
   "execution_count": 13,
   "metadata": {
    "collapsed": false
   },
   "outputs": [
    {
     "data": {
      "text/plain": [
       "[1, 2, 3]"
      ]
     },
     "execution_count": 13,
     "metadata": {},
     "output_type": "execute_result"
    }
   ],
   "source": [
    "a[None:]"
   ]
  },
  {
   "cell_type": "code",
   "execution_count": 3,
   "metadata": {
    "collapsed": false
   },
   "outputs": [
    {
     "data": {
      "text/plain": [
       "array([2, 3])"
      ]
     },
     "execution_count": 3,
     "metadata": {},
     "output_type": "execute_result"
    }
   ],
   "source": [
    "np.array([1,2]) + 1"
   ]
  },
  {
   "cell_type": "code",
   "execution_count": 28,
   "metadata": {
    "collapsed": false
   },
   "outputs": [
    {
     "name": "stdout",
     "output_type": "stream",
     "text": [
      "[[-2]\n",
      " [15]]\n"
     ]
    }
   ],
   "source": [
    "layer = np.array([[3, -1, 3],[2, 4, -5]])\n",
    "weight = np.array([[1], [2], [-1]])\n",
    "\n",
    "print np.dot(layer, weight)"
   ]
  },
  {
   "cell_type": "code",
   "execution_count": 29,
   "metadata": {
    "collapsed": false
   },
   "outputs": [
    {
     "name": "stdout",
     "output_type": "stream",
     "text": [
      "[1]\n",
      "[1]\n",
      "[0]\n",
      "[0]\n"
     ]
    }
   ],
   "source": [
    "inputs = np.array([[1,0,0], [0,1,0], [1,1,1], [0,0,0]])\n",
    "weight = np.array([[1],[1],[-2]])\n",
    "for inputMatrix in inputs:\n",
    "    print np.dot(inputMatrix, weight)"
   ]
  },
  {
   "cell_type": "code",
   "execution_count": 170,
   "metadata": {
    "collapsed": false
   },
   "outputs": [
    {
     "name": "stdout",
     "output_type": "stream",
     "text": [
      "(1, 2) (2, 2)\n",
      "[[1 0]] * [[1, 1], [1, 1]] = [[1 1]] -> [[0 0]] | (1, 2) (1, 2)\n",
      "(1, 2) (2, 1)\n",
      "[[0 0]] * [[-2], [1]] = [[0]] -> [[0]] | (1, 1) (1, 1)\n"
     ]
    },
    {
     "data": {
      "text/plain": [
       "array([[0]])"
      ]
     },
     "execution_count": 170,
     "metadata": {},
     "output_type": "execute_result"
    }
   ],
   "source": [
    "hl = [\n",
    "        [[1,1], [1,1]],\n",
    "        [[-2], [1]]\n",
    "     ]\n",
    "\n",
    "def threshold(t):\n",
    "    return lambda (x): 0 if x < t else 1\n",
    "\n",
    "def np_threshold(threshold_func, array):\n",
    "    np_array = np.array(array)\n",
    "    #print \"np_threshold >>\", np_array, np_array.flatten()\n",
    "    out = np.array(map(threshold_func, np_array.flatten()))    \n",
    "    #print \"np_threshold >>\", out \n",
    "    return out.reshape(np_array.shape)\n",
    "\n",
    "ol = [threshold(2), threshold(1)]\n",
    "\n",
    "def iterateNetwork(il, hl, ol):\n",
    "    feed = il\n",
    "    for n in xrange(0, len(hl)): \n",
    "        print feed.shape, np.array(hl[n]).shape\n",
    "        product = np.dot(feed, hl[n])\n",
    "        out = np_threshold(ol[n], product)        \n",
    "        print feed, \"*\", hl[n], \"=\", product, \"->\", out , \"|\",product.shape, out.shape\n",
    "        feed = out\n",
    "    return feed\n",
    "\n",
    "iterateNetwork(np.array([[1,0]]), hl, ol)"
   ]
  },
  {
   "cell_type": "code",
   "execution_count": 113,
   "metadata": {
    "collapsed": false
   },
   "outputs": [
    {
     "name": "stdout",
     "output_type": "stream",
     "text": [
      "0\n",
      "1\n",
      "1\n",
      "[0, 1, 1]\n",
      "[[1 1]] [1 1]\n",
      "[0 0]\n"
     ]
    },
    {
     "data": {
      "text/plain": [
       "array([[0, 0]])"
      ]
     },
     "execution_count": 113,
     "metadata": {},
     "output_type": "execute_result"
    }
   ],
   "source": [
    "def threshold(t):\n",
    "    return lambda (x): 0 if x < t else 1\n",
    "t2 = threshold(2)\n",
    "print t2(1)\n",
    "print t2(2)\n",
    "print t2(3)\n",
    "print map(t2, np.array([1,2,3]))\n",
    "a = np.array([[1, 1]])\n",
    "print a, a.flatten()\n",
    "b = np.array(map(t2, a.flatten()))\n",
    "print b\n",
    "b.reshape(a.shape)"
   ]
  },
  {
   "cell_type": "code",
   "execution_count": 195,
   "metadata": {
    "collapsed": false
   },
   "outputs": [
    {
     "name": "stdout",
     "output_type": "stream",
     "text": [
      "[ 0.76518475  0.02016925 -0.28301444 -0.01500649 -0.01699262  0.16416168\n",
      " -0.38576401  0.55794038  0.26493925  0.12829129]\n",
      "[ 1.58728824  0.02017473 -0.29945417 -0.01500875 -0.0169959   0.16719292\n",
      " -0.4308484   0.72886603  0.27828008  0.12972255]\n",
      "[ 2.74177574  1.02037682  0.7475486   0.98510443  0.98314933  1.18017255\n",
      "  0.66576811  1.87730568  1.31181688  1.13769258]\n",
      "[ 0.8460895   0.02017062 -0.28686814 -0.01500706 -0.01699344  0.16490398\n",
      " -0.39568523  0.58901353  0.26809308  0.12864466]\n",
      "[ 0.53304087  0.99979655  0.95797008  0.99988739  0.9998556   0.98630963\n",
      "  0.91838619  0.80812317  0.96339301  0.99169075]\n"
     ]
    }
   ],
   "source": [
    "def math_func(x):\n",
    "    print np.tanh(x)\n",
    "    print np.tan(x)\n",
    "    print np.exp(x)\n",
    "    print np.sin(x)\n",
    "    print np.cos(x)\n",
    "\n",
    "a1 = [ 1.00860579,  0.02017199, -0.29095596, -0.01500762, -0.01699426, 0.16566066, -0.40681385,  0.6298376 ,  0.27141311,  0.12900216]\n",
    "math_func(a1)"
   ]
  },
  {
   "cell_type": "code",
   "execution_count": 199,
   "metadata": {
    "collapsed": false
   },
   "outputs": [
    {
     "data": {
      "text/plain": [
       "0.2689414213699951"
      ]
     },
     "execution_count": 199,
     "metadata": {},
     "output_type": "execute_result"
    }
   ],
   "source": [
    "def sigmoid(x):\n",
    "    return np.power(1 + np.power(np.e, x), -1)\n",
    "\n",
    "sigmoid(1)"
   ]
  },
  {
   "cell_type": "code",
   "execution_count": 221,
   "metadata": {
    "collapsed": false
   },
   "outputs": [
    {
     "name": "stdout",
     "output_type": "stream",
     "text": [
      "1.44444444444 1.44444444444 2.08641975309 2.08641975309\n",
      "0.555555555556 2.0 0.308641975309 2.3950617284\n",
      "1.55555555556 3.55555555556 2.41975308642 4.81481481481\n",
      "1.44444444444 5.0 2.08641975309 6.9012345679\n",
      "3.55555555556 8.55555555556 12.6419753086 19.5432098765\n",
      "4.44444444444 13.0 19.7530864198 39.2962962963\n",
      "2.44444444444 15.4444444444 5.97530864198 45.2716049383\n",
      "2.55555555556 18.0 6.53086419753 51.8024691358\n",
      "1.55555555556 19.5555555556 2.41975308642 54.2222222222\n"
     ]
    },
    {
     "data": {
      "text/plain": [
       "(19.444444444444443,\n",
       " 2.1728395061728398,\n",
       " 6.0246913580246924,\n",
       " 2.4545246704860579)"
      ]
     },
     "execution_count": 221,
     "metadata": {},
     "output_type": "execute_result"
    }
   ],
   "source": [
    "def calc_diff(a):\n",
    "    length=len(a)\n",
    "    m=a.mean()\n",
    "    diff_sum = 0\n",
    "    diff_square_sum = 0\n",
    "    for n in a:\n",
    "        diff = abs(n - m)\n",
    "        diff_square = diff ** 2\n",
    "        diff_sum += diff\n",
    "        diff_square_sum += diff_square\n",
    "        print diff,diff_sum, diff_square,diff_square_sum\n",
    "    return (m,diff_sum/length,diff_square_sum/length,np.sqrt(diff_square_sum/length))\n",
    "    \n",
    "a=np.array([33219, 36254, 38801, 46335, 46840, 47596, 55130, 56863, 78070, 88830])    \n",
    "b=np.array([38946,43420,49191,50430,50557,52580,53595,54135,60181,62076])\n",
    "c=np.array([18,20,21,18,23,15,17,22,21])\n",
    "calc_diff(c)"
   ]
  },
  {
   "cell_type": "code",
   "execution_count": 223,
   "metadata": {
    "collapsed": false
   },
   "outputs": [
    {
     "name": "stdout",
     "output_type": "stream",
     "text": [
      "[ 1.  4.  5.  8.]\n",
      "\n",
      "[[ 1.  2.  3.]\n",
      " [ 4.  5.  6.]]\n",
      "---\n",
      "[ 1.  4.  5.  8.]\n",
      "---\n",
      "4.0\n",
      "\n",
      "[ 1.  4.]\n",
      "\n",
      "5.0\n",
      "[[ 1.  2.  3.]\n",
      " [ 4.  5.  6.]]\n",
      "\n",
      "5.0\n",
      "\n",
      "[ 4.  5.  6.]\n",
      "\n",
      "[ 3.  6.]\n",
      "[ 6.  4.  9.]\n",
      "\n",
      "[-4.  0. -3.]\n",
      "\n",
      "[  5.   4.  18.]\n",
      "[[  6.   8.]\n",
      " [ 10.  12.]]\n",
      "\n",
      "[[-4. -4.]\n",
      " [-4. -4.]]\n",
      "\n",
      "[[  5.  12.]\n",
      " [ 21.  32.]]\n",
      "2.0\n",
      "7.0\n",
      "\n",
      "[ 44.]\n"
     ]
    }
   ],
   "source": [
    "import numpy as np\n",
    "\n",
    "'''\n",
    "The following code is to help you play with Numpy, which is a library \n",
    "that provides functions that are especially useful when you have to\n",
    "work with large arrays and matrices of numeric data, like doing \n",
    "matrix matrix multiplications. Also, Numpy is battle tested and \n",
    "optimized so that it runs fast, much faster than if you were working\n",
    "with Python lists directly.\n",
    "'''\n",
    "\n",
    "'''\n",
    "The array object class is the foundation of Numpy, and Numpy arrays are like\n",
    "lists in Python, except that every thing inside an array must be of the\n",
    "same type, like int or float.\n",
    "'''\n",
    "# Change False to True to see Numpy arrays in action\n",
    "if True:\n",
    "    array = np.array([1, 4, 5, 8], float)\n",
    "    print array\n",
    "    print \"\"\n",
    "    array = np.array([[1, 2, 3], [4, 5, 6]], float)  # a 2D array/Matrix\n",
    "    print array\n",
    "\n",
    "'''\n",
    "You can index, slice, and manipulate a Numpy array much like you would with a\n",
    "a Python list.\n",
    "'''\n",
    "# Change False to True to see array indexing and slicing in action\n",
    "if True:\n",
    "    print \"---\"\n",
    "    array = np.array([1, 4, 5, 8], float)\n",
    "    print array\n",
    "    print \"---\"\n",
    "    print array[1]\n",
    "    print \"\"\n",
    "    print array[:2]\n",
    "    print \"\"\n",
    "    array[1] = 5.0\n",
    "    print array[1]\n",
    "\n",
    "# Change False to True to see Matrix indexing and slicing in action\n",
    "if True:\n",
    "    two_D_array = np.array([[1, 2, 3], [4, 5, 6]], float)\n",
    "    print two_D_array\n",
    "    print \"\"\n",
    "    print two_D_array[1][1]\n",
    "    print \"\"\n",
    "    print two_D_array[1, :]\n",
    "    print \"\"\n",
    "    print two_D_array[:, 2]\n",
    "\n",
    "'''\n",
    "Here are some arithmetic operations that you can do with Numpy arrays\n",
    "'''\n",
    "# Change False to True to see Array arithmetics in action\n",
    "if True:\n",
    "    array_1 = np.array([1, 2, 3], float)\n",
    "    array_2 = np.array([5, 2, 6], float)\n",
    "    print array_1 + array_2\n",
    "    print \"\"\n",
    "    print array_1 - array_2\n",
    "    print \"\"\n",
    "    print array_1 * array_2\n",
    "\n",
    "# Change False to True to see Matrix arithmetics in action\n",
    "if True:\n",
    "    array_1 = np.array([[1, 2], [3, 4]], float)\n",
    "    array_2 = np.array([[5, 6], [7, 8]], float)\n",
    "    print array_1 + array_2\n",
    "    print \"\"\n",
    "    print array_1 - array_2\n",
    "    print \"\"\n",
    "    print array_1 * array_2\n",
    "\n",
    "'''\n",
    "In addition to the standard arthimetic operations, Numpy also has a range of\n",
    "other mathematical operations that you can apply to Numpy arrays, such as\n",
    "mean and dot product.\n",
    "\n",
    "Both of these functions will be useful in later programming quizzes.\n",
    "'''\n",
    "if True:\n",
    "    array_1 = np.array([1, 2, 3], float)\n",
    "    array_2 = np.array([[6], [7], [8]], float)\n",
    "    print np.mean(array_1)\n",
    "    print np.mean(array_2)\n",
    "    print \"\"\n",
    "    print np.dot(array_1, array_2)\n"
   ]
  },
  {
   "cell_type": "code",
   "execution_count": 235,
   "metadata": {
    "collapsed": false
   },
   "outputs": [
    {
     "data": {
      "text/plain": [
       "22.42582454304135"
      ]
     },
     "execution_count": 235,
     "metadata": {},
     "output_type": "execute_result"
    }
   ],
   "source": [
    "(pow(2,41) - 1 - time.time()*1000)/(365*24*3600*1000)"
   ]
  },
  {
   "cell_type": "code",
   "execution_count": 238,
   "metadata": {
    "collapsed": false
   },
   "outputs": [
    {
     "data": {
      "text/plain": [
       "4095"
      ]
     },
     "execution_count": 238,
     "metadata": {},
     "output_type": "execute_result"
    }
   ],
   "source": [
    "pow(2,12)-1"
   ]
  },
  {
   "cell_type": "code",
   "execution_count": 21,
   "metadata": {
    "collapsed": false
   },
   "outputs": [
    {
     "data": {
      "text/plain": [
       "-0.0"
      ]
     },
     "execution_count": 21,
     "metadata": {},
     "output_type": "execute_result"
    }
   ],
   "source": [
    "def entropy(p):\n",
    "    return -1 * p * math.log(p, 2)\n",
    "\n",
    "#1- 3.0/4*(entropy(2.0/3) + entropy(1.0/3))\n",
    "entropy(1.0) "
   ]
  },
  {
   "cell_type": "code",
   "execution_count": 11,
   "metadata": {
    "collapsed": false
   },
   "outputs": [
    {
     "data": {
      "text/plain": [
       "0.31120000000000003"
      ]
     },
     "execution_count": 11,
     "metadata": {},
     "output_type": "execute_result"
    }
   ],
   "source": [
    "1-0.9184*3/4"
   ]
  },
  {
   "cell_type": "code",
   "execution_count": 24,
   "metadata": {
    "collapsed": true
   },
   "outputs": [],
   "source": [
    "flatten = lambda x: [y for l in x for y in flatten(l)] if type(x) is tuple or type(x) is list else [x]"
   ]
  },
  {
   "cell_type": "code",
   "execution_count": null,
   "metadata": {
    "collapsed": true
   },
   "outputs": [],
   "source": []
  }
 ],
 "metadata": {
  "kernelspec": {
   "display_name": "Python 2",
   "language": "python",
   "name": "python2"
  },
  "language_info": {
   "codemirror_mode": {
    "name": "ipython",
    "version": 2
   },
   "file_extension": ".py",
   "mimetype": "text/x-python",
   "name": "python",
   "nbconvert_exporter": "python",
   "pygments_lexer": "ipython2",
   "version": "2.7.13"
  },
  "toc": {
   "colors": {
    "hover_highlight": "#DAA520",
    "running_highlight": "#FF0000",
    "selected_highlight": "#FFD700"
   },
   "moveMenuLeft": true,
   "nav_menu": {
    "height": "12px",
    "width": "252px"
   },
   "navigate_menu": true,
   "number_sections": true,
   "sideBar": true,
   "threshold": 4,
   "toc_cell": false,
   "toc_section_display": "block",
   "toc_window_display": false
  }
 },
 "nbformat": 4,
 "nbformat_minor": 2
}
