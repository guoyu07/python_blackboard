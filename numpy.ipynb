{
 "cells": [
  {
   "cell_type": "code",
   "execution_count": 2,
   "metadata": {
    "collapsed": true,
    "run_control": {
     "frozen": false,
     "read_only": false
    }
   },
   "outputs": [],
   "source": [
    "import numpy as np"
   ]
  },
  {
   "cell_type": "markdown",
   "metadata": {
    "run_control": {
     "frozen": false,
     "read_only": false
    }
   },
   "source": [
    "# numpy.random.rand\n",
    "numpy.random.rand 返回指定维度、元素在[0,1)区间随机的数组  \n",
    ". 如果不指定形状，则返回一个浮点数"
   ]
  },
  {
   "cell_type": "code",
   "execution_count": 15,
   "metadata": {
    "collapsed": false,
    "run_control": {
     "frozen": false,
     "read_only": false
    }
   },
   "outputs": [
    {
     "name": "stdout",
     "output_type": "stream",
     "text": [
      "[[ 0.31402238  0.99636792  0.23935676]\n",
      " [ 0.56081952  0.78428358  0.49387835]\n",
      " [ 0.00644813  0.88178774  0.51079476]\n",
      " [ 0.17338848  0.64150994  0.67155235]]\n",
      "0.654303698053\n"
     ]
    }
   ],
   "source": [
    "print np.random.rand(4, 3)\n",
    "print np.random.rand()"
   ]
  },
  {
   "cell_type": "markdown",
   "metadata": {
    "run_control": {
     "frozen": false,
     "read_only": false
    }
   },
   "source": [
    "# numpy.random.randint\n",
    "numpy.random.randint 返回指定范围的整数  \n",
    ". 不指定形状时返回一个整数，指定形状时返回指定形状的数组"
   ]
  },
  {
   "cell_type": "code",
   "execution_count": 14,
   "metadata": {
    "collapsed": false,
    "run_control": {
     "frozen": false,
     "read_only": false
    }
   },
   "outputs": [
    {
     "name": "stdout",
     "output_type": "stream",
     "text": [
      "[[8 8 6 3]\n",
      " [5 1 5 2]\n",
      " [1 6 7 2]]\n",
      "5\n"
     ]
    }
   ],
   "source": [
    "print np.random.randint(0, 10, (3,4))\n",
    "print np.random.randint(0, 10)"
   ]
  },
  {
   "cell_type": "markdown",
   "metadata": {
    "run_control": {
     "frozen": false,
     "read_only": false
    }
   },
   "source": [
    "# numpy.random.randn\n",
    "numpy.random.randn 返回指定形状、标准正态分布的数组  \n",
    ". 如果不指定形状，则返回一个浮点数"
   ]
  },
  {
   "cell_type": "code",
   "execution_count": 13,
   "metadata": {
    "collapsed": false,
    "run_control": {
     "frozen": false,
     "read_only": false
    }
   },
   "outputs": [
    {
     "name": "stdout",
     "output_type": "stream",
     "text": [
      "[[-0.4601255  -0.82543936]\n",
      " [-0.93633169  0.33110578]\n",
      " [-2.3773104   0.76073958]\n",
      " [-0.20979464  0.31643713]]\n",
      "0.0987688411604\n"
     ]
    }
   ],
   "source": [
    "print np.random.randn(4, 2)\n",
    "print np.random.randn()"
   ]
  },
  {
   "cell_type": "markdown",
   "metadata": {
    "collapsed": false,
    "run_control": {
     "frozen": false,
     "read_only": false
    }
   },
   "source": [
    "# 生成随机正态分布数据"
   ]
  },
  {
   "cell_type": "code",
   "execution_count": 7,
   "metadata": {
    "collapsed": false,
    "run_control": {
     "frozen": false,
     "read_only": false
    }
   },
   "outputs": [
    {
     "data": {
      "text/plain": [
       "array([  0.51924214,   3.02535742,   6.35343694,  -7.49563957,\n",
       "        -2.08746881,   2.57534803,   7.28806415,   5.92075425,\n",
       "         3.10227849,  -2.4458491 ,   0.93740374,   0.17599775,\n",
       "        -0.52160957,  -0.65115002,  14.19700234,   3.6316419 ,\n",
       "         2.85654285,   5.2918698 ,   6.63914884,  -5.56003531])"
      ]
     },
     "execution_count": 7,
     "metadata": {},
     "output_type": "execute_result"
    }
   ],
   "source": [
    "#概率分布的标准差，对应于分布的宽度，scale越大越矮胖，scale越小，越瘦高\n",
    "a = np.random.normal(scale=5,size=20)\n",
    "a"
   ]
  },
  {
   "cell_type": "markdown",
   "metadata": {},
   "source": [
    "# reshape维度为-1时，自动推断维度"
   ]
  },
  {
   "cell_type": "code",
   "execution_count": 8,
   "metadata": {
    "collapsed": false
   },
   "outputs": [
    {
     "data": {
      "text/plain": [
       "array([[  0.51924214,   3.02535742,   6.35343694,  -7.49563957],\n",
       "       [ -2.08746881,   2.57534803,   7.28806415,   5.92075425],\n",
       "       [  3.10227849,  -2.4458491 ,   0.93740374,   0.17599775],\n",
       "       [ -0.52160957,  -0.65115002,  14.19700234,   3.6316419 ],\n",
       "       [  2.85654285,   5.2918698 ,   6.63914884,  -5.56003531]])"
      ]
     },
     "execution_count": 8,
     "metadata": {},
     "output_type": "execute_result"
    }
   ],
   "source": [
    "np.reshape(a, (-1,4))"
   ]
  },
  {
   "cell_type": "markdown",
   "metadata": {},
   "source": [
    "# 向上取整保留小数"
   ]
  },
  {
   "cell_type": "code",
   "execution_count": 9,
   "metadata": {
    "collapsed": false
   },
   "outputs": [
    {
     "data": {
      "text/plain": [
       "array([  0.52,   3.03,   6.35,  -7.5 ,  -2.09,   2.58,   7.29,   5.92,\n",
       "         3.1 ,  -2.45,   0.94,   0.18,  -0.52,  -0.65,  14.2 ,   3.63,\n",
       "         2.86,   5.29,   6.64,  -5.56])"
      ]
     },
     "execution_count": 9,
     "metadata": {},
     "output_type": "execute_result"
    }
   ],
   "source": [
    "np.round(a, 2)"
   ]
  },
  {
   "cell_type": "code",
   "execution_count": null,
   "metadata": {
    "collapsed": true
   },
   "outputs": [],
   "source": []
  }
 ],
 "metadata": {
  "kernelspec": {
   "display_name": "Python 2",
   "language": "python",
   "name": "python2"
  },
  "language_info": {
   "codemirror_mode": {
    "name": "ipython",
    "version": 2
   },
   "file_extension": ".py",
   "mimetype": "text/x-python",
   "name": "python",
   "nbconvert_exporter": "python",
   "pygments_lexer": "ipython2",
   "version": "2.7.13"
  },
  "toc": {
   "colors": {
    "hover_highlight": "#DAA520",
    "running_highlight": "#FF0000",
    "selected_highlight": "#FFD700"
   },
   "moveMenuLeft": true,
   "nav_menu": {
    "height": "68px",
    "width": "252px"
   },
   "navigate_menu": true,
   "number_sections": true,
   "sideBar": true,
   "threshold": 4,
   "toc_cell": false,
   "toc_section_display": "block",
   "toc_window_display": false
  }
 },
 "nbformat": 4,
 "nbformat_minor": 2
}
