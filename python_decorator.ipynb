{
 "cells": [
  {
   "cell_type": "markdown",
   "metadata": {},
   "source": [
    "### 装饰器只被调用了一次"
   ]
  },
  {
   "cell_type": "code",
   "execution_count": 5,
   "metadata": {
    "collapsed": false
   },
   "outputs": [
    {
     "name": "stdout",
     "output_type": "stream",
     "text": [
      "=====before=====\n",
      "haha\n",
      "=====after=====\n",
      "haha\n",
      "haha\n",
      "haha\n"
     ]
    }
   ],
   "source": [
    "def surround1(func):\n",
    "    print(\"=====before=====\")\n",
    "    func()\n",
    "    print(\"=====after=====\")\n",
    "    return func\n",
    "  \n",
    "@surround1\n",
    "def test1():\n",
    "    print(\"haha\")\n",
    "    \n",
    "test1()\n",
    "test1()\n",
    "test1()"
   ]
  },
  {
   "cell_type": "markdown",
   "metadata": {},
   "source": [
    "### 使用内嵌函数保证装饰器每次都被调用"
   ]
  },
  {
   "cell_type": "code",
   "execution_count": 7,
   "metadata": {
    "collapsed": false
   },
   "outputs": [
    {
     "name": "stdout",
     "output_type": "stream",
     "text": [
      "=====before=====\n",
      "haha\n",
      "=====after=====\n",
      "=====before=====\n",
      "haha\n",
      "=====after=====\n",
      "=====before=====\n",
      "haha\n",
      "=====after=====\n"
     ]
    }
   ],
   "source": [
    "def surround2(func):\n",
    "    \n",
    "    def _deco():\n",
    "        print(\"=====before=====\")\n",
    "        func()\n",
    "        print(\"=====after=====\")\n",
    "        \n",
    "    return _deco\n",
    "  \n",
    "@surround2\n",
    "def test2():\n",
    "    print(\"haha\")\n",
    "    \n",
    "test2()\n",
    "test2()\n",
    "test2()"
   ]
  },
  {
   "cell_type": "markdown",
   "metadata": {},
   "source": [
    "### 装饰带参数的函数"
   ]
  },
  {
   "cell_type": "code",
   "execution_count": 8,
   "metadata": {
    "collapsed": false
   },
   "outputs": [
    {
     "name": "stdout",
     "output_type": "stream",
     "text": [
      "=====before=====\n",
      "name=Lily sex=0 age=0\n",
      "=====after=====\n",
      "=====before=====\n",
      "name=Sara sex=1 age=0\n",
      "=====after=====\n",
      "=====before=====\n",
      "name=Merry sex=1 age=10\n",
      "=====after=====\n"
     ]
    }
   ],
   "source": [
    "def surround3(func):\n",
    "    \n",
    "    def _deco(*args, **kwargs):\n",
    "        print(\"=====before=====\")\n",
    "        func(*args, **kwargs)\n",
    "        print(\"=====after=====\")\n",
    "        \n",
    "    return _deco\n",
    "  \n",
    "@surround3\n",
    "def test3(name, sex=0, age=0):\n",
    "    print(\"name={} sex={} age={}\".format(name, sex, age))\n",
    "    \n",
    "test3(\"Lily\")\n",
    "test3(\"Sara\", sex=1)\n",
    "test3(\"Merry\", sex=1, age = 10)"
   ]
  },
  {
   "cell_type": "markdown",
   "metadata": {},
   "source": [
    "### 装饰器带参数"
   ]
  },
  {
   "cell_type": "code",
   "execution_count": 16,
   "metadata": {
    "collapsed": false
   },
   "outputs": [
    {
     "name": "stdout",
     "output_type": "stream",
     "text": [
      "=====before=====\n",
      "(1, 2, 3)\n",
      "{'weight': 80}\n",
      "name=Lily sex=0 age=0\n",
      "=====after=====\n",
      "=====before=====\n",
      "(1, 2, 3)\n",
      "{'weight': 80}\n",
      "name=Sara sex=1 age=0\n",
      "=====after=====\n",
      "=====before=====\n",
      "(1, 2, 3)\n",
      "{'weight': 80}\n",
      "name=Merry sex=1 age=10\n",
      "=====after=====\n"
     ]
    }
   ],
   "source": [
    "def surround4(*args0, **kwargs0):\n",
    "    \n",
    "    def _deco(func):\n",
    "                \n",
    "        def __deco(*args, **kwargs):\n",
    "            print(\"=====before=====\")\n",
    "            print(args0)\n",
    "            print(kwargs0)\n",
    "            func(*args, **kwargs)\n",
    "            print(\"=====after=====\")\n",
    "        return __deco\n",
    "    \n",
    "    return _deco\n",
    "  \n",
    "@surround4(1, 2, 3, weight=80)\n",
    "def test4(name, sex=0, age=0):\n",
    "    print(\"name={} sex={} age={}\".format(name, sex, age))\n",
    "    \n",
    "test4(\"Lily\")\n",
    "test4(\"Sara\", sex=1)\n",
    "test4(\"Merry\", sex=1, age = 10)"
   ]
  },
  {
   "cell_type": "code",
   "execution_count": null,
   "metadata": {
    "collapsed": true
   },
   "outputs": [],
   "source": []
  }
 ],
 "metadata": {
  "kernelspec": {
   "display_name": "Python 2",
   "language": "python",
   "name": "python2"
  },
  "language_info": {
   "codemirror_mode": {
    "name": "ipython",
    "version": 2
   },
   "file_extension": ".py",
   "mimetype": "text/x-python",
   "name": "python",
   "nbconvert_exporter": "python",
   "pygments_lexer": "ipython2",
   "version": "2.7.13"
  }
 },
 "nbformat": 4,
 "nbformat_minor": 2
}
