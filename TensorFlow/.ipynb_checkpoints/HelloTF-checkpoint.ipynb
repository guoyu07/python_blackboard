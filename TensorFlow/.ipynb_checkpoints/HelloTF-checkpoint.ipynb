{
 "cells": [
  {
   "cell_type": "code",
   "execution_count": 17,
   "metadata": {
    "collapsed": false,
    "deletable": true,
    "editable": true
   },
   "outputs": [
    {
     "name": "stdout",
     "output_type": "stream",
     "text": [
      "Hello, TensorFlow!\n"
     ]
    }
   ],
   "source": [
    "import tensorflow as tf\n",
    "import numpy as np\n",
    "hello = tf.constant('Hello, TensorFlow!')\n",
    "sess = tf.Session()\n",
    "print sess.run(hello)"
   ]
  },
  {
   "cell_type": "code",
   "execution_count": 2,
   "metadata": {
    "collapsed": false,
    "deletable": true,
    "editable": true
   },
   "outputs": [
    {
     "name": "stdout",
     "output_type": "stream",
     "text": [
      "WARNING:tensorflow:From <ipython-input-2-30543215bdd5>:6 in <module>.: initialize_all_variables (from tensorflow.python.ops.variables) is deprecated and will be removed after 2017-03-02.\n",
      "Instructions for updating:\n",
      "Use `tf.global_variables_initializer` instead.\n",
      "1 2\n",
      "Model saved in file:  /tmp/model.ckpt\n",
      "10 20\n",
      "Model restored.\n",
      "10 2\n"
     ]
    }
   ],
   "source": [
    "# Create some variables.\n",
    "v1 = tf.Variable(1, name=\"v1\")\n",
    "v2 = tf.Variable(2, name=\"v2\")\n",
    "\n",
    "# Add an op to initialize the variables.\n",
    "init_op = tf.initialize_all_variables()\n",
    "\n",
    "# Add ops to save and restore all the variables.\n",
    "saver = tf.train.Saver({\"my_v2\": v2})\n",
    "\n",
    "# Later, launch the model, initialize the variables, do some work, save the\n",
    "# variables to disk.\n",
    "with tf.Session() as sess:\n",
    "  sess.run(init_op)\n",
    "  # Do some work with the model.\n",
    "  print sess.run(v1),sess.run(v2)\n",
    "  \n",
    "  # Save the variables to disk.\n",
    "  save_path = saver.save(sess, \"/tmp/model.ckpt\")\n",
    "  print \"Model saved in file: \", save_path\n",
    "\n",
    "  #change v1 and v2\n",
    "  sess.run(v1.assign(10)),sess.run(v2.assign(20))\n",
    "  print sess.run(v1),sess.run(v2)\n",
    "\n",
    "  #restore v1 and v2\n",
    "  saver.restore(sess, \"/tmp/model.ckpt\")\n",
    "  print \"Model restored.\"\n",
    "  print sess.run(v1),sess.run(v2)"
   ]
  },
  {
   "cell_type": "code",
   "execution_count": 9,
   "metadata": {
    "collapsed": false,
    "deletable": true,
    "editable": true
   },
   "outputs": [
    {
     "name": "stdout",
     "output_type": "stream",
     "text": [
      "[21.0, 7.0]\n"
     ]
    }
   ],
   "source": [
    "input1 = tf.constant(3.0)\n",
    "input2 = tf.constant(2.0)\n",
    "input3 = tf.constant(5.0)\n",
    "intermed = tf.add(input2, input3)\n",
    "mul = tf.mul(input1, intermed)\n",
    "\n",
    "with tf.Session() as sess:\n",
    "  result = sess.run([mul, intermed])\n",
    "  print result"
   ]
  },
  {
   "cell_type": "code",
   "execution_count": 170,
   "metadata": {
    "collapsed": false,
    "deletable": true,
    "editable": true
   },
   "outputs": [
    {
     "name": "stdout",
     "output_type": "stream",
     "text": [
      "[array([ 14.], dtype=float32)]\n"
     ]
    }
   ],
   "source": [
    "input1 = tf.placeholder(\"float32\")\n",
    "input2 = tf.placeholder(\"float32\")\n",
    "output = tf.mul(input1, input2)\n",
    "\n",
    "with tf.Session() as sess:\n",
    "  print sess.run([output], feed_dict={input1:[7.], input2:[2.]})"
   ]
  },
  {
   "cell_type": "markdown",
   "metadata": {},
   "source": [
    "# tf.placeholder\n",
    "tf.placeholder 使用占位符创建一个张量，形状可以指定也可以不指定，如果不指定则以feed_dict中给定的为准  \n",
    ". 运行时必须通过feed_dict这个map提供实际的数据，key为变量名，否则运行时会报错"
   ]
  },
  {
   "cell_type": "code",
   "execution_count": 55,
   "metadata": {
    "collapsed": false,
    "deletable": true,
    "editable": true,
    "scrolled": true
   },
   "outputs": [
    {
     "name": "stdout",
     "output_type": "stream",
     "text": [
      "[[ 71  60  52  70]\n",
      " [ 71  42  53  71]\n",
      " [156 115  94 135]\n",
      " [169 114 130 173]]\n"
     ]
    }
   ],
   "source": [
    "x = tf.placeholder(\"int32\")\n",
    "y = tf.matmul(x, x)\n",
    "\n",
    "with tf.Session() as sess:\n",
    "#   print sess.run(y)  # ERROR: will fail because x was not fed.\n",
    "\n",
    "  rand_array = np.random.randint(0, 10, (4,4))\n",
    "  print sess.run(y, feed_dict={x: rand_array})  # Will succeed."
   ]
  },
  {
   "cell_type": "code",
   "execution_count": 48,
   "metadata": {
    "collapsed": false,
    "deletable": true,
    "editable": true,
    "scrolled": true
   },
   "outputs": [
    {
     "name": "stdout",
     "output_type": "stream",
     "text": [
      "[[ 0.73184553  0.70805385]\n",
      " [ 0.78775031  0.82652413]\n",
      " [ 0.32124618  0.54178983]\n",
      " [ 0.36968436  0.86887646]]\n"
     ]
    }
   ],
   "source": [
    "print np.random.rand(4, 2)"
   ]
  },
  {
   "cell_type": "markdown",
   "metadata": {},
   "source": [
    "# tf.equal\n",
    "tf.equal 按指定轴对两个数组张量进行比较。    \n",
    ". 参与比较的两个数组张量维度必须一致，  \n",
    ". 返回结果的维数与参与比较维度的秩一致，返回的元素值为True 或 False  \n",
    ". 行为与两个np array 使用 == 操作符比较结果按行做与操作后结果类似"
   ]
  },
  {
   "cell_type": "code",
   "execution_count": 219,
   "metadata": {
    "collapsed": false
   },
   "outputs": [
    {
     "name": "stdout",
     "output_type": "stream",
     "text": [
      "[ True  True False]\n",
      "[ True  True False]\n"
     ]
    }
   ],
   "source": [
    "with tf.Session() as sess:\n",
    "  y = np.array([[4, 3, 5], [9, 10, 1], [0, 4, 1]])\n",
    "  y_ = np.array([[4, 3, 5], [9, 10, 1], [10, 4, 1]])\n",
    "\n",
    "  print sess.run(tf.equal(tf.argmax(y,1), tf.argmax(y_,1))) \n",
    "  print np.prod((y == y_).astype(float), 1).astype(bool)"
   ]
  },
  {
   "cell_type": "markdown",
   "metadata": {},
   "source": [
    "# tf.argmax\n",
    "tf.argmax 返回指定数组张量指定维度下最大值的索引  \n",
    ". 对于二维数组y，tf.argmax(y,1)返回y每一行最大值的索引  \n",
    ". 与np.argmax行为类似"
   ]
  },
  {
   "cell_type": "code",
   "execution_count": 221,
   "metadata": {
    "collapsed": false,
    "scrolled": true
   },
   "outputs": [
    {
     "name": "stdout",
     "output_type": "stream",
     "text": [
      "[2 1 1]\n",
      "[2 1 1]\n"
     ]
    }
   ],
   "source": [
    "with tf.Session() as sess:\n",
    "  y = np.array([[4, 3, 5], [9, 10, 1], [0, 4, 1]])\n",
    "  y_ = np.array([[4, 3, 5], [9, 10, 1], [10, 4, 1]])\n",
    "  correct_prediction = tf.equal(tf.argmax(y,1), tf.argmax(y_,1))\n",
    "\n",
    "  print sess.run(tf.argmax(y,1))\n",
    "  print np.argmax(y, 1)"
   ]
  },
  {
   "cell_type": "markdown",
   "metadata": {},
   "source": [
    "# tf.reduce_mean\n",
    "tf.reduce_mean 按全部数据的平均值  \n",
    ". 与np.mean行为类型"
   ]
  },
  {
   "cell_type": "code",
   "execution_count": 220,
   "metadata": {
    "collapsed": false
   },
   "outputs": [
    {
     "name": "stdout",
     "output_type": "stream",
     "text": [
      "0.666667\n",
      "0.666666666667\n"
     ]
    }
   ],
   "source": [
    "with tf.Session() as sess:\n",
    "  y = np.array([[4, 3, 5], [9, 10, 1], [0, 4, 1]])\n",
    "  y_ = np.array([[4, 3, 5], [9, 10, 1], [10, 4, 1]])\n",
    "  correct_prediction = tf.equal(tf.argmax(y,1), tf.argmax(y_,1))\n",
    "  \n",
    "  print sess.run(tf.reduce_mean(tf.cast(correct_prediction, \"float\")))\n",
    "  print np.mean(np.prod((y == y_).astype(float), 1))"
   ]
  },
  {
   "cell_type": "markdown",
   "metadata": {},
   "source": [
    "# tf.segment_mean\n",
    "segment_mean将数据根据segment_ids参数按行分段，返回每段的平均值。  \n",
    ". 参数segment_ids是一维数组张量，   \n",
    ". 数组元素必须从0开始，从小到大，  \n",
    ". 两个元素要么是一样的（重复时表示占位，属于同一个片段，继续向下一行数），要么是连续的（后面的比前面的大1，表示新开始一个片段），  \n",
    ". 元素值不能超过最后一行的索引值  \n",
    "\n",
    "如：[0, 0, 1, 2] 表示第0~1行分为一段，第2行分为一段，第3行分为一段"
   ]
  },
  {
   "cell_type": "code",
   "execution_count": 222,
   "metadata": {
    "collapsed": false
   },
   "outputs": [
    {
     "name": "stdout",
     "output_type": "stream",
     "text": [
      "[[ 1.  2.  3.  4.]\n",
      " [-1. -2. -3. -4.]\n",
      " [ 5.  6.  7.  8.]\n",
      " [-2. -3. -4. -4.]]\n",
      "---------------\n",
      "[[ 0.  0.  0.  0.]\n",
      " [ 5.  6.  7.  8.]\n",
      " [-2. -3. -4. -4.]]\n",
      "---------------\n",
      "[[ 0.  0.  0.  0.]\n",
      " [ 5.  6.  7.  8.]\n",
      " [-2. -3. -4. -4.]]\n"
     ]
    }
   ],
   "source": [
    "m = np.array([[1,2,3,4], [-1,-2,-3,-4], [5,6,7,8], [-2,-3,-4,-4]])*1.0\n",
    "a = tf.constant(m)\n",
    "c = tf.segment_mean(a, tf.constant([0, 0, 1, 2]))\n",
    "with tf.Session() as sess:\n",
    "    print sess.run(a)\n",
    "    print \"---------------\"\n",
    "    print sess.run(c)\n",
    "    print \"---------------\"\n",
    "    print np.vstack((np.mean(np.vstack((m[0],m[1])),0), m[2], m[3]))"
   ]
  },
  {
   "cell_type": "markdown",
   "metadata": {},
   "source": [
    "# tf.reduce_mean\n",
    "tf.reduce_mean 按行对每一列加和后求平均值，相当于np.mean"
   ]
  },
  {
   "cell_type": "code",
   "execution_count": 223,
   "metadata": {
    "collapsed": false
   },
   "outputs": [
    {
     "name": "stdout",
     "output_type": "stream",
     "text": [
      "[ 0.75  0.75  0.75  1.  ]\n",
      "[ 0.75  0.75  0.75  1.  ]\n",
      "---------------\n",
      "[ 2.5  -2.5   6.5  -3.25]\n",
      "[ 2.5  -2.5   6.5  -3.25]\n"
     ]
    }
   ],
   "source": [
    "m = np.array([[1,2,3,4], [-1,-2,-3,-4], [5,6,7,8], [-2,-3,-4,-4]])*1.0\n",
    "a = tf.constant(m)\n",
    "with tf.Session() as sess:\n",
    "    \n",
    "    print sess.run(tf.reduce_mean(a, 0))\n",
    "    print np.mean(m, 0)\n",
    "    print \"---------------\"\n",
    "    print sess.run(tf.reduce_mean(a, 1))    \n",
    "    print np.mean(m, 1)"
   ]
  },
  {
   "cell_type": "code",
   "execution_count": null,
   "metadata": {
    "collapsed": true
   },
   "outputs": [],
   "source": []
  }
 ],
 "metadata": {
  "kernelspec": {
   "display_name": "Python 2",
   "language": "python",
   "name": "python2"
  },
  "language_info": {
   "codemirror_mode": {
    "name": "ipython",
    "version": 2
   },
   "file_extension": ".py",
   "mimetype": "text/x-python",
   "name": "python",
   "nbconvert_exporter": "python",
   "pygments_lexer": "ipython2",
   "version": "2.7.13"
  }
 },
 "nbformat": 4,
 "nbformat_minor": 2
}
