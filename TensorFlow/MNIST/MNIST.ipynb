{
 "cells": [
  {
   "cell_type": "code",
   "execution_count": 5,
   "metadata": {
    "collapsed": false,
    "deletable": true,
    "editable": true,
    "run_control": {
     "frozen": false,
     "read_only": false
    }
   },
   "outputs": [
    {
     "name": "stdout",
     "output_type": "stream",
     "text": [
      "Extracting ../../MNIST_data/train-images-idx3-ubyte.gz\n",
      "Extracting ../../MNIST_data/train-labels-idx1-ubyte.gz\n",
      "Extracting ../../MNIST_data/t10k-images-idx3-ubyte.gz\n",
      "Extracting ../../MNIST_data/t10k-labels-idx1-ubyte.gz\n",
      "WARNING:tensorflow:From <ipython-input-5-f733680be19a>:11 in <module>.: initialize_all_variables (from tensorflow.python.ops.variables) is deprecated and will be removed after 2017-03-02.\n",
      "Instructions for updating:\n",
      "Use `tf.global_variables_initializer` instead.\n",
      "0.9117\n",
      "[[  0.87224448 -10.2214241    0.33182079 ...,  11.89706039   0.13604927\n",
      "    3.68745637]\n",
      " [  5.58471489  -0.80234277  10.31338596 ..., -17.89341354   5.85748863\n",
      "   -9.57344913]\n",
      " [ -6.7474823    6.82624578   2.0124011  ...,   0.66859937   1.0513351\n",
      "   -0.96859562]\n",
      " ..., \n",
      " [ -8.36789703  -7.82768822  -4.27082491 ...,   2.16350126   5.27760029\n",
      "    6.14078236]\n",
      " [ -2.30142307  -1.35720205  -2.8698523  ...,  -5.79357052   6.45761681\n",
      "   -2.51354861]\n",
      " [  4.24283075 -11.04377937   3.78503537 ...,  -8.21087456   0.76977611\n",
      "   -3.60308051]]\n"
     ]
    }
   ],
   "source": [
    "import tensorflow as tf\n",
    "import input_data\n",
    "mnist = input_data.read_data_sets(\"../../MNIST_data/\", one_hot=True)\n",
    "x = tf.placeholder(\"float\", [None, 784])\n",
    "W = tf.Variable(tf.zeros([784,10]))\n",
    "b = tf.Variable(tf.zeros([10]))\n",
    "y = tf.nn.softmax(tf.matmul(x,W) + b)\n",
    "y_ = tf.placeholder(\"float\", [None,10]) \n",
    "cross_entropy = -tf.reduce_sum(y_*tf.log(y))\n",
    "train_step = tf.train.GradientDescentOptimizer(0.01).minimize(cross_entropy)\n",
    "init = tf.initialize_all_variables()\n",
    "with tf.Session() as sess:\n",
    "    sess.run(init)\n",
    "    for i in range(1000):\n",
    "      batch_xs, batch_ys = mnist.train.next_batch(100)\n",
    "      sess.run(train_step, feed_dict={x: batch_xs, y_: batch_ys})\n",
    "\n",
    "    correct_prediction = tf.equal(tf.argmax(y,1), tf.argmax(y_,1))\n",
    "    accuracy = tf.reduce_mean(tf.cast(correct_prediction, \"float\"))\n",
    "    print sess.run(accuracy, feed_dict={x: mnist.test.images, y_: mnist.test.labels})\n",
    "    print sess.run(tf.matmul(x,W) + b, feed_dict={x: mnist.test.images})"
   ]
  },
  {
   "cell_type": "markdown",
   "metadata": {
    "run_control": {
     "frozen": false,
     "read_only": false
    }
   },
   "source": [
    "# 准确率  \n",
    "\n",
    "激活函数|准确率 \n",
    "--|--\n",
    "tf.nn.softmax |0.9135\n",
    "tf.sigmoid |0.6718\n",
    "tf.tanh |0.098  \n",
    "tf.nn.relu |0.098  \n",
    "tf.nn.relu6 |0.098"
   ]
  },
  {
   "cell_type": "code",
   "execution_count": 79,
   "metadata": {
    "collapsed": false,
    "deletable": true,
    "editable": true,
    "run_control": {
     "frozen": false,
     "read_only": false
    }
   },
   "outputs": [
    {
     "name": "stdout",
     "output_type": "stream",
     "text": [
      "Extracting ../../MNIST_data/t10k-labels-idx1-ubyte.gz\n",
      "Extracting ../../MNIST_data/t10k-images-idx3-ubyte.gz\n",
      "['_epochs_completed', '_images', '_index_in_epoch', '_labels', '_num_examples', 'epochs_completed', 'images', 'labels', 'next_batch', 'num_examples']\n",
      "(55000, 784) (55000, 10) (10000, 10) (10000, 10) (10000,)\n",
      "784\n",
      "[7 2 1 0 4 1 4 9 5 9]\n"
     ]
    }
   ],
   "source": [
    "import sys\n",
    "sys.path.append(\"../..\")\n",
    "from DebugTools import *\n",
    "\n",
    "test_labels = input_data.extract_labels(\"../../MNIST_data/t10k-labels-idx1-ubyte.gz\", one_hot=False)\n",
    "test_images = input_data.extract_images(\"../../MNIST_data/t10k-images-idx3-ubyte.gz\")\n",
    "\n",
    "showUserDefinedProperty(mnist.train, True)\n",
    "print mnist.train.images.shape, mnist.train.labels.shape, mnist.test.labels.shape, mnist.test.labels.shape, labels.shape\n",
    "print mnist.test.images[0].size\n",
    "print labels[:10]\n"
   ]
  },
  {
   "cell_type": "code",
   "execution_count": 75,
   "metadata": {
    "collapsed": false,
    "deletable": true,
    "editable": true,
    "run_control": {
     "frozen": false,
     "read_only": false
    },
    "scrolled": true
   },
   "outputs": [
    {
     "name": "stdout",
     "output_type": "stream",
     "text": [
      "(10000, 10)\n",
      "0.0\n",
      "[7 2 1 ..., 4 5 6]\n",
      "[7 2 1 ..., 4 5 6]\n",
      "---------------------------\n",
      "[ 7 12 21 30 44 51 64 79 85 99]\n",
      "[100 116 129 130 141 155 169 177 183 194]\n",
      "---------------------------\n",
      "[ 0.  0.  0.  0.  0.  0.  0.  0.  0.  0.]\n",
      "[ 0.  0.  0.  0.  0.  0.  0.  0.  0.  0.]\n",
      "---------------------------\n",
      "[ 0.  0.  0.  0.  0.  0.  0.  1.  0.  0.]\n",
      "[ 0.  0.  1.  0.  0.  0.  0.  0.  0.  0.]\n"
     ]
    }
   ],
   "source": [
    "import numpy\n",
    "num_labels = labels.shape[0]\n",
    "num_classes = 10\n",
    "labels_dense = test_labels\n",
    "index_offset = numpy.arange(10000) * 10\n",
    "labels_one_hot = numpy.zeros((num_labels, num_classes))\n",
    "\n",
    "print labels_one_hot.shape\n",
    "print labels_one_hot.flat[0]\n",
    "print labels_dense.ravel()\n",
    "print labels_dense \n",
    "\n",
    "offset = index_offset + labels_dense.ravel()\n",
    "\n",
    "print \"---------------------------\"\n",
    "print offset[0:10]\n",
    "print offset[10:20]\n",
    "print \"---------------------------\"\n",
    "print labels_one_hot.ravel()[0:10]\n",
    "print labels_one_hot.ravel()[0:10]\n",
    "\n",
    "labels_one_hot.flat[index_offset + labels_dense.ravel()] = 1\n",
    "\n",
    "print \"---------------------------\"\n",
    "\n",
    "print labels_one_hot.ravel()[0:10]\n",
    "print labels_one_hot.ravel()[10:20]"
   ]
  },
  {
   "cell_type": "code",
   "execution_count": 100,
   "metadata": {
    "collapsed": false,
    "deletable": true,
    "editable": true,
    "run_control": {
     "frozen": false,
     "read_only": false
    }
   },
   "outputs": [
    {
     "name": "stdout",
     "output_type": "stream",
     "text": [
      "(10000, 28, 28, 1)\n",
      "(10000, 28, 28)\n"
     ]
    }
   ],
   "source": [
    "print test_images.shape\n",
    "test_images_ = test_images.reshape(10000,28,28)\n",
    "print test_images_.shape"
   ]
  },
  {
   "cell_type": "code",
   "execution_count": null,
   "metadata": {
    "collapsed": true,
    "run_control": {
     "frozen": false,
     "read_only": false
    }
   },
   "outputs": [],
   "source": []
  }
 ],
 "metadata": {
  "kernelspec": {
   "display_name": "Python 2",
   "language": "python",
   "name": "python2"
  },
  "language_info": {
   "codemirror_mode": {
    "name": "ipython",
    "version": 2
   },
   "file_extension": ".py",
   "mimetype": "text/x-python",
   "name": "python",
   "nbconvert_exporter": "python",
   "pygments_lexer": "ipython2",
   "version": "2.7.13"
  },
  "toc": {
   "colors": {
    "hover_highlight": "#DAA520",
    "running_highlight": "#FF0000",
    "selected_highlight": "#FFD700"
   },
   "moveMenuLeft": true,
   "nav_menu": {
    "height": "12px",
    "width": "252px"
   },
   "navigate_menu": true,
   "number_sections": true,
   "sideBar": true,
   "threshold": 4,
   "toc_cell": false,
   "toc_section_display": "block",
   "toc_window_display": false
  }
 },
 "nbformat": 4,
 "nbformat_minor": 2
}
