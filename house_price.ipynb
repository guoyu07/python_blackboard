{
 "cells": [
  {
   "cell_type": "code",
   "execution_count": 4,
   "metadata": {
    "collapsed": true,
    "run_control": {
     "frozen": false,
     "read_only": false
    }
   },
   "outputs": [],
   "source": [
    "def calc_price(area, evaluation_price, deal_total_price, tax_price = 0.7):\n",
    "    evaluation_total_price = evaluation_price * area\n",
    "    loan = evaluation_total_price * 0.7\n",
    "    diff = deal_total_price - evaluation_total_price\n",
    "    deal_price_percent_30 = deal_total_price * 0.3\n",
    "    agency_fee = deal_total_price * 0.02\n",
    "    tax = (1 + 1.5) / 100 * area * tax_price\n",
    "    first_pay = deal_total_price - loan + agency_fee + tax\n",
    "    return {'first_pay': first_pay , 'loan': loan, 'tax': tax, 'eval': evaluation_total_price, 'agency_fee': agency_fee}"
   ]
  },
  {
   "cell_type": "code",
   "execution_count": 10,
   "metadata": {
    "collapsed": false
   },
   "outputs": [
    {
     "data": {
      "text/plain": [
       "{'agency_fee': 2.84,\n",
       " 'eval': 114.75,\n",
       " 'first_pay': 67.21500000000002,\n",
       " 'loan': 80.32499999999999,\n",
       " 'tax': 2.7}"
      ]
     },
     "execution_count": 10,
     "metadata": {},
     "output_type": "execute_result"
    }
   ],
   "source": [
    "#凯莱丽景雅筑\n",
    "calc_price(135, 0.85, 142, 0.8)"
   ]
  },
  {
   "cell_type": "code",
   "execution_count": 15,
   "metadata": {
    "collapsed": false
   },
   "outputs": [
    {
     "data": {
      "text/plain": [
       "{'agency_fee': 2.6,\n",
       " 'eval': 81.57600000000001,\n",
       " 'first_pay': 77.5362,\n",
       " 'loan': 57.1032,\n",
       " 'tax': 2.0394}"
      ]
     },
     "execution_count": 15,
     "metadata": {},
     "output_type": "execute_result"
    }
   ],
   "source": [
    "#怡丰新城\n",
    "calc_price(101.97, 0.8, 130, 0.8)"
   ]
  },
  {
   "cell_type": "code",
   "execution_count": null,
   "metadata": {
    "collapsed": true
   },
   "outputs": [],
   "source": []
  }
 ],
 "metadata": {
  "kernelspec": {
   "display_name": "Python 2",
   "language": "python",
   "name": "python2"
  },
  "language_info": {
   "codemirror_mode": {
    "name": "ipython",
    "version": 2
   },
   "file_extension": ".py",
   "mimetype": "text/x-python",
   "name": "python",
   "nbconvert_exporter": "python",
   "pygments_lexer": "ipython2",
   "version": "2.7.13"
  },
  "toc": {
   "colors": {
    "hover_highlight": "#DAA520",
    "running_highlight": "#FF0000",
    "selected_highlight": "#FFD700"
   },
   "moveMenuLeft": true,
   "nav_menu": {
    "height": "12px",
    "width": "252px"
   },
   "navigate_menu": true,
   "number_sections": true,
   "sideBar": true,
   "threshold": 4,
   "toc_cell": false,
   "toc_section_display": "block",
   "toc_window_display": false
  }
 },
 "nbformat": 4,
 "nbformat_minor": 2
}
