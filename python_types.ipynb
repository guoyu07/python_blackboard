{
 "cells": [
  {
   "cell_type": "code",
   "execution_count": 12,
   "metadata": {
    "collapsed": false
   },
   "outputs": [
    {
     "name": "stdout",
     "output_type": "stream",
     "text": [
      "<type 'classobj'>\n",
      "<type 'type'>\n",
      "<type 'type'>\n",
      "<type 'type'>\n",
      "\n",
      "<type 'instance'>\n",
      "<class '__main__.B'>\n",
      "<type 'type'>\n",
      "<type 'type'>\n",
      "\n",
      "__main__.A\n",
      "<class '__main__.B'>\n",
      "\n",
      "()\n",
      "(<type 'object'>,)\n",
      "(<type 'object'>,)\n",
      "(<type 'object'>,)\n"
     ]
    }
   ],
   "source": [
    "class A():\n",
    "    def __init__(self):\n",
    "        pass\n",
    "    \n",
    "class B(object):\n",
    "    def __init__(self):\n",
    "        pass\n",
    "\n",
    "a = A()\n",
    "b = B()\n",
    "print(type(A))\n",
    "print(type(B))\n",
    "print(type(type(A)))\n",
    "print(type(type(B)))\n",
    "\n",
    "print(\"\")\n",
    "print(type(a))\n",
    "print(type(b))\n",
    "print(type(type(a)))\n",
    "print(type(type(b)))\n",
    "\n",
    "print(\"\")\n",
    "print(a.__class__)\n",
    "print(b.__class__)\n",
    "\n",
    "print(\"\")\n",
    "print(A.__bases__)\n",
    "print(B.__bases__)\n",
    "print(type(a).__bases__)\n",
    "print(type(b).__bases__)"
   ]
  },
  {
   "cell_type": "code",
   "execution_count": 2,
   "metadata": {
    "collapsed": false
   },
   "outputs": [
    {
     "name": "stdout",
     "output_type": "stream",
     "text": [
      "<type 'type'>\n",
      "<type 'object'>\n",
      "<type 'type'>\n",
      "<type 'type'>\n",
      "(<type 'object'>,)\n",
      "()\n",
      "<type 'type'>\n",
      "<type 'type'>\n"
     ]
    }
   ],
   "source": [
    "print(type)\n",
    "print(object)\n",
    "print(type.__class__)\n",
    "print(object.__class__)\n",
    "print(type.__bases__)\n",
    "print(object.__bases__)\n",
    "print(type(type))\n",
    "print(type(object))"
   ]
  },
  {
   "cell_type": "code",
   "execution_count": 7,
   "metadata": {
    "collapsed": false
   },
   "outputs": [
    {
     "name": "stdout",
     "output_type": "stream",
     "text": [
      "True\n",
      "True\n",
      "True\n",
      "True\n",
      "\n",
      "True\n",
      "True\n",
      "False\n",
      "False\n",
      "\n",
      "True\n",
      "True\n"
     ]
    },
    {
     "ename": "TypeError",
     "evalue": "issubclass() arg 1 must be a class",
     "output_type": "error",
     "traceback": [
      "\u001b[0;31m\u001b[0m",
      "\u001b[0;31mTypeError\u001b[0mTraceback (most recent call last)",
      "\u001b[0;32m<ipython-input-7-c1ee71dc3c7b>\u001b[0m in \u001b[0;36m<module>\u001b[0;34m()\u001b[0m\n\u001b[1;32m     11\u001b[0m \u001b[0;32mprint\u001b[0m\u001b[0;34m(\u001b[0m\u001b[0missubclass\u001b[0m\u001b[0;34m(\u001b[0m\u001b[0mobject\u001b[0m\u001b[0;34m,\u001b[0m \u001b[0mobject\u001b[0m\u001b[0;34m)\u001b[0m\u001b[0;34m)\u001b[0m\u001b[0;34m\u001b[0m\u001b[0m\n\u001b[1;32m     12\u001b[0m \u001b[0;32mprint\u001b[0m\u001b[0;34m(\u001b[0m\u001b[0missubclass\u001b[0m\u001b[0;34m(\u001b[0m\u001b[0mtype\u001b[0m\u001b[0;34m,\u001b[0m \u001b[0mobject\u001b[0m\u001b[0;34m)\u001b[0m\u001b[0;34m)\u001b[0m\u001b[0;34m\u001b[0m\u001b[0m\n\u001b[0;32m---> 13\u001b[0;31m \u001b[0;32mprint\u001b[0m\u001b[0;34m(\u001b[0m\u001b[0missubclass\u001b[0m\u001b[0;34m(\u001b[0m\u001b[0;36m2\u001b[0m\u001b[0;34m,\u001b[0m \u001b[0mobject\u001b[0m\u001b[0;34m)\u001b[0m\u001b[0;34m)\u001b[0m\u001b[0;34m\u001b[0m\u001b[0m\n\u001b[0m\u001b[1;32m     14\u001b[0m \u001b[0;32mprint\u001b[0m\u001b[0;34m(\u001b[0m\u001b[0missubclass\u001b[0m\u001b[0;34m(\u001b[0m\u001b[0;34m\"haha\"\u001b[0m\u001b[0;34m,\u001b[0m \u001b[0mobject\u001b[0m\u001b[0;34m)\u001b[0m\u001b[0;34m)\u001b[0m\u001b[0;34m\u001b[0m\u001b[0m\n\u001b[1;32m     15\u001b[0m \u001b[0;32mprint\u001b[0m\u001b[0;34m(\u001b[0m\u001b[0;34m\"\"\u001b[0m\u001b[0;34m)\u001b[0m\u001b[0;34m\u001b[0m\u001b[0m\n",
      "\u001b[0;31mTypeError\u001b[0m: issubclass() arg 1 must be a class"
     ]
    }
   ],
   "source": [
    "print(isinstance(object, object))\n",
    "print(isinstance(type, object))\n",
    "print(isinstance(2, object))\n",
    "print(isinstance(\"haha\", object))\n",
    "print(\"\")\n",
    "print(isinstance(object, type))\n",
    "print(isinstance(type, type))\n",
    "print(isinstance(2, type))\n",
    "print(isinstance(\"haha\", type))\n",
    "print(\"\")\n",
    "print(issubclass(object, object))\n",
    "print(issubclass(type, object))\n",
    "print(issubclass(2, object))\n",
    "print(issubclass(\"haha\", object))\n",
    "print(\"\")"
   ]
  },
  {
   "cell_type": "code",
   "execution_count": null,
   "metadata": {
    "collapsed": true
   },
   "outputs": [],
   "source": []
  }
 ],
 "metadata": {
  "kernelspec": {
   "display_name": "Python 2",
   "language": "python",
   "name": "python2"
  },
  "language_info": {
   "codemirror_mode": {
    "name": "ipython",
    "version": 2
   },
   "file_extension": ".py",
   "mimetype": "text/x-python",
   "name": "python",
   "nbconvert_exporter": "python",
   "pygments_lexer": "ipython2",
   "version": "2.7.13"
  }
 },
 "nbformat": 4,
 "nbformat_minor": 2
}
