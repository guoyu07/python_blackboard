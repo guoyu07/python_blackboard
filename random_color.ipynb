{
 "cells": [
  {
   "cell_type": "markdown",
   "metadata": {},
   "source": [
    "# 随机生成颜色\n",
    "参考:[How to Generate Random Colors Programmatically](https://martin.ankerl.com/2009/12/09/how-to-create-random-colors-programmatically)"
   ]
  },
  {
   "cell_type": "code",
   "execution_count": 3,
   "metadata": {
    "collapsed": false
   },
   "outputs": [],
   "source": [
    "import random\n",
    "golden_ratio_conjugate = 0.618033988749895\n",
    "\n",
    "def hsv_to_rgb(h, s, v):\n",
    "    h_i = int(h*6)\n",
    "    f = h*6 - h_i\n",
    "    p = v * (1 - s)\n",
    "    q = v * (1 - f*s)\n",
    "    t = v * (1 - (1 - f) * s)\n",
    "    if h_i==0:\n",
    "        r, g, b = v, t, p\n",
    "    if h_i==1:\n",
    "        r, g, b = q, v, p\n",
    "    if h_i==2:\n",
    "        r, g, b = p, v, t \n",
    "    if h_i==3:\n",
    "        r, g, b = p, q, v \n",
    "    if h_i==4:\n",
    "        r, g, b = t, p, v \n",
    "    if h_i==5:\n",
    "        r, g, b = v, p, q \n",
    "    return [int(r*256), int(g*256), int(b*256)]\n",
    "\n",
    "def rgb2hex(r, g, b):\n",
    "    return \"#{:02x}{:02x}{:02x}\".format(r, g, b)\n",
    "\n",
    "def random_color(num):\n",
    "    colors = []\n",
    "    for i in range(num):\n",
    "        h = random.random()\n",
    "        h += golden_ratio_conjugate\n",
    "        h %= 1\n",
    "        r, g, b = hsv_to_rgb(h, 0.5, 0.95)\n",
    "        colors.append(rgb2hex(r, g, b))\n",
    "    return colors"
   ]
  },
  {
   "cell_type": "markdown",
   "metadata": {},
   "source": [
    "# 效果演示"
   ]
  },
  {
   "cell_type": "code",
   "execution_count": 26,
   "metadata": {
    "collapsed": false
   },
   "outputs": [
    {
     "data": {
      "text/html": [
       "<span style=\"background-color:#f3a879; padding:5px; -moz-border-radius:3px; -webkit-border-radius:3px;\">A</span> <span style=\"background-color:#f37986; padding:5px; -moz-border-radius:3px; -webkit-border-radius:3px;\">B</span> <span style=\"background-color:#f379da; padding:5px; -moz-border-radius:3px; -webkit-border-radius:3px;\">C</span> <span style=\"background-color:#9379f3; padding:5px; -moz-border-radius:3px; -webkit-border-radius:3px;\">D</span> <span style=\"background-color:#79f3e2; padding:5px; -moz-border-radius:3px; -webkit-border-radius:3px;\">E</span> <span style=\"background-color:#86f379; padding:5px; -moz-border-radius:3px; -webkit-border-radius:3px;\">F</span> <span style=\"background-color:#79f3bb; padding:5px; -moz-border-radius:3px; -webkit-border-radius:3px;\">G</span> <span style=\"background-color:#7984f3; padding:5px; -moz-border-radius:3px; -webkit-border-radius:3px;\">H</span> <span style=\"background-color:#79f3f2; padding:5px; -moz-border-radius:3px; -webkit-border-radius:3px;\">I</span> <span style=\"background-color:#a8f379; padding:5px; -moz-border-radius:3px; -webkit-border-radius:3px;\">J</span> <span style=\"background-color:#f379a9; padding:5px; -moz-border-radius:3px; -webkit-border-radius:3px;\">K</span> <span style=\"background-color:#79f3bc; padding:5px; -moz-border-radius:3px; -webkit-border-radius:3px;\">L</span> <span style=\"background-color:#f38779; padding:5px; -moz-border-radius:3px; -webkit-border-radius:3px;\">M</span> <span style=\"background-color:#797af3; padding:5px; -moz-border-radius:3px; -webkit-border-radius:3px;\">N</span> <span style=\"background-color:#bbf379; padding:5px; -moz-border-radius:3px; -webkit-border-radius:3px;\">O</span> <span style=\"background-color:#f379e2; padding:5px; -moz-border-radius:3px; -webkit-border-radius:3px;\">P</span> <span style=\"background-color:#79f3df; padding:5px; -moz-border-radius:3px; -webkit-border-radius:3px;\">Q</span> <span style=\"background-color:#f379bd; padding:5px; -moz-border-radius:3px; -webkit-border-radius:3px;\">R</span> <span style=\"background-color:#f37996; padding:5px; -moz-border-radius:3px; -webkit-border-radius:3px;\">S</span> <span style=\"background-color:#79a4f3; padding:5px; -moz-border-radius:3px; -webkit-border-radius:3px;\">T</span> <span style=\"background-color:#e479f3; padding:5px; -moz-border-radius:3px; -webkit-border-radius:3px;\">U</span> <span style=\"background-color:#79f390; padding:5px; -moz-border-radius:3px; -webkit-border-radius:3px;\">V</span> <span style=\"background-color:#f379af; padding:5px; -moz-border-radius:3px; -webkit-border-radius:3px;\">W</span> <span style=\"background-color:#79b8f3; padding:5px; -moz-border-radius:3px; -webkit-border-radius:3px;\">X</span> <span style=\"background-color:#7ef379; padding:5px; -moz-border-radius:3px; -webkit-border-radius:3px;\">Y</span> "
      ],
      "text/plain": [
       "<IPython.core.display.HTML object>"
      ]
     },
     "metadata": {},
     "output_type": "display_data"
    },
    {
     "data": {
      "text/plain": [
       "['#f3a879',\n",
       " '#f37986',\n",
       " '#f379da',\n",
       " '#9379f3',\n",
       " '#79f3e2',\n",
       " '#86f379',\n",
       " '#79f3bb',\n",
       " '#7984f3',\n",
       " '#79f3f2',\n",
       " '#a8f379',\n",
       " '#f379a9',\n",
       " '#79f3bc',\n",
       " '#f38779',\n",
       " '#797af3',\n",
       " '#bbf379',\n",
       " '#f379e2',\n",
       " '#79f3df',\n",
       " '#f379bd',\n",
       " '#f37996',\n",
       " '#79a4f3',\n",
       " '#e479f3',\n",
       " '#79f390',\n",
       " '#f379af',\n",
       " '#79b8f3',\n",
       " '#7ef379']"
      ]
     },
     "metadata": {},
     "output_type": "display_data"
    }
   ],
   "source": [
    "from IPython.display import display, HTML\n",
    "\n",
    "html = \"\"\n",
    "chars = range(ord('A'), ord('Z'))\n",
    "colors = random_color(len(chars))\n",
    "for i,color in enumerate(colors):\n",
    "    html += \"<span style=\\\"background-color:{}; padding:5px; -moz-border-radius:3px; -webkit-border-radius:3px;\\\">{}</span> \".format(color, chr(chars[i]))\n",
    "display(HTML(html))\n",
    "display(colors)"
   ]
  },
  {
   "cell_type": "code",
   "execution_count": null,
   "metadata": {
    "collapsed": true
   },
   "outputs": [],
   "source": []
  }
 ],
 "metadata": {
  "kernelspec": {
   "display_name": "Python 2",
   "language": "python",
   "name": "python2"
  },
  "language_info": {
   "codemirror_mode": {
    "name": "ipython",
    "version": 2
   },
   "file_extension": ".py",
   "mimetype": "text/x-python",
   "name": "python",
   "nbconvert_exporter": "python",
   "pygments_lexer": "ipython2",
   "version": "2.7.13"
  }
 },
 "nbformat": 4,
 "nbformat_minor": 2
}
